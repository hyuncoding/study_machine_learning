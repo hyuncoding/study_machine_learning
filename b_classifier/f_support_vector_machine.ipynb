{
 "cells": [
  {
   "cell_type": "markdown",
   "id": "f768221d-b662-4288-80d2-c358a50bf052",
   "metadata": {},
   "source": [
    "### 서포트 벡터 머신 (SVM, Support Vector Machine)\n",
    "- 기존의 분류 방법들은 '오류율 최소화'의 목적으로 설계되었다면, SVM은 두 부류 사이에 존재하는 '여백 최대화'의 목적으로 설계되었다.\n",
    "- 분류 문제를 해결하는 지도 학습 모델 중 하나이며, 결정 경계라는 데이터 간 경계를 정의함으로써 분류를 할 수 있다.\n",
    "- 새로운 데이터가 경계를 기준으로 어떤 방향에 잡히는지를 확인함으로써 해당 데이터의 카테고리를 예측할 수 있다.\n",
    "- 데이터가 어느 카테고리에 속할지 판단하기 위해 가장 적절한 경계인 결정 경계를 찾는 선형 모델이다.\n",
    "\n",
    "<img src=\"./images/support_vector_machine01.png\" width=\"400px\" style=\"margin-bottom: 60px\">\n",
    "\n",
    "#### 서포트 벡터 (Support Vector)\n",
    "- 결정 경계를 결정하는 데이터(벡터)들을 서포트 벡터라고 부른다.\n",
    "- 서포트 벡터들이 결정 경계(Decision boundary)를 결정한다.\n",
    "- 서포트 벡터와 결정 경계 간의 거리를 마진(Margin)이라고 부르고, 마진이 크면 클수록 좋은 결정 경계가 된다.\n",
    "- 서포트 벡터들을 통해 결정 경계들을 결정하게 되고, 다른 학습 데이터들은 무시될 수 있기 때문에 SVM의 속도가 빠를 수 있다.\n",
    "\n",
    "#### 결정 경계 (Decision Boundary)\n",
    "- 새로운 데이터가 들어오더라도 결정 경계를 중심으로 두 집단이 멀리 떨어져 있어야 두 집단을 잘 구분할 수 있기 때문에 일반화하기 쉬워진다.\n",
    "- 예측 변수(독립 변수)의 차원보다 한 차원 낮아지며, N차원 공간에서 한 차원 낮은 N-1차원의 결정 경계가 생긴다.  \n",
    "  즉, 2차원 공간에서는 결정 경계이 선으로 결정되고, 고차원에서의 결정 경계는 선이 아닌 평면 이상의 도형이며, 이를 \"초평면(Hyperplane)\"이라고 부른다.  \n",
    "  \n",
    "<img src=\"./images/support_vector_machine02.png\" width=\"400px\" style=\"margin-bottom: 60px\">\n",
    "\n",
    "#### 하드 마진(Hard margin)\n",
    "- 매우 엄격하게 집단을 구분하는 방법으로 이상치를 허용해주지 않는 방법이다.\n",
    "- 이상치를 허용하지 않기 때문에 과적합이 발생하기 쉽고, 최적의 결정경계를 잘못 구분하거나 못 찾는 경우가 생길 수 있다.\n",
    "- C(cost)는 페널티를 조절할 수 있고, 값이 커질 수록 결정 경계가 데이터에 더 정확하게 맞춰진다.\n",
    "- 비유적으로 보면 C를 낮추면 일을 덜 하게 하는 것이고, C를 높이면 일을 더 해서 더 섬세하게 찾아내는 것이라고 볼 수 있다.\n",
    "- C가 너무 낮으면 underfitting될 가능성이 커지고, C가 너무 높으면 overfitting이 발생할 수 있다.\n",
    "\n",
    "<img src=\"./images/hard_margin.png\" width=\"350px\" style=\"margin-bottom: 60px\">\n",
    "\n",
    "#### 소프트 마진(Soft margin)\n",
    "- 이상치를 허용해서 일부 데이터를 잘못 분류하더라도 나머지 데이터를 더욱 잘 분류해주는 방법이다.\n",
    "- 이상치 허용으로 인해 데이터의 패턴을 잘 감지하지 못하는 문제점이 생길 수 있다.\n",
    "\n",
    "<img src=\"./images/soft_margin.png\" width=\"550px\" style=\"margin-bottom: 60px\">\n",
    "\n",
    "> 🎈정리  \n",
    "> 서포트 벡터 머신 알고리즘을 적용한 SVC 모델의 하이퍼파라미터인 Regularization cost, C에 값을 전달하여 ξ(페널티)를 조절할 수 있다. C가 클 수록 loss function에서 오차항인 ξ<sub>i</sub>의 영향력이 커지게 되기 때문에 마진의 크기가 줄어들고(하드 마진), 반대로 C가 작을 수록 마진의 크기가 늘어난다(소프트 마진). 적절히 조절하면 오히려 성능이 좋아질 수 있다."
   ]
  },
  {
   "cell_type": "code",
   "execution_count": null,
   "id": "61d48efd-3d34-45f4-8bd2-af1e2c10fff1",
   "metadata": {},
   "outputs": [],
   "source": []
  },
  {
   "cell_type": "code",
   "execution_count": null,
   "id": "29d922f9-0666-49f9-bf11-273e4fdb5cd9",
   "metadata": {},
   "outputs": [],
   "source": []
  },
  {
   "cell_type": "code",
   "execution_count": null,
   "id": "9a36f0f1-d145-41f6-a6b6-285a6c3b4e84",
   "metadata": {},
   "outputs": [],
   "source": []
  },
  {
   "cell_type": "code",
   "execution_count": null,
   "id": "7144ae07-1295-4e43-988b-64cc89882df0",
   "metadata": {},
   "outputs": [],
   "source": []
  },
  {
   "cell_type": "code",
   "execution_count": null,
   "id": "4044e290-5c6d-4cfe-9b1f-04c69767ac07",
   "metadata": {},
   "outputs": [],
   "source": []
  },
  {
   "cell_type": "code",
   "execution_count": null,
   "id": "21749fc0-695f-4691-b185-5fbd60ec09fc",
   "metadata": {},
   "outputs": [],
   "source": []
  },
  {
   "cell_type": "code",
   "execution_count": null,
   "id": "42a364cb-1b94-44f8-b40d-7aaacbb7d51d",
   "metadata": {},
   "outputs": [],
   "source": []
  },
  {
   "cell_type": "code",
   "execution_count": null,
   "id": "fa40c845-8762-4931-8ee9-4cb174f72432",
   "metadata": {},
   "outputs": [],
   "source": []
  },
  {
   "cell_type": "code",
   "execution_count": null,
   "id": "8a956a31-6e04-49bb-89c4-21e3a3859f22",
   "metadata": {},
   "outputs": [],
   "source": []
  },
  {
   "cell_type": "code",
   "execution_count": null,
   "id": "be4ac1ad-a2b4-44da-a177-a96d166068cb",
   "metadata": {},
   "outputs": [],
   "source": []
  },
  {
   "cell_type": "code",
   "execution_count": null,
   "id": "ddc24a76-07e7-48a1-9140-9063c6e90a27",
   "metadata": {},
   "outputs": [],
   "source": []
  },
  {
   "cell_type": "code",
   "execution_count": null,
   "id": "868e69b4-d177-4beb-ad87-14800a60717d",
   "metadata": {},
   "outputs": [],
   "source": []
  },
  {
   "cell_type": "code",
   "execution_count": null,
   "id": "87ee468e-8e1e-469c-8add-2ca26dc80dfa",
   "metadata": {},
   "outputs": [],
   "source": []
  },
  {
   "cell_type": "code",
   "execution_count": null,
   "id": "03b315c0-12a2-47bf-ad9c-340efc78eb9e",
   "metadata": {},
   "outputs": [],
   "source": []
  },
  {
   "cell_type": "code",
   "execution_count": null,
   "id": "1f0fda7c-4dc3-4225-acb0-15b1a344cd58",
   "metadata": {},
   "outputs": [],
   "source": []
  },
  {
   "cell_type": "code",
   "execution_count": null,
   "id": "969e2ca0-a3d4-4ae8-8511-86e1e6693f97",
   "metadata": {},
   "outputs": [],
   "source": []
  },
  {
   "cell_type": "code",
   "execution_count": null,
   "id": "cfbee6ca-5165-442e-a5b7-17a2c9a14a6a",
   "metadata": {},
   "outputs": [],
   "source": []
  },
  {
   "cell_type": "code",
   "execution_count": null,
   "id": "cdb95d0c-db0e-43c4-9c83-de93b3aca762",
   "metadata": {},
   "outputs": [],
   "source": []
  },
  {
   "cell_type": "code",
   "execution_count": null,
   "id": "4e7e211f-dd3e-4c98-b7b9-26448f8daccc",
   "metadata": {},
   "outputs": [],
   "source": []
  },
  {
   "cell_type": "code",
   "execution_count": null,
   "id": "5afe9aaf-2fb6-49af-8ef1-7ce453236919",
   "metadata": {},
   "outputs": [],
   "source": []
  },
  {
   "cell_type": "code",
   "execution_count": null,
   "id": "c9203ebc-ff02-4d9f-ab22-303b8ac8f20d",
   "metadata": {},
   "outputs": [],
   "source": []
  },
  {
   "cell_type": "code",
   "execution_count": null,
   "id": "e557a61b-2df5-45a2-9e97-f55ec7a6edd7",
   "metadata": {},
   "outputs": [],
   "source": []
  },
  {
   "cell_type": "code",
   "execution_count": null,
   "id": "fc7dee27-3483-48b7-8d43-250c63501c41",
   "metadata": {},
   "outputs": [],
   "source": []
  },
  {
   "cell_type": "code",
   "execution_count": null,
   "id": "4f90d2e7-5c55-4956-9f5b-c9820476e118",
   "metadata": {},
   "outputs": [],
   "source": []
  },
  {
   "cell_type": "code",
   "execution_count": null,
   "id": "f1a0df64-0cd3-4e68-94b2-54efbe8dcca5",
   "metadata": {},
   "outputs": [],
   "source": []
  },
  {
   "cell_type": "code",
   "execution_count": null,
   "id": "70dc7d71-1565-4e57-94f9-8c8adac6a1df",
   "metadata": {},
   "outputs": [],
   "source": []
  },
  {
   "cell_type": "code",
   "execution_count": null,
   "id": "9c859866-7460-448d-9fa7-7bdf605c90e8",
   "metadata": {},
   "outputs": [],
   "source": []
  },
  {
   "cell_type": "code",
   "execution_count": null,
   "id": "b1db823e-ac3e-4f96-9938-c0c5f344ae8d",
   "metadata": {},
   "outputs": [],
   "source": []
  },
  {
   "cell_type": "code",
   "execution_count": null,
   "id": "ef498a2f-a034-45ab-b3d2-6fa50c2c910e",
   "metadata": {},
   "outputs": [],
   "source": []
  },
  {
   "cell_type": "code",
   "execution_count": null,
   "id": "50989f01-5459-461a-a967-e45ea5a78f04",
   "metadata": {},
   "outputs": [],
   "source": []
  },
  {
   "cell_type": "code",
   "execution_count": null,
   "id": "b7ab35d2-47aa-40b7-a3e5-a9f7099f7ea5",
   "metadata": {},
   "outputs": [],
   "source": []
  },
  {
   "cell_type": "code",
   "execution_count": null,
   "id": "331b03d7-2bb4-4de7-9ff7-83a6acf60f46",
   "metadata": {},
   "outputs": [],
   "source": []
  },
  {
   "cell_type": "code",
   "execution_count": null,
   "id": "239bc902-edee-41c5-986b-8ba095186d68",
   "metadata": {},
   "outputs": [],
   "source": []
  },
  {
   "cell_type": "code",
   "execution_count": null,
   "id": "bb8568c7-df51-4276-952d-8cd7da628771",
   "metadata": {},
   "outputs": [],
   "source": []
  },
  {
   "cell_type": "code",
   "execution_count": null,
   "id": "598b74d2-c501-4b82-9f8c-87b1a0b19ba5",
   "metadata": {},
   "outputs": [],
   "source": []
  },
  {
   "cell_type": "code",
   "execution_count": null,
   "id": "f6e6c7f7-b8f8-42d7-bf4c-eea4d82717fe",
   "metadata": {},
   "outputs": [],
   "source": []
  },
  {
   "cell_type": "code",
   "execution_count": null,
   "id": "e67df614-8f33-4d62-96e2-a533bf1f8c8c",
   "metadata": {},
   "outputs": [],
   "source": []
  },
  {
   "cell_type": "code",
   "execution_count": null,
   "id": "9f66b331-630b-4f09-b585-b68820a8ec94",
   "metadata": {},
   "outputs": [],
   "source": []
  }
 ],
 "metadata": {
  "kernelspec": {
   "display_name": "Python 3 (ipykernel)",
   "language": "python",
   "name": "python3"
  },
  "language_info": {
   "codemirror_mode": {
    "name": "ipython",
    "version": 3
   },
   "file_extension": ".py",
   "mimetype": "text/x-python",
   "name": "python",
   "nbconvert_exporter": "python",
   "pygments_lexer": "ipython3",
   "version": "3.11.8"
  }
 },
 "nbformat": 4,
 "nbformat_minor": 5
}
