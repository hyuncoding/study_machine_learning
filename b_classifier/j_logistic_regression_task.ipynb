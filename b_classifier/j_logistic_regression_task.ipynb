{
 "cells": [
  {
   "cell_type": "markdown",
   "id": "6dd5bbec-df8e-42e7-b7ef-ccc15d600a76",
   "metadata": {},
   "source": [
    "### Logistic Regression task\n",
    "\n",
    "- 기계 센서 데이터를 통해 고장 여부를 예측하는 분류기를 모델화한다."
   ]
  },
  {
   "cell_type": "code",
   "execution_count": 1,
   "id": "6dece0f9-56a4-4450-96ca-4c70f9b58896",
   "metadata": {},
   "outputs": [
    {
     "data": {
      "text/html": [
       "<div>\n",
       "<style scoped>\n",
       "    .dataframe tbody tr th:only-of-type {\n",
       "        vertical-align: middle;\n",
       "    }\n",
       "\n",
       "    .dataframe tbody tr th {\n",
       "        vertical-align: top;\n",
       "    }\n",
       "\n",
       "    .dataframe thead th {\n",
       "        text-align: right;\n",
       "    }\n",
       "</style>\n",
       "<table border=\"1\" class=\"dataframe\">\n",
       "  <thead>\n",
       "    <tr style=\"text-align: right;\">\n",
       "      <th></th>\n",
       "      <th>Rotational speed [rpm]</th>\n",
       "      <th>Torque [Nm]</th>\n",
       "      <th>Tool wear [min]</th>\n",
       "      <th>TWF</th>\n",
       "      <th>HDF</th>\n",
       "      <th>PWF</th>\n",
       "      <th>OSF</th>\n",
       "      <th>Machine failure</th>\n",
       "    </tr>\n",
       "  </thead>\n",
       "  <tbody>\n",
       "    <tr>\n",
       "      <th>0</th>\n",
       "      <td>1551</td>\n",
       "      <td>42.8</td>\n",
       "      <td>0</td>\n",
       "      <td>0</td>\n",
       "      <td>0</td>\n",
       "      <td>0</td>\n",
       "      <td>0</td>\n",
       "      <td>0</td>\n",
       "    </tr>\n",
       "    <tr>\n",
       "      <th>1</th>\n",
       "      <td>1408</td>\n",
       "      <td>46.3</td>\n",
       "      <td>3</td>\n",
       "      <td>0</td>\n",
       "      <td>0</td>\n",
       "      <td>0</td>\n",
       "      <td>0</td>\n",
       "      <td>0</td>\n",
       "    </tr>\n",
       "    <tr>\n",
       "      <th>2</th>\n",
       "      <td>1498</td>\n",
       "      <td>49.4</td>\n",
       "      <td>5</td>\n",
       "      <td>0</td>\n",
       "      <td>0</td>\n",
       "      <td>0</td>\n",
       "      <td>0</td>\n",
       "      <td>0</td>\n",
       "    </tr>\n",
       "    <tr>\n",
       "      <th>3</th>\n",
       "      <td>1433</td>\n",
       "      <td>39.5</td>\n",
       "      <td>7</td>\n",
       "      <td>0</td>\n",
       "      <td>0</td>\n",
       "      <td>0</td>\n",
       "      <td>0</td>\n",
       "      <td>0</td>\n",
       "    </tr>\n",
       "    <tr>\n",
       "      <th>4</th>\n",
       "      <td>1408</td>\n",
       "      <td>40.0</td>\n",
       "      <td>9</td>\n",
       "      <td>0</td>\n",
       "      <td>0</td>\n",
       "      <td>0</td>\n",
       "      <td>0</td>\n",
       "      <td>0</td>\n",
       "    </tr>\n",
       "    <tr>\n",
       "      <th>...</th>\n",
       "      <td>...</td>\n",
       "      <td>...</td>\n",
       "      <td>...</td>\n",
       "      <td>...</td>\n",
       "      <td>...</td>\n",
       "      <td>...</td>\n",
       "      <td>...</td>\n",
       "      <td>...</td>\n",
       "    </tr>\n",
       "    <tr>\n",
       "      <th>9810</th>\n",
       "      <td>1604</td>\n",
       "      <td>29.5</td>\n",
       "      <td>14</td>\n",
       "      <td>0</td>\n",
       "      <td>0</td>\n",
       "      <td>0</td>\n",
       "      <td>0</td>\n",
       "      <td>0</td>\n",
       "    </tr>\n",
       "    <tr>\n",
       "      <th>9811</th>\n",
       "      <td>1632</td>\n",
       "      <td>31.8</td>\n",
       "      <td>17</td>\n",
       "      <td>0</td>\n",
       "      <td>0</td>\n",
       "      <td>0</td>\n",
       "      <td>0</td>\n",
       "      <td>0</td>\n",
       "    </tr>\n",
       "    <tr>\n",
       "      <th>9812</th>\n",
       "      <td>1645</td>\n",
       "      <td>33.4</td>\n",
       "      <td>22</td>\n",
       "      <td>0</td>\n",
       "      <td>0</td>\n",
       "      <td>0</td>\n",
       "      <td>0</td>\n",
       "      <td>0</td>\n",
       "    </tr>\n",
       "    <tr>\n",
       "      <th>9813</th>\n",
       "      <td>1408</td>\n",
       "      <td>48.5</td>\n",
       "      <td>25</td>\n",
       "      <td>0</td>\n",
       "      <td>0</td>\n",
       "      <td>0</td>\n",
       "      <td>0</td>\n",
       "      <td>0</td>\n",
       "    </tr>\n",
       "    <tr>\n",
       "      <th>9814</th>\n",
       "      <td>1500</td>\n",
       "      <td>40.2</td>\n",
       "      <td>30</td>\n",
       "      <td>0</td>\n",
       "      <td>0</td>\n",
       "      <td>0</td>\n",
       "      <td>0</td>\n",
       "      <td>0</td>\n",
       "    </tr>\n",
       "  </tbody>\n",
       "</table>\n",
       "<p>9815 rows × 8 columns</p>\n",
       "</div>"
      ],
      "text/plain": [
       "      Rotational speed [rpm]  Torque [Nm]  Tool wear [min]  TWF  HDF  PWF  \\\n",
       "0                       1551         42.8                0    0    0    0   \n",
       "1                       1408         46.3                3    0    0    0   \n",
       "2                       1498         49.4                5    0    0    0   \n",
       "3                       1433         39.5                7    0    0    0   \n",
       "4                       1408         40.0                9    0    0    0   \n",
       "...                      ...          ...              ...  ...  ...  ...   \n",
       "9810                    1604         29.5               14    0    0    0   \n",
       "9811                    1632         31.8               17    0    0    0   \n",
       "9812                    1645         33.4               22    0    0    0   \n",
       "9813                    1408         48.5               25    0    0    0   \n",
       "9814                    1500         40.2               30    0    0    0   \n",
       "\n",
       "      OSF  Machine failure  \n",
       "0       0                0  \n",
       "1       0                0  \n",
       "2       0                0  \n",
       "3       0                0  \n",
       "4       0                0  \n",
       "...   ...              ...  \n",
       "9810    0                0  \n",
       "9811    0                0  \n",
       "9812    0                0  \n",
       "9813    0                0  \n",
       "9814    0                0  \n",
       "\n",
       "[9815 rows x 8 columns]"
      ]
     },
     "execution_count": 1,
     "metadata": {},
     "output_type": "execute_result"
    }
   ],
   "source": [
    "import pandas as pd\n",
    "\n",
    "m_df = pd.read_csv('./datasets/machine.csv')\n",
    "m_df"
   ]
  },
  {
   "cell_type": "code",
   "execution_count": 2,
   "id": "2f08bd11-a7f7-4b41-bef9-06113c5c96f9",
   "metadata": {},
   "outputs": [
    {
     "name": "stdout",
     "output_type": "stream",
     "text": [
      "<class 'pandas.core.frame.DataFrame'>\n",
      "RangeIndex: 9815 entries, 0 to 9814\n",
      "Data columns (total 8 columns):\n",
      " #   Column                  Non-Null Count  Dtype  \n",
      "---  ------                  --------------  -----  \n",
      " 0   Rotational speed [rpm]  9815 non-null   int64  \n",
      " 1   Torque [Nm]             9815 non-null   float64\n",
      " 2   Tool wear [min]         9815 non-null   int64  \n",
      " 3   TWF                     9815 non-null   int64  \n",
      " 4   HDF                     9815 non-null   int64  \n",
      " 5   PWF                     9815 non-null   int64  \n",
      " 6   OSF                     9815 non-null   int64  \n",
      " 7   Machine failure         9815 non-null   int64  \n",
      "dtypes: float64(1), int64(7)\n",
      "memory usage: 613.6 KB\n"
     ]
    }
   ],
   "source": [
    "m_df.info()"
   ]
  },
  {
   "cell_type": "code",
   "execution_count": 3,
   "id": "749e5be0-60ed-4b01-b26d-92fab130bed7",
   "metadata": {},
   "outputs": [
    {
     "data": {
      "text/plain": [
       "Rotational speed [rpm]    0\n",
       "Torque [Nm]               0\n",
       "Tool wear [min]           0\n",
       "TWF                       0\n",
       "HDF                       0\n",
       "PWF                       0\n",
       "OSF                       0\n",
       "Machine failure           0\n",
       "dtype: int64"
      ]
     },
     "execution_count": 3,
     "metadata": {},
     "output_type": "execute_result"
    }
   ],
   "source": [
    "m_df.isna().sum()"
   ]
  },
  {
   "cell_type": "code",
   "execution_count": 4,
   "id": "9d49f5f4-913e-4873-a743-85bc1e7069f2",
   "metadata": {},
   "outputs": [
    {
     "data": {
      "text/plain": [
       "6"
      ]
     },
     "execution_count": 4,
     "metadata": {},
     "output_type": "execute_result"
    }
   ],
   "source": [
    "m_df.duplicated().sum()"
   ]
  },
  {
   "cell_type": "code",
   "execution_count": 5,
   "id": "9350af0f-5444-4831-828c-af775632ff2f",
   "metadata": {},
   "outputs": [
    {
     "data": {
      "text/plain": [
       "0"
      ]
     },
     "execution_count": 5,
     "metadata": {},
     "output_type": "execute_result"
    }
   ],
   "source": [
    "m_df = m_df.drop_duplicates()\n",
    "m_df.duplicated().sum()"
   ]
  },
  {
   "cell_type": "code",
   "execution_count": 6,
   "id": "a527e91b-f4dc-4f98-aa63-aba77267826b",
   "metadata": {},
   "outputs": [
    {
     "data": {
      "text/plain": [
       "array([[<Axes: title={'center': 'Rotational speed [rpm]'}>,\n",
       "        <Axes: title={'center': 'Torque [Nm]'}>,\n",
       "        <Axes: title={'center': 'Tool wear [min]'}>],\n",
       "       [<Axes: title={'center': 'TWF'}>, <Axes: title={'center': 'HDF'}>,\n",
       "        <Axes: title={'center': 'PWF'}>],\n",
       "       [<Axes: title={'center': 'OSF'}>,\n",
       "        <Axes: title={'center': 'Machine failure'}>, <Axes: >]],\n",
       "      dtype=object)"
      ]
     },
     "execution_count": 6,
     "metadata": {},
     "output_type": "execute_result"
    },
    {
     "data": {
      "image/png": "[encoded data removed]",
      "text/plain": [
       "<Figure size 1000x1000 with 9 Axes>"
      ]
     },
     "metadata": {},
     "output_type": "display_data"
    }
   ],
   "source": [
    "m_df.hist(figsize=(10, 10))"
   ]
  },
  {
   "cell_type": "code",
   "execution_count": 7,
   "id": "09bfb95b-12c8-41ac-8c7e-5de52543a696",
   "metadata": {},
   "outputs": [
    {
     "data": {
      "text/html": [
       "<div>\n",
       "<style scoped>\n",
       "    .dataframe tbody tr th:only-of-type {\n",
       "        vertical-align: middle;\n",
       "    }\n",
       "\n",
       "    .dataframe tbody tr th {\n",
       "        vertical-align: top;\n",
       "    }\n",
       "\n",
       "    .dataframe thead th {\n",
       "        text-align: right;\n",
       "    }\n",
       "</style>\n",
       "<table border=\"1\" class=\"dataframe\">\n",
       "  <thead>\n",
       "    <tr style=\"text-align: right;\">\n",
       "      <th></th>\n",
       "      <th>Rotational speed [rpm]</th>\n",
       "      <th>Torque [Nm]</th>\n",
       "      <th>Tool wear [min]</th>\n",
       "      <th>TWF</th>\n",
       "      <th>HDF</th>\n",
       "      <th>PWF</th>\n",
       "      <th>OSF</th>\n",
       "      <th>Machine failure</th>\n",
       "    </tr>\n",
       "  </thead>\n",
       "  <tbody>\n",
       "    <tr>\n",
       "      <th>Rotational speed [rpm]</th>\n",
       "      <td>1.000000</td>\n",
       "      <td>-0.896295</td>\n",
       "      <td>0.001774</td>\n",
       "      <td>0.005323</td>\n",
       "      <td>-0.139830</td>\n",
       "      <td>-0.073808</td>\n",
       "      <td>-0.115413</td>\n",
       "      <td>-0.169259</td>\n",
       "    </tr>\n",
       "    <tr>\n",
       "      <th>Torque [Nm]</th>\n",
       "      <td>-0.896295</td>\n",
       "      <td>1.000000</td>\n",
       "      <td>-0.003334</td>\n",
       "      <td>-0.011190</td>\n",
       "      <td>0.148398</td>\n",
       "      <td>0.173543</td>\n",
       "      <td>0.182091</td>\n",
       "      <td>0.236346</td>\n",
       "    </tr>\n",
       "    <tr>\n",
       "      <th>Tool wear [min]</th>\n",
       "      <td>0.001774</td>\n",
       "      <td>-0.003334</td>\n",
       "      <td>1.000000</td>\n",
       "      <td>0.114036</td>\n",
       "      <td>-0.001260</td>\n",
       "      <td>-0.009493</td>\n",
       "      <td>0.154983</td>\n",
       "      <td>0.115266</td>\n",
       "    </tr>\n",
       "    <tr>\n",
       "      <th>TWF</th>\n",
       "      <td>0.005323</td>\n",
       "      <td>-0.011190</td>\n",
       "      <td>0.114036</td>\n",
       "      <td>1.000000</td>\n",
       "      <td>-0.007311</td>\n",
       "      <td>0.018324</td>\n",
       "      <td>0.040376</td>\n",
       "      <td>0.387342</td>\n",
       "    </tr>\n",
       "    <tr>\n",
       "      <th>HDF</th>\n",
       "      <td>-0.139830</td>\n",
       "      <td>0.148398</td>\n",
       "      <td>-0.001260</td>\n",
       "      <td>-0.007311</td>\n",
       "      <td>1.000000</td>\n",
       "      <td>0.035208</td>\n",
       "      <td>0.047616</td>\n",
       "      <td>0.628494</td>\n",
       "    </tr>\n",
       "    <tr>\n",
       "      <th>PWF</th>\n",
       "      <td>-0.073808</td>\n",
       "      <td>0.173543</td>\n",
       "      <td>-0.009493</td>\n",
       "      <td>0.018324</td>\n",
       "      <td>0.035208</td>\n",
       "      <td>1.000000</td>\n",
       "      <td>0.118673</td>\n",
       "      <td>0.387342</td>\n",
       "    </tr>\n",
       "    <tr>\n",
       "      <th>OSF</th>\n",
       "      <td>-0.115413</td>\n",
       "      <td>0.182091</td>\n",
       "      <td>0.154983</td>\n",
       "      <td>0.040376</td>\n",
       "      <td>0.047616</td>\n",
       "      <td>0.118673</td>\n",
       "      <td>1.000000</td>\n",
       "      <td>0.567605</td>\n",
       "    </tr>\n",
       "    <tr>\n",
       "      <th>Machine failure</th>\n",
       "      <td>-0.169259</td>\n",
       "      <td>0.236346</td>\n",
       "      <td>0.115266</td>\n",
       "      <td>0.387342</td>\n",
       "      <td>0.628494</td>\n",
       "      <td>0.387342</td>\n",
       "      <td>0.567605</td>\n",
       "      <td>1.000000</td>\n",
       "    </tr>\n",
       "  </tbody>\n",
       "</table>\n",
       "</div>"
      ],
      "text/plain": [
       "                        Rotational speed [rpm]  Torque [Nm]  Tool wear [min]  \\\n",
       "Rotational speed [rpm]                1.000000    -0.896295         0.001774   \n",
       "Torque [Nm]                          -0.896295     1.000000        -0.003334   \n",
       "Tool wear [min]                       0.001774    -0.003334         1.000000   \n",
       "TWF                                   0.005323    -0.011190         0.114036   \n",
       "HDF                                  -0.139830     0.148398        -0.001260   \n",
       "PWF                                  -0.073808     0.173543        -0.009493   \n",
       "OSF                                  -0.115413     0.182091         0.154983   \n",
       "Machine failure                      -0.169259     0.236346         0.115266   \n",
       "\n",
       "                             TWF       HDF       PWF       OSF  \\\n",
       "Rotational speed [rpm]  0.005323 -0.139830 -0.073808 -0.115413   \n",
       "Torque [Nm]            -0.011190  0.148398  0.173543  0.182091   \n",
       "Tool wear [min]         0.114036 -0.001260 -0.009493  0.154983   \n",
       "TWF                     1.000000 -0.007311  0.018324  0.040376   \n",
       "HDF                    -0.007311  1.000000  0.035208  0.047616   \n",
       "PWF                     0.018324  0.035208  1.000000  0.118673   \n",
       "OSF                     0.040376  0.047616  0.118673  1.000000   \n",
       "Machine failure         0.387342  0.628494  0.387342  0.567605   \n",
       "\n",
       "                        Machine failure  \n",
       "Rotational speed [rpm]        -0.169259  \n",
       "Torque [Nm]                    0.236346  \n",
       "Tool wear [min]                0.115266  \n",
       "TWF                            0.387342  \n",
       "HDF                            0.628494  \n",
       "PWF                            0.387342  \n",
       "OSF                            0.567605  \n",
       "Machine failure                1.000000  "
      ]
     },
     "execution_count": 7,
     "metadata": {},
     "output_type": "execute_result"
    }
   ],
   "source": [
    "m_df.corr()"
   ]
  },
  {
   "cell_type": "code",
   "execution_count": 8,
   "id": "a307b98e-88da-4a2b-bbce-c0fd9f04752d",
   "metadata": {},
   "outputs": [
    {
     "data": {
      "text/plain": [
       "HDF                       0.628494\n",
       "OSF                       0.567605\n",
       "TWF                       0.387342\n",
       "PWF                       0.387342\n",
       "Torque [Nm]               0.236346\n",
       "Tool wear [min]           0.115266\n",
       "Rotational speed [rpm]   -0.169259\n",
       "Name: Machine failure, dtype: float64"
      ]
     },
     "execution_count": 8,
     "metadata": {},
     "output_type": "execute_result"
    }
   ],
   "source": [
    "m_df.corr()['Machine failure'].sort_values(ascending=False)[1:]"
   ]
  },
  {
   "cell_type": "code",
   "execution_count": 9,
   "id": "341b8dee-f3e1-4cff-89ca-ae93127175f7",
   "metadata": {},
   "outputs": [],
   "source": [
    "# from imblearn.over_sampling import SMOTE\n",
    "# from sklearn.model_selection import train_test_split\n",
    "\n",
    "# pre_m_df = m_df.copy()\n",
    "\n",
    "# features, targets = pre_m_df.iloc[:, :-1], pre_m_df.iloc[:, -1]\n",
    "\n",
    "# X_train, X_test, y_train, y_test = train_test_split(features, targets, stratify=targets, test_size=0.2, random_state=124)\n",
    "\n",
    "# smote = SMOTE()\n",
    "# over_X_train, over_y_train = smote.fit_resample(X_train, y_train)"
   ]
  },
  {
   "cell_type": "code",
   "execution_count": 10,
   "id": "76d42590-2227-4723-8572-17e612a4c464",
   "metadata": {},
   "outputs": [],
   "source": [
    "# over_y_train.value_counts()"
   ]
  },
  {
   "cell_type": "code",
   "execution_count": 11,
   "id": "a5726a4f-04c2-47b4-aac6-52a5fc7fe8e1",
   "metadata": {},
   "outputs": [],
   "source": [
    "from sklearn.model_selection import train_test_split\n",
    "\n",
    "pre_m_df = m_df.copy().reset_index(drop=True)\n",
    "\n",
    "features, targets = pre_m_df.iloc[:, :-1], pre_m_df.iloc[:, -1]\n",
    "X_train, X_test, y_train, y_test = train_test_split(features, targets, stratify=targets, test_size=0.2, random_state=124)"
   ]
  },
  {
   "cell_type": "code",
   "execution_count": 12,
   "id": "512cca3f-803a-42fc-b27f-2f1206ff527c",
   "metadata": {},
   "outputs": [
    {
     "name": "stdout",
     "output_type": "stream",
     "text": [
      "Epoch: 100/1000\n",
      "W1: -0.2626, W2: 0.0991, W3: 0.2575, W4: -0.0196, W5: 0.0093, W6: -0.2849, W7: -0.1438, b: -0.0\n",
      "Loss: 2.9183\n",
      "========================================\n",
      "Epoch: 200/1000\n",
      "W1: -0.2626, W2: 0.0991, W3: 0.2575, W4: -0.0196, W5: 0.0093, W6: -0.2849, W7: -0.1438, b: -0.0\n",
      "Loss: 2.9183\n",
      "========================================\n",
      "Epoch: 300/1000\n",
      "W1: -0.2626, W2: 0.0991, W3: 0.2575, W4: -0.0196, W5: 0.0093, W6: -0.2849, W7: -0.1438, b: -0.0\n",
      "Loss: 2.9183\n",
      "========================================\n",
      "Epoch: 400/1000\n",
      "W1: -0.2626, W2: 0.0991, W3: 0.2575, W4: -0.0196, W5: 0.0093, W6: -0.2849, W7: -0.1438, b: -0.0\n",
      "Loss: 2.9183\n",
      "========================================\n",
      "Epoch: 500/1000\n",
      "W1: -0.2626, W2: 0.0991, W3: 0.2575, W4: -0.0196, W5: 0.0093, W6: -0.2849, W7: -0.1438, b: -0.0\n",
      "Loss: 2.9183\n",
      "========================================\n",
      "Epoch: 600/1000\n",
      "W1: -0.2626, W2: 0.0991, W3: 0.2575, W4: -0.0196, W5: 0.0093, W6: -0.2849, W7: -0.1438, b: -0.0\n",
      "Loss: 2.9183\n",
      "========================================\n",
      "Epoch: 700/1000\n",
      "W1: -0.2626, W2: 0.0991, W3: 0.2575, W4: -0.0196, W5: 0.0093, W6: -0.2849, W7: -0.1438, b: -0.0\n",
      "Loss: 2.9183\n",
      "========================================\n",
      "Epoch: 800/1000\n",
      "W1: -0.2626, W2: 0.0991, W3: 0.2575, W4: -0.0196, W5: 0.0093, W6: -0.2849, W7: -0.1438, b: -0.0\n",
      "Loss: 2.9183\n",
      "========================================\n",
      "Epoch: 900/1000\n",
      "W1: -0.2626, W2: 0.0991, W3: 0.2575, W4: -0.0196, W5: 0.0093, W6: -0.2849, W7: -0.1438, b: -0.0\n",
      "Loss: 2.9183\n",
      "========================================\n",
      "Epoch: 1000/1000\n",
      "W1: -0.2626, W2: 0.0991, W3: 0.2575, W4: -0.0196, W5: 0.0093, W6: -0.2849, W7: -0.1438, b: -0.0\n",
      "Loss: 2.9183\n",
      "========================================\n"
     ]
    }
   ],
   "source": [
    "import numpy as np\n",
    "import torch\n",
    "from torch.nn import Sequential, Linear, Sigmoid\n",
    "from torch.nn.functional import binary_cross_entropy\n",
    "from torch.optim import SGD\n",
    "\n",
    "torch.manual_seed(124)\n",
    "\n",
    "torch_X_train = torch.FloatTensor(X_train.values)\n",
    "torch_y_train = torch.FloatTensor(y_train.values).view(-1, 1)\n",
    "torch_X_test = torch.FloatTensor(X_test.values)\n",
    "torch_y_test = torch.FloatTensor(y_test.values).view(-1, 1)\n",
    "\n",
    "logistic_r = Sequential(\n",
    "    Linear(7, 1),\n",
    "    Sigmoid()\n",
    ")\n",
    "\n",
    "optimizer = SGD(logistic_r.parameters(), lr=0.000000001)\n",
    "\n",
    "epochs = 1000\n",
    "\n",
    "for epoch in range(1, epochs+1):\n",
    "    H = logistic_r(torch_X_train)\n",
    "\n",
    "    loss = binary_cross_entropy(H, torch_y_train)\n",
    "\n",
    "    optimizer.zero_grad()\n",
    "    loss.backward()\n",
    "    optimizer.step()\n",
    "\n",
    "    if epoch % 100 == 0:\n",
    "        print(f'Epoch: {epoch}/{epochs}')\n",
    "        for i, w in enumerate(list(logistic_r.parameters())[0][0]):\n",
    "            print(f'W{i+1}: {np.round(w.item(), 4)}', end=\", \")\n",
    "        print(f'b: {np.round(list(logistic_r.parameters())[1].item())}\\nLoss: {np.round(loss.item(), 4)}')\n",
    "        print(\"=\" * 40)"
   ]
  },
  {
   "cell_type": "code",
   "execution_count": 13,
   "id": "47d896a5-bd76-4824-985e-e3507de8a20f",
   "metadata": {},
   "outputs": [],
   "source": [
    "import matplotlib.pyplot as plt\n",
    "from sklearn.metrics import accuracy_score, precision_score, recall_score, f1_score, roc_auc_score, confusion_matrix, ConfusionMatrixDisplay\n",
    "\n",
    "def get_evaluation(y_test, prediction, classifier=None, X_test=None):\n",
    "    confusion = confusion_matrix(y_test, prediction)\n",
    "    accuracy = accuracy_score(y_test , prediction)\n",
    "    precision = precision_score(y_test , prediction)\n",
    "    recall = recall_score(y_test , prediction)\n",
    "    f1 = f1_score(y_test, prediction)\n",
    "    auc = roc_auc_score(y_test, prediction)\n",
    "    \n",
    "    print('오차 행렬')\n",
    "    print(confusion)\n",
    "    print('정확도: {0:.4f}, 정밀도: {1:.4f}, 재현율: {2:.4f}, F1: {3:.4f}, ROC-AUC: {4:.4f}'.format(accuracy, precision, recall, f1, auc))\n",
    "    print(\"#\" * 80)\n",
    "    \n",
    "    if classifier is not None and  X_test is not None:\n",
    "        fig, axes = plt.subplots(nrows=1, ncols=2, figsize=(12,4))\n",
    "        titles_options = [(\"Confusion matrix\", None), (\"Normalized confusion matrix\", \"true\")]\n",
    "\n",
    "        for (title, normalize), ax in zip(titles_options, axes.flatten()):\n",
    "            disp = ConfusionMatrixDisplay.from_estimator(classifier, X_test, y_test, ax=ax, cmap=plt.cm.Blues, normalize=normalize)\n",
    "            disp.ax_.set_title(title)\n",
    "        plt.show()"
   ]
  },
  {
   "cell_type": "code",
   "execution_count": 14,
   "id": "b985cd29-2544-45fa-a6ad-c529cfcae67a",
   "metadata": {},
   "outputs": [
    {
     "name": "stdout",
     "output_type": "stream",
     "text": [
      "오차 행렬\n",
      "[[1905    0]\n",
      " [  57    0]]\n",
      "정확도: 0.9709, 정밀도: 0.0000, 재현율: 0.0000, F1: 0.0000, ROC-AUC: 0.5000\n",
      "################################################################################\n"
     ]
    },
    {
     "name": "stderr",
     "output_type": "stream",
     "text": [
      "C:\\ProgramData\\anaconda3\\Lib\\site-packages\\sklearn\\metrics\\_classification.py:1344: UndefinedMetricWarning: Precision is ill-defined and being set to 0.0 due to no predicted samples. Use `zero_division` parameter to control this behavior.\n",
      "  _warn_prf(average, modifier, msg_start, len(result))\n"
     ]
    }
   ],
   "source": [
    "get_evaluation(torch_y_test.detach(), logistic_r(torch_X_test) >= 0.5)"
   ]
  },
  {
   "cell_type": "code",
   "execution_count": 15,
   "id": "573e9cb4-810e-4a4c-bd8d-a7b48de97f91",
   "metadata": {},
   "outputs": [],
   "source": [
    "from sklearn.linear_model import LogisticRegression\n",
    "\n",
    "sk_logistic_r = LogisticRegression(solver='liblinear', penalty='l2', C=1, random_state=124)\n",
    "sk_logistic_r.fit(X_train, y_train)\n",
    "prediction = sk_logistic_r.predict(X_test)"
   ]
  },
  {
   "cell_type": "code",
   "execution_count": 16,
   "id": "3e996327-2e80-48a6-9833-e33568c12119",
   "metadata": {},
   "outputs": [
    {
     "name": "stdout",
     "output_type": "stream",
     "text": [
      "오차 행렬\n",
      "[[1905    0]\n",
      " [   2   55]]\n",
      "정확도: 0.9990, 정밀도: 1.0000, 재현율: 0.9649, F1: 0.9821, ROC-AUC: 0.9825\n",
      "################################################################################\n"
     ]
    },
    {
     "data": {
      "image/png": "[encoded data removed]",
      "text/plain": [
       "<Figure size 1200x400 with 4 Axes>"
      ]
     },
     "metadata": {},
     "output_type": "display_data"
    }
   ],
   "source": [
    "get_evaluation(y_test, prediction, sk_logistic_r, X_test)"
   ]
  },
  {
   "cell_type": "code",
   "execution_count": 17,
   "id": "c54a7ecd-9ca4-4532-b696-4cac134a8d6f",
   "metadata": {},
   "outputs": [],
   "source": [
    "from sklearn.linear_model import LogisticRegression\n",
    "\n",
    "sk_logistic_r = LogisticRegression(solver='liblinear', penalty='l2', C=0.1, random_state=124)\n",
    "sk_logistic_r.fit(X_train, y_train)\n",
    "prediction = sk_logistic_r.predict(X_test)"
   ]
  },
  {
   "cell_type": "code",
   "execution_count": 18,
   "id": "5574efca-2899-4039-b784-2e851c3ea264",
   "metadata": {},
   "outputs": [
    {
     "name": "stdout",
     "output_type": "stream",
     "text": [
      "오차 행렬\n",
      "[[1905    0]\n",
      " [  23   34]]\n",
      "정확도: 0.9883, 정밀도: 1.0000, 재현율: 0.5965, F1: 0.7473, ROC-AUC: 0.7982\n",
      "################################################################################\n"
     ]
    },
    {
     "data": {
      "image/png": "[encoded data removed]",
      "text/plain": [
       "<Figure size 1200x400 with 4 Axes>"
      ]
     },
     "metadata": {},
     "output_type": "display_data"
    }
   ],
   "source": [
    "get_evaluation(y_test, prediction, sk_logistic_r, X_test)"
   ]
  },
  {
   "cell_type": "code",
   "execution_count": 22,
   "id": "e261273a-710e-4d66-b584-935e48d65bce",
   "metadata": {},
   "outputs": [
    {
     "data": {
      "text/plain": [
       "Machine failure\n",
       "0    9523\n",
       "1     286\n",
       "Name: count, dtype: int64"
      ]
     },
     "execution_count": 22,
     "metadata": {},
     "output_type": "execute_result"
    }
   ],
   "source": [
    "# 언더샘플링 진행\n",
    "pre_m_df['Machine failure'].value_counts()"
   ]
  },
  {
   "cell_type": "code",
   "execution_count": 24,
   "id": "13a697e1-5575-43e7-963b-b175847496f2",
   "metadata": {},
   "outputs": [
    {
     "data": {
      "text/html": [
       "<div>\n",
       "<style scoped>\n",
       "    .dataframe tbody tr th:only-of-type {\n",
       "        vertical-align: middle;\n",
       "    }\n",
       "\n",
       "    .dataframe tbody tr th {\n",
       "        vertical-align: top;\n",
       "    }\n",
       "\n",
       "    .dataframe thead th {\n",
       "        text-align: right;\n",
       "    }\n",
       "</style>\n",
       "<table border=\"1\" class=\"dataframe\">\n",
       "  <thead>\n",
       "    <tr style=\"text-align: right;\">\n",
       "      <th></th>\n",
       "      <th>Rotational speed [rpm]</th>\n",
       "      <th>Torque [Nm]</th>\n",
       "      <th>Tool wear [min]</th>\n",
       "      <th>TWF</th>\n",
       "      <th>HDF</th>\n",
       "      <th>PWF</th>\n",
       "      <th>OSF</th>\n",
       "      <th>Machine failure</th>\n",
       "    </tr>\n",
       "  </thead>\n",
       "  <tbody>\n",
       "    <tr>\n",
       "      <th>0</th>\n",
       "      <td>1410</td>\n",
       "      <td>65.7</td>\n",
       "      <td>191</td>\n",
       "      <td>0</td>\n",
       "      <td>0</td>\n",
       "      <td>1</td>\n",
       "      <td>1</td>\n",
       "      <td>1</td>\n",
       "    </tr>\n",
       "    <tr>\n",
       "      <th>1</th>\n",
       "      <td>1455</td>\n",
       "      <td>41.3</td>\n",
       "      <td>208</td>\n",
       "      <td>1</td>\n",
       "      <td>0</td>\n",
       "      <td>0</td>\n",
       "      <td>0</td>\n",
       "      <td>1</td>\n",
       "    </tr>\n",
       "    <tr>\n",
       "      <th>2</th>\n",
       "      <td>1282</td>\n",
       "      <td>60.7</td>\n",
       "      <td>216</td>\n",
       "      <td>0</td>\n",
       "      <td>0</td>\n",
       "      <td>0</td>\n",
       "      <td>1</td>\n",
       "      <td>1</td>\n",
       "    </tr>\n",
       "    <tr>\n",
       "      <th>3</th>\n",
       "      <td>1412</td>\n",
       "      <td>52.3</td>\n",
       "      <td>218</td>\n",
       "      <td>0</td>\n",
       "      <td>0</td>\n",
       "      <td>0</td>\n",
       "      <td>1</td>\n",
       "      <td>1</td>\n",
       "    </tr>\n",
       "    <tr>\n",
       "      <th>4</th>\n",
       "      <td>1433</td>\n",
       "      <td>62.3</td>\n",
       "      <td>20</td>\n",
       "      <td>0</td>\n",
       "      <td>0</td>\n",
       "      <td>1</td>\n",
       "      <td>0</td>\n",
       "      <td>1</td>\n",
       "    </tr>\n",
       "    <tr>\n",
       "      <th>...</th>\n",
       "      <td>...</td>\n",
       "      <td>...</td>\n",
       "      <td>...</td>\n",
       "      <td>...</td>\n",
       "      <td>...</td>\n",
       "      <td>...</td>\n",
       "      <td>...</td>\n",
       "      <td>...</td>\n",
       "    </tr>\n",
       "    <tr>\n",
       "      <th>567</th>\n",
       "      <td>1371</td>\n",
       "      <td>55.5</td>\n",
       "      <td>159</td>\n",
       "      <td>0</td>\n",
       "      <td>0</td>\n",
       "      <td>0</td>\n",
       "      <td>0</td>\n",
       "      <td>0</td>\n",
       "    </tr>\n",
       "    <tr>\n",
       "      <th>568</th>\n",
       "      <td>1679</td>\n",
       "      <td>30.1</td>\n",
       "      <td>136</td>\n",
       "      <td>0</td>\n",
       "      <td>0</td>\n",
       "      <td>0</td>\n",
       "      <td>0</td>\n",
       "      <td>0</td>\n",
       "    </tr>\n",
       "    <tr>\n",
       "      <th>569</th>\n",
       "      <td>1463</td>\n",
       "      <td>44.0</td>\n",
       "      <td>140</td>\n",
       "      <td>0</td>\n",
       "      <td>0</td>\n",
       "      <td>0</td>\n",
       "      <td>0</td>\n",
       "      <td>0</td>\n",
       "    </tr>\n",
       "    <tr>\n",
       "      <th>570</th>\n",
       "      <td>1535</td>\n",
       "      <td>34.6</td>\n",
       "      <td>114</td>\n",
       "      <td>0</td>\n",
       "      <td>0</td>\n",
       "      <td>0</td>\n",
       "      <td>0</td>\n",
       "      <td>0</td>\n",
       "    </tr>\n",
       "    <tr>\n",
       "      <th>571</th>\n",
       "      <td>1526</td>\n",
       "      <td>41.1</td>\n",
       "      <td>162</td>\n",
       "      <td>0</td>\n",
       "      <td>0</td>\n",
       "      <td>0</td>\n",
       "      <td>0</td>\n",
       "      <td>0</td>\n",
       "    </tr>\n",
       "  </tbody>\n",
       "</table>\n",
       "<p>572 rows × 8 columns</p>\n",
       "</div>"
      ],
      "text/plain": [
       "     Rotational speed [rpm]  Torque [Nm]  Tool wear [min]  TWF  HDF  PWF  OSF  \\\n",
       "0                      1410         65.7              191    0    0    1    1   \n",
       "1                      1455         41.3              208    1    0    0    0   \n",
       "2                      1282         60.7              216    0    0    0    1   \n",
       "3                      1412         52.3              218    0    0    0    1   \n",
       "4                      1433         62.3               20    0    0    1    0   \n",
       "..                      ...          ...              ...  ...  ...  ...  ...   \n",
       "567                    1371         55.5              159    0    0    0    0   \n",
       "568                    1679         30.1              136    0    0    0    0   \n",
       "569                    1463         44.0              140    0    0    0    0   \n",
       "570                    1535         34.6              114    0    0    0    0   \n",
       "571                    1526         41.1              162    0    0    0    0   \n",
       "\n",
       "     Machine failure  \n",
       "0                  1  \n",
       "1                  1  \n",
       "2                  1  \n",
       "3                  1  \n",
       "4                  1  \n",
       "..               ...  \n",
       "567                0  \n",
       "568                0  \n",
       "569                0  \n",
       "570                0  \n",
       "571                0  \n",
       "\n",
       "[572 rows x 8 columns]"
      ]
     },
     "execution_count": 24,
     "metadata": {},
     "output_type": "execute_result"
    }
   ],
   "source": [
    "ones = pre_m_df[pre_m_df['Machine failure'] == 1]\n",
    "zeros = pre_m_df[pre_m_df['Machine failure'] == 0].sample(n=286, random_state=124)\n",
    "under_m_df = pd.concat([ones, zeros], axis=0).reset_index(drop=True)\n",
    "under_m_df"
   ]
  },
  {
   "cell_type": "code",
   "execution_count": 25,
   "id": "67504355-dc26-4a9c-b2fc-f3b59b6b1d19",
   "metadata": {},
   "outputs": [],
   "source": [
    "from sklearn.model_selection import train_test_split\n",
    "\n",
    "features, targets = under_m_df.iloc[:, :-1], under_m_df.iloc[:, -1]\n",
    "X_train, X_test, y_train, y_test = train_test_split(features, targets, stratify=targets, test_size=0.2, random_state=124)"
   ]
  },
  {
   "cell_type": "code",
   "execution_count": 40,
   "id": "9c01c885-7495-4df4-89c4-82d410cc3b6e",
   "metadata": {},
   "outputs": [
    {
     "name": "stdout",
     "output_type": "stream",
     "text": [
      "Epoch: 100/1000\n",
      "W1: -0.2626, W2: 0.0991, W3: 0.2575, W4: -0.0196, W5: 0.0093, W6: -0.2849, W7: -0.1438, b: -0.0\n",
      "Loss: 50.1094\n",
      "========================================\n",
      "Epoch: 200/1000\n",
      "W1: -0.2626, W2: 0.0991, W3: 0.2575, W4: -0.0196, W5: 0.0093, W6: -0.2849, W7: -0.1438, b: -0.0\n",
      "Loss: 50.1094\n",
      "========================================\n",
      "Epoch: 300/1000\n",
      "W1: -0.2626, W2: 0.0991, W3: 0.2575, W4: -0.0196, W5: 0.0093, W6: -0.2849, W7: -0.1438, b: -0.0\n",
      "Loss: 50.1094\n",
      "========================================\n",
      "Epoch: 400/1000\n",
      "W1: -0.2626, W2: 0.0991, W3: 0.2575, W4: -0.0196, W5: 0.0093, W6: -0.2849, W7: -0.1438, b: -0.0\n",
      "Loss: 50.1094\n",
      "========================================\n",
      "Epoch: 500/1000\n",
      "W1: -0.2626, W2: 0.0991, W3: 0.2575, W4: -0.0196, W5: 0.0093, W6: -0.2849, W7: -0.1438, b: -0.0\n",
      "Loss: 50.1094\n",
      "========================================\n",
      "Epoch: 600/1000\n",
      "W1: -0.2626, W2: 0.0991, W3: 0.2575, W4: -0.0196, W5: 0.0093, W6: -0.2849, W7: -0.1438, b: -0.0\n",
      "Loss: 50.1094\n",
      "========================================\n",
      "Epoch: 700/1000\n",
      "W1: -0.2626, W2: 0.0991, W3: 0.2575, W4: -0.0196, W5: 0.0093, W6: -0.2849, W7: -0.1438, b: -0.0\n",
      "Loss: 50.1094\n",
      "========================================\n",
      "Epoch: 800/1000\n",
      "W1: -0.2626, W2: 0.0991, W3: 0.2575, W4: -0.0196, W5: 0.0093, W6: -0.2849, W7: -0.1438, b: -0.0\n",
      "Loss: 50.1094\n",
      "========================================\n",
      "Epoch: 900/1000\n",
      "W1: -0.2626, W2: 0.0991, W3: 0.2575, W4: -0.0196, W5: 0.0093, W6: -0.2849, W7: -0.1438, b: -0.0\n",
      "Loss: 50.1094\n",
      "========================================\n",
      "Epoch: 1000/1000\n",
      "W1: -0.2626, W2: 0.0991, W3: 0.2575, W4: -0.0196, W5: 0.0093, W6: -0.2849, W7: -0.1438, b: -0.0\n",
      "Loss: 50.1094\n",
      "========================================\n"
     ]
    }
   ],
   "source": [
    "import numpy as np\n",
    "import torch\n",
    "from torch.nn import Sequential, Linear, Sigmoid\n",
    "from torch.nn.functional import binary_cross_entropy\n",
    "from torch.optim import SGD\n",
    "\n",
    "torch.manual_seed(124)\n",
    "\n",
    "torch_X_train = torch.FloatTensor(X_train.values)\n",
    "torch_y_train = torch.FloatTensor(y_train.values).view(-1, 1)\n",
    "torch_X_test = torch.FloatTensor(X_test.values)\n",
    "torch_y_test = torch.FloatTensor(y_test.values).view(-1, 1)\n",
    "\n",
    "logistic_r = Sequential(\n",
    "    Linear(7, 1),\n",
    "    Sigmoid()\n",
    ")\n",
    "\n",
    "optimizer = SGD(logistic_r.parameters(), lr=0.00000001)\n",
    "\n",
    "epochs = 1000\n",
    "\n",
    "for epoch in range(1, epochs+1):\n",
    "    H = logistic_r(torch_X_train)\n",
    "\n",
    "    loss = binary_cross_entropy(H, torch_y_train)\n",
    "\n",
    "    optimizer.zero_grad()\n",
    "    loss.backward()\n",
    "    optimizer.step()\n",
    "\n",
    "    if epoch % 100 == 0:\n",
    "        print(f'Epoch: {epoch}/{epochs}')\n",
    "        for i, w in enumerate(list(logistic_r.parameters())[0][0]):\n",
    "            print(f'W{i+1}: {np.round(w.item(), 4)}', end=\", \")\n",
    "        print(f'b: {np.round(list(logistic_r.parameters())[1].item())}\\nLoss: {np.round(loss.item(), 4)}')\n",
    "        print(\"=\" * 40)"
   ]
  },
  {
   "cell_type": "code",
   "execution_count": 30,
   "id": "ba4e808d-bfe0-4aba-b0c3-b96596e0b6dd",
   "metadata": {},
   "outputs": [
    {
     "name": "stdout",
     "output_type": "stream",
     "text": [
      "오차 행렬\n",
      "[[58  0]\n",
      " [57  0]]\n",
      "정확도: 0.5043, 정밀도: 0.0000, 재현율: 0.0000, F1: 0.0000, ROC-AUC: 0.5000\n",
      "################################################################################\n"
     ]
    },
    {
     "name": "stderr",
     "output_type": "stream",
     "text": [
      "C:\\ProgramData\\anaconda3\\Lib\\site-packages\\sklearn\\metrics\\_classification.py:1344: UndefinedMetricWarning: Precision is ill-defined and being set to 0.0 due to no predicted samples. Use `zero_division` parameter to control this behavior.\n",
      "  _warn_prf(average, modifier, msg_start, len(result))\n"
     ]
    }
   ],
   "source": [
    "get_evaluation(torch_y_test.detach(), logistic_r(torch_X_test) >= 0.5)"
   ]
  },
  {
   "cell_type": "code",
   "execution_count": 31,
   "id": "d3ecd1b9-585c-4434-a1ab-543e7533ea65",
   "metadata": {},
   "outputs": [],
   "source": [
    "from sklearn.linear_model import LogisticRegression\n",
    "\n",
    "sk_logistic_r = LogisticRegression(solver='liblinear', penalty='l2', C=1, random_state=124)\n",
    "sk_logistic_r.fit(X_train, y_train)\n",
    "prediction = sk_logistic_r.predict(X_test)"
   ]
  },
  {
   "cell_type": "code",
   "execution_count": 32,
   "id": "ebc04c16-f90b-4cc0-a18b-9366ffc3dbb2",
   "metadata": {},
   "outputs": [
    {
     "name": "stdout",
     "output_type": "stream",
     "text": [
      "오차 행렬\n",
      "[[58  0]\n",
      " [ 1 56]]\n",
      "정확도: 0.9913, 정밀도: 1.0000, 재현율: 0.9825, F1: 0.9912, ROC-AUC: 0.9912\n",
      "################################################################################\n"
     ]
    },
    {
     "data": {
      "image/png": "[encoded data removed]",
      "text/plain": [
       "<Figure size 1200x400 with 4 Axes>"
      ]
     },
     "metadata": {},
     "output_type": "display_data"
    }
   ],
   "source": [
    "get_evaluation(y_test, prediction, sk_logistic_r, X_test)"
   ]
  },
  {
   "cell_type": "code",
   "execution_count": 35,
   "id": "024c1dbb-57e7-45b4-b53f-8626d1261565",
   "metadata": {},
   "outputs": [],
   "source": [
    "from sklearn.linear_model import LogisticRegression\n",
    "\n",
    "sk_logistic_r = LogisticRegression(solver='liblinear', penalty='l2', C=0.01, random_state=124)\n",
    "sk_logistic_r.fit(X_train, y_train)\n",
    "prediction = sk_logistic_r.predict(X_test)"
   ]
  },
  {
   "cell_type": "code",
   "execution_count": 36,
   "id": "78f1110e-2461-435d-8371-4b9ec3f99cc7",
   "metadata": {},
   "outputs": [
    {
     "name": "stdout",
     "output_type": "stream",
     "text": [
      "오차 행렬\n",
      "[[48 10]\n",
      " [12 45]]\n",
      "정확도: 0.8087, 정밀도: 0.8182, 재현율: 0.7895, F1: 0.8036, ROC-AUC: 0.8085\n",
      "################################################################################\n"
     ]
    },
    {
     "data": {
      "image/png": "[encoded data removed]",
      "text/plain": [
       "<Figure size 1200x400 with 4 Axes>"
      ]
     },
     "metadata": {},
     "output_type": "display_data"
    }
   ],
   "source": [
    "get_evaluation(y_test, prediction, sk_logistic_r, X_test)"
   ]
  },
  {
   "cell_type": "code",
   "execution_count": 58,
   "id": "586a5112-93e3-4b58-9bd3-e88b0cd58f45",
   "metadata": {},
   "outputs": [
    {
     "name": "stdout",
     "output_type": "stream",
     "text": [
      "2000/20000: W1: -0.0357, W2: 0.0034, W3: 0.0112, W4: 0.0, W5: 0.0001, W6: 0.0, W7: 0.0001, b: 0.0000, Loss: 23.7287\n",
      "4000/20000: W1: -0.0356, W2: 0.0034, W3: 0.0112, W4: 0.0, W5: 0.0001, W6: 0.0, W7: 0.0001, b: 0.0000, Loss: 23.6725\n",
      "6000/20000: W1: -0.0355, W2: 0.0034, W3: 0.0112, W4: 0.0, W5: 0.0001, W6: 0.0, W7: 0.0001, b: 0.0000, Loss: 23.6098\n",
      "8000/20000: W1: -0.0354, W2: 0.0034, W3: 0.0113, W4: 0.0, W5: 0.0001, W6: 0.0, W7: 0.0001, b: 0.0000, Loss: 23.5391\n",
      "10000/20000: W1: -0.0353, W2: 0.0034, W3: 0.0113, W4: 0.0, W5: 0.0001, W6: 0.0, W7: 0.0001, b: 0.0000, Loss: 23.4582\n",
      "12000/20000: W1: -0.0352, W2: 0.0034, W3: 0.0113, W4: 0.0, W5: 0.0001, W6: 0.0, W7: 0.0001, b: 0.0000, Loss: 23.3633\n",
      "14000/20000: W1: -0.035, W2: 0.0034, W3: 0.0113, W4: 0.0, W5: 0.0001, W6: 0.0, W7: 0.0001, b: 0.0000, Loss: 23.2489\n",
      "16000/20000: W1: -0.0348, W2: 0.0034, W3: 0.0113, W4: 0.0, W5: 0.0001, W6: 0.0, W7: 0.0001, b: 0.0000, Loss: 23.1049\n",
      "18000/20000: W1: -0.0345, W2: 0.0035, W3: 0.0114, W4: 0.0, W5: 0.0001, W6: 0.0, W7: 0.0001, b: 0.0000, Loss: 22.9101\n",
      "20000/20000: W1: -0.0341, W2: 0.0035, W3: 0.0115, W4: 0.0, W5: 0.0001, W6: 0.0, W7: 0.0001, b: 0.0000, Loss: 22.6075\n"
     ]
    }
   ],
   "source": [
    "import torch\n",
    "from torch.optim import SGD\n",
    "from torch.nn.functional import binary_cross_entropy\n",
    "\n",
    "torch.manual_seed(124)\n",
    "\n",
    "torch_X_train = torch.FloatTensor(X_train.values)\n",
    "torch_y_train = torch.FloatTensor(y_train.values).view(-1, 1)\n",
    "torch_X_test = torch.FloatTensor(X_test.values)\n",
    "torch_y_test = torch.FloatTensor(y_test.values).view(-1, 1)\n",
    "\n",
    "W = torch.zeros((7, 1), requires_grad=True)\n",
    "b = torch.zeros(1, requires_grad=True)\n",
    "\n",
    "optimizer = SGD([W, b], lr=0.00099)\n",
    "\n",
    "epochs = 20000\n",
    "\n",
    "for epoch in range(1, epochs+1):\n",
    "    # H = 1 / 1 + torch.exp(-(X_train.matmul(W) + b))\n",
    "    H = torch.sigmoid(torch_X_train.matmul(W) + b)\n",
    "\n",
    "    # losses = -(y_train * torch.log(H) + (1 - y_train) * torch.log(1 - H))\n",
    "    # loss = losses.mean()\n",
    "    loss = binary_cross_entropy(H, torch_y_train)\n",
    "\n",
    "    optimizer.zero_grad()\n",
    "    loss.backward()\n",
    "    optimizer.step()\n",
    "\n",
    "    if epoch % 2000 == 0:\n",
    "        print('{:4d}/{}: '.format(epoch, epochs), end='')\n",
    "        for i, weight in enumerate(list(W)):\n",
    "            print(f'W{i+1}: {np.round(weight.item(), 4)}', end=\", \")\n",
    "        print('b: {:.4f}, Loss: {:.4f}'.format(b.item(), loss.item()))"
   ]
  },
  {
   "cell_type": "code",
   "execution_count": 59,
   "id": "57ac6361-a84d-4c0a-a921-f9d8ef0bf0d6",
   "metadata": {},
   "outputs": [
    {
     "name": "stdout",
     "output_type": "stream",
     "text": [
      "오차 행렬\n",
      "[[58  0]\n",
      " [57  0]]\n",
      "정확도: 0.5043, 정밀도: 0.0000, 재현율: 0.0000, F1: 0.0000, ROC-AUC: 0.5000\n",
      "################################################################################\n"
     ]
    },
    {
     "name": "stderr",
     "output_type": "stream",
     "text": [
      "C:\\ProgramData\\anaconda3\\Lib\\site-packages\\sklearn\\metrics\\_classification.py:1344: UndefinedMetricWarning: Precision is ill-defined and being set to 0.0 due to no predicted samples. Use `zero_division` parameter to control this behavior.\n",
      "  _warn_prf(average, modifier, msg_start, len(result))\n"
     ]
    }
   ],
   "source": [
    "H = torch.sigmoid(torch_X_test.matmul(W) + b)\n",
    "get_evaluation(torch_y_test.detach(), H >= 0.5)"
   ]
  },
  {
   "cell_type": "code",
   "execution_count": null,
   "id": "596ac382-a05c-4d9d-88e9-c28710f68b33",
   "metadata": {},
   "outputs": [],
   "source": []
  },
  {
   "cell_type": "code",
   "execution_count": null,
   "id": "2418368a-1043-4079-bb08-c4b1bb6240cf",
   "metadata": {},
   "outputs": [],
   "source": []
  },
  {
   "cell_type": "code",
   "execution_count": null,
   "id": "6b48272e-3463-4529-bf20-dc40474bd6b6",
   "metadata": {},
   "outputs": [],
   "source": []
  },
  {
   "cell_type": "code",
   "execution_count": null,
   "id": "c027f4da-b2ac-41ed-9609-5079b5d9ff42",
   "metadata": {},
   "outputs": [],
   "source": []
  },
  {
   "cell_type": "code",
   "execution_count": null,
   "id": "0e99e833-d013-48c4-a418-42e1d937c43f",
   "metadata": {},
   "outputs": [],
   "source": []
  },
  {
   "cell_type": "code",
   "execution_count": null,
   "id": "81f4f682-c6ec-44e6-889b-cb4634386156",
   "metadata": {},
   "outputs": [],
   "source": []
  },
  {
   "cell_type": "code",
   "execution_count": null,
   "id": "d52b3e23-52c2-4b07-97ed-c22d1d0d1702",
   "metadata": {},
   "outputs": [],
   "source": []
  },
  {
   "cell_type": "code",
   "execution_count": null,
   "id": "acf991f9-404a-4c21-bba7-da763bf0a174",
   "metadata": {},
   "outputs": [],
   "source": []
  },
  {
   "cell_type": "code",
   "execution_count": null,
   "id": "a6c73081-1b37-44fa-87ab-fa1cfd65207e",
   "metadata": {},
   "outputs": [],
   "source": []
  },
  {
   "cell_type": "code",
   "execution_count": null,
   "id": "6484c787-639b-469a-9a59-7b0ae09351f9",
   "metadata": {},
   "outputs": [],
   "source": []
  },
  {
   "cell_type": "code",
   "execution_count": null,
   "id": "20716d9c-f5bb-439e-a902-f3525fbd2424",
   "metadata": {},
   "outputs": [],
   "source": []
  },
  {
   "cell_type": "code",
   "execution_count": null,
   "id": "73355dfb-0004-47db-9e41-d2bbf171c45c",
   "metadata": {},
   "outputs": [],
   "source": []
  },
  {
   "cell_type": "code",
   "execution_count": null,
   "id": "f9d60663-b657-425e-9cce-b12ceefe4069",
   "metadata": {},
   "outputs": [],
   "source": []
  },
  {
   "cell_type": "code",
   "execution_count": null,
   "id": "66f6312c-5862-4180-be46-475db595a38a",
   "metadata": {},
   "outputs": [],
   "source": []
  },
  {
   "cell_type": "code",
   "execution_count": null,
   "id": "02a32a11-3f17-4445-b2b2-c8515376be88",
   "metadata": {},
   "outputs": [],
   "source": []
  },
  {
   "cell_type": "code",
   "execution_count": null,
   "id": "5376c75c-a99d-40a7-b5ed-02ee856667af",
   "metadata": {},
   "outputs": [],
   "source": []
  },
  {
   "cell_type": "code",
   "execution_count": null,
   "id": "fb76c437-174a-4730-b5e4-dd62a637870c",
   "metadata": {},
   "outputs": [],
   "source": []
  },
  {
   "cell_type": "code",
   "execution_count": null,
   "id": "7655c856-13a7-4283-8c01-396fb39cd424",
   "metadata": {},
   "outputs": [],
   "source": []
  },
  {
   "cell_type": "code",
   "execution_count": null,
   "id": "8ea14bcf-d257-419b-a766-c32eabaa34db",
   "metadata": {},
   "outputs": [],
   "source": []
  },
  {
   "cell_type": "code",
   "execution_count": null,
   "id": "21e438aa-c6a1-494f-b3e2-f30d74a6b4cd",
   "metadata": {},
   "outputs": [],
   "source": []
  },
  {
   "cell_type": "code",
   "execution_count": null,
   "id": "1e5615a2-7d6c-4746-b820-98cca5d64e6f",
   "metadata": {},
   "outputs": [],
   "source": []
  },
  {
   "cell_type": "code",
   "execution_count": null,
   "id": "8c333e5a-626d-4fc5-abe1-98064d8dca46",
   "metadata": {},
   "outputs": [],
   "source": []
  }
 ],
 "metadata": {
  "kernelspec": {
   "display_name": "Python 3 (ipykernel)",
   "language": "python",
   "name": "python3"
  },
  "language_info": {
   "codemirror_mode": {
    "name": "ipython",
    "version": 3
   },
   "file_extension": ".py",
   "mimetype": "text/x-python",
   "name": "python",
   "nbconvert_exporter": "python",
   "pygments_lexer": "ipython3",
   "version": "3.11.8"
  }
 },
 "nbformat": 4,
 "nbformat_minor": 5
}
