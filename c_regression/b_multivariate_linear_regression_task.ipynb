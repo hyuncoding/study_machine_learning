{
 "cells": [
  {
   "cell_type": "markdown",
   "id": "53b98427-69f4-4b09-b53e-f06909757da3",
   "metadata": {},
   "source": [
    "### Multivariate Linear Regression Task\r\n",
    "- 구매자의 연수입(Annual Salary)과 순자산(자산 - 부채, Net Worth), 신용카드 부채(Credit Card Debt)를 통해 다변량 회귀 분석 진행"
   ]
  },
  {
   "cell_type": "code",
   "execution_count": 1,
   "id": "6298f9f0-1736-4438-a3c6-783527b85fd1",
   "metadata": {},
   "outputs": [
    {
     "data": {
      "text/html": [
       "<div>\n",
       "<style scoped>\n",
       "    .dataframe tbody tr th:only-of-type {\n",
       "        vertical-align: middle;\n",
       "    }\n",
       "\n",
       "    .dataframe tbody tr th {\n",
       "        vertical-align: top;\n",
       "    }\n",
       "\n",
       "    .dataframe thead th {\n",
       "        text-align: right;\n",
       "    }\n",
       "</style>\n",
       "<table border=\"1\" class=\"dataframe\">\n",
       "  <thead>\n",
       "    <tr style=\"text-align: right;\">\n",
       "      <th></th>\n",
       "      <th>Customer Name</th>\n",
       "      <th>Customer e-mail</th>\n",
       "      <th>Country</th>\n",
       "      <th>Gender</th>\n",
       "      <th>Age</th>\n",
       "      <th>Annual Salary</th>\n",
       "      <th>Credit Card Debt</th>\n",
       "      <th>Net Worth</th>\n",
       "      <th>Car Purchase Amount</th>\n",
       "    </tr>\n",
       "  </thead>\n",
       "  <tbody>\n",
       "    <tr>\n",
       "      <th>0</th>\n",
       "      <td>Martina Avila</td>\n",
       "      <td>cubilia.Curae.Phasellus@quisaccumsanconvallis.edu</td>\n",
       "      <td>USA</td>\n",
       "      <td>0</td>\n",
       "      <td>42</td>\n",
       "      <td>62812.09301</td>\n",
       "      <td>11609.380910</td>\n",
       "      <td>238961.2505</td>\n",
       "      <td>35321.45877</td>\n",
       "    </tr>\n",
       "    <tr>\n",
       "      <th>1</th>\n",
       "      <td>Harlan Barnes</td>\n",
       "      <td>eu.dolor@diam.co.uk</td>\n",
       "      <td>USA</td>\n",
       "      <td>0</td>\n",
       "      <td>41</td>\n",
       "      <td>66646.89292</td>\n",
       "      <td>9572.957136</td>\n",
       "      <td>530973.9078</td>\n",
       "      <td>45115.52566</td>\n",
       "    </tr>\n",
       "    <tr>\n",
       "      <th>2</th>\n",
       "      <td>Naomi Rodriquez</td>\n",
       "      <td>vulputate.mauris.sagittis@ametconsectetueradip...</td>\n",
       "      <td>USA</td>\n",
       "      <td>1</td>\n",
       "      <td>43</td>\n",
       "      <td>53798.55112</td>\n",
       "      <td>11160.355060</td>\n",
       "      <td>638467.1773</td>\n",
       "      <td>42925.70921</td>\n",
       "    </tr>\n",
       "    <tr>\n",
       "      <th>3</th>\n",
       "      <td>Jade Cunningham</td>\n",
       "      <td>malesuada@dignissim.com</td>\n",
       "      <td>USA</td>\n",
       "      <td>1</td>\n",
       "      <td>58</td>\n",
       "      <td>79370.03798</td>\n",
       "      <td>14426.164850</td>\n",
       "      <td>548599.0524</td>\n",
       "      <td>67422.36313</td>\n",
       "    </tr>\n",
       "    <tr>\n",
       "      <th>4</th>\n",
       "      <td>Cedric Leach</td>\n",
       "      <td>felis.ullamcorper.viverra@egetmollislectus.net</td>\n",
       "      <td>USA</td>\n",
       "      <td>1</td>\n",
       "      <td>57</td>\n",
       "      <td>59729.15130</td>\n",
       "      <td>5358.712177</td>\n",
       "      <td>560304.0671</td>\n",
       "      <td>55915.46248</td>\n",
       "    </tr>\n",
       "    <tr>\n",
       "      <th>...</th>\n",
       "      <td>...</td>\n",
       "      <td>...</td>\n",
       "      <td>...</td>\n",
       "      <td>...</td>\n",
       "      <td>...</td>\n",
       "      <td>...</td>\n",
       "      <td>...</td>\n",
       "      <td>...</td>\n",
       "      <td>...</td>\n",
       "    </tr>\n",
       "    <tr>\n",
       "      <th>495</th>\n",
       "      <td>Walter</td>\n",
       "      <td>ligula@Cumsociis.ca</td>\n",
       "      <td>USA</td>\n",
       "      <td>0</td>\n",
       "      <td>41</td>\n",
       "      <td>71942.40291</td>\n",
       "      <td>6995.902524</td>\n",
       "      <td>541670.1016</td>\n",
       "      <td>48901.44342</td>\n",
       "    </tr>\n",
       "    <tr>\n",
       "      <th>496</th>\n",
       "      <td>Vanna</td>\n",
       "      <td>Cum.sociis.natoque@Sedmolestie.edu</td>\n",
       "      <td>USA</td>\n",
       "      <td>1</td>\n",
       "      <td>38</td>\n",
       "      <td>56039.49793</td>\n",
       "      <td>12301.456790</td>\n",
       "      <td>360419.0988</td>\n",
       "      <td>31491.41457</td>\n",
       "    </tr>\n",
       "    <tr>\n",
       "      <th>497</th>\n",
       "      <td>Pearl</td>\n",
       "      <td>penatibus.et@massanonante.com</td>\n",
       "      <td>USA</td>\n",
       "      <td>1</td>\n",
       "      <td>54</td>\n",
       "      <td>68888.77805</td>\n",
       "      <td>10611.606860</td>\n",
       "      <td>764531.3203</td>\n",
       "      <td>64147.28888</td>\n",
       "    </tr>\n",
       "    <tr>\n",
       "      <th>498</th>\n",
       "      <td>Nell</td>\n",
       "      <td>Quisque.varius@arcuVivamussit.net</td>\n",
       "      <td>USA</td>\n",
       "      <td>1</td>\n",
       "      <td>59</td>\n",
       "      <td>49811.99062</td>\n",
       "      <td>14013.034510</td>\n",
       "      <td>337826.6382</td>\n",
       "      <td>45442.15353</td>\n",
       "    </tr>\n",
       "    <tr>\n",
       "      <th>499</th>\n",
       "      <td>Marla</td>\n",
       "      <td>Camaron.marla@hotmail.com</td>\n",
       "      <td>USA</td>\n",
       "      <td>1</td>\n",
       "      <td>47</td>\n",
       "      <td>61370.67766</td>\n",
       "      <td>9391.341628</td>\n",
       "      <td>462946.4924</td>\n",
       "      <td>45107.22566</td>\n",
       "    </tr>\n",
       "  </tbody>\n",
       "</table>\n",
       "<p>500 rows × 9 columns</p>\n",
       "</div>"
      ],
      "text/plain": [
       "       Customer Name                                    Customer e-mail  \\\n",
       "0      Martina Avila  cubilia.Curae.Phasellus@quisaccumsanconvallis.edu   \n",
       "1      Harlan Barnes                                eu.dolor@diam.co.uk   \n",
       "2    Naomi Rodriquez  vulputate.mauris.sagittis@ametconsectetueradip...   \n",
       "3    Jade Cunningham                            malesuada@dignissim.com   \n",
       "4       Cedric Leach     felis.ullamcorper.viverra@egetmollislectus.net   \n",
       "..               ...                                                ...   \n",
       "495           Walter                                ligula@Cumsociis.ca   \n",
       "496            Vanna                 Cum.sociis.natoque@Sedmolestie.edu   \n",
       "497            Pearl                      penatibus.et@massanonante.com   \n",
       "498             Nell                  Quisque.varius@arcuVivamussit.net   \n",
       "499            Marla                          Camaron.marla@hotmail.com   \n",
       "\n",
       "    Country  Gender  Age  Annual Salary  Credit Card Debt    Net Worth  \\\n",
       "0       USA       0   42    62812.09301      11609.380910  238961.2505   \n",
       "1       USA       0   41    66646.89292       9572.957136  530973.9078   \n",
       "2       USA       1   43    53798.55112      11160.355060  638467.1773   \n",
       "3       USA       1   58    79370.03798      14426.164850  548599.0524   \n",
       "4       USA       1   57    59729.15130       5358.712177  560304.0671   \n",
       "..      ...     ...  ...            ...               ...          ...   \n",
       "495     USA       0   41    71942.40291       6995.902524  541670.1016   \n",
       "496     USA       1   38    56039.49793      12301.456790  360419.0988   \n",
       "497     USA       1   54    68888.77805      10611.606860  764531.3203   \n",
       "498     USA       1   59    49811.99062      14013.034510  337826.6382   \n",
       "499     USA       1   47    61370.67766       9391.341628  462946.4924   \n",
       "\n",
       "     Car Purchase Amount  \n",
       "0            35321.45877  \n",
       "1            45115.52566  \n",
       "2            42925.70921  \n",
       "3            67422.36313  \n",
       "4            55915.46248  \n",
       "..                   ...  \n",
       "495          48901.44342  \n",
       "496          31491.41457  \n",
       "497          64147.28888  \n",
       "498          45442.15353  \n",
       "499          45107.22566  \n",
       "\n",
       "[500 rows x 9 columns]"
      ]
     },
     "execution_count": 1,
     "metadata": {},
     "output_type": "execute_result"
    }
   ],
   "source": [
    "import pandas as pd\n",
    "\n",
    "c_df = pd.read_csv('./datasets/car_purchasing.csv')\n",
    "c_df"
   ]
  },
  {
   "cell_type": "code",
   "execution_count": 2,
   "id": "4bb31d1b-4e8f-44fb-93e1-250e199a8147",
   "metadata": {},
   "outputs": [
    {
     "name": "stdout",
     "output_type": "stream",
     "text": [
      "<class 'pandas.core.frame.DataFrame'>\n",
      "RangeIndex: 500 entries, 0 to 499\n",
      "Data columns (total 9 columns):\n",
      " #   Column               Non-Null Count  Dtype  \n",
      "---  ------               --------------  -----  \n",
      " 0   Customer Name        500 non-null    object \n",
      " 1   Customer e-mail      500 non-null    object \n",
      " 2   Country              500 non-null    object \n",
      " 3   Gender               500 non-null    int64  \n",
      " 4   Age                  500 non-null    int64  \n",
      " 5   Annual Salary        500 non-null    float64\n",
      " 6   Credit Card Debt     500 non-null    float64\n",
      " 7   Net Worth            500 non-null    float64\n",
      " 8   Car Purchase Amount  500 non-null    float64\n",
      "dtypes: float64(4), int64(2), object(3)\n",
      "memory usage: 35.3+ KB\n"
     ]
    }
   ],
   "source": [
    "c_df.info()"
   ]
  },
  {
   "cell_type": "code",
   "execution_count": 3,
   "id": "3ea88b3e-52e6-43eb-b51c-78e9d98b7d32",
   "metadata": {},
   "outputs": [
    {
     "data": {
      "text/plain": [
       "Customer Name          0\n",
       "Customer e-mail        0\n",
       "Country                0\n",
       "Gender                 0\n",
       "Age                    0\n",
       "Annual Salary          0\n",
       "Credit Card Debt       0\n",
       "Net Worth              0\n",
       "Car Purchase Amount    0\n",
       "dtype: int64"
      ]
     },
     "execution_count": 3,
     "metadata": {},
     "output_type": "execute_result"
    }
   ],
   "source": [
    "c_df.isna().sum()"
   ]
  },
  {
   "cell_type": "code",
   "execution_count": 4,
   "id": "3d8ccfba-131d-418e-bc67-e2775074df1b",
   "metadata": {},
   "outputs": [
    {
     "data": {
      "text/plain": [
       "0"
      ]
     },
     "execution_count": 4,
     "metadata": {},
     "output_type": "execute_result"
    }
   ],
   "source": [
    "c_df.duplicated().sum()"
   ]
  },
  {
   "cell_type": "code",
   "execution_count": 5,
   "id": "57a076c0-5c7b-45b9-8705-c43309a80520",
   "metadata": {},
   "outputs": [
    {
     "data": {
      "text/html": [
       "<div>\n",
       "<style scoped>\n",
       "    .dataframe tbody tr th:only-of-type {\n",
       "        vertical-align: middle;\n",
       "    }\n",
       "\n",
       "    .dataframe tbody tr th {\n",
       "        vertical-align: top;\n",
       "    }\n",
       "\n",
       "    .dataframe thead th {\n",
       "        text-align: right;\n",
       "    }\n",
       "</style>\n",
       "<table border=\"1\" class=\"dataframe\">\n",
       "  <thead>\n",
       "    <tr style=\"text-align: right;\">\n",
       "      <th></th>\n",
       "      <th>Gender</th>\n",
       "      <th>Age</th>\n",
       "      <th>Annual Salary</th>\n",
       "      <th>Credit Card Debt</th>\n",
       "      <th>Net Worth</th>\n",
       "      <th>Car Purchase Amount</th>\n",
       "    </tr>\n",
       "  </thead>\n",
       "  <tbody>\n",
       "    <tr>\n",
       "      <th>0</th>\n",
       "      <td>0</td>\n",
       "      <td>42</td>\n",
       "      <td>62812.09301</td>\n",
       "      <td>11609.380910</td>\n",
       "      <td>238961.2505</td>\n",
       "      <td>35321.45877</td>\n",
       "    </tr>\n",
       "    <tr>\n",
       "      <th>1</th>\n",
       "      <td>0</td>\n",
       "      <td>41</td>\n",
       "      <td>66646.89292</td>\n",
       "      <td>9572.957136</td>\n",
       "      <td>530973.9078</td>\n",
       "      <td>45115.52566</td>\n",
       "    </tr>\n",
       "    <tr>\n",
       "      <th>2</th>\n",
       "      <td>1</td>\n",
       "      <td>43</td>\n",
       "      <td>53798.55112</td>\n",
       "      <td>11160.355060</td>\n",
       "      <td>638467.1773</td>\n",
       "      <td>42925.70921</td>\n",
       "    </tr>\n",
       "    <tr>\n",
       "      <th>3</th>\n",
       "      <td>1</td>\n",
       "      <td>58</td>\n",
       "      <td>79370.03798</td>\n",
       "      <td>14426.164850</td>\n",
       "      <td>548599.0524</td>\n",
       "      <td>67422.36313</td>\n",
       "    </tr>\n",
       "    <tr>\n",
       "      <th>4</th>\n",
       "      <td>1</td>\n",
       "      <td>57</td>\n",
       "      <td>59729.15130</td>\n",
       "      <td>5358.712177</td>\n",
       "      <td>560304.0671</td>\n",
       "      <td>55915.46248</td>\n",
       "    </tr>\n",
       "    <tr>\n",
       "      <th>...</th>\n",
       "      <td>...</td>\n",
       "      <td>...</td>\n",
       "      <td>...</td>\n",
       "      <td>...</td>\n",
       "      <td>...</td>\n",
       "      <td>...</td>\n",
       "    </tr>\n",
       "    <tr>\n",
       "      <th>495</th>\n",
       "      <td>0</td>\n",
       "      <td>41</td>\n",
       "      <td>71942.40291</td>\n",
       "      <td>6995.902524</td>\n",
       "      <td>541670.1016</td>\n",
       "      <td>48901.44342</td>\n",
       "    </tr>\n",
       "    <tr>\n",
       "      <th>496</th>\n",
       "      <td>1</td>\n",
       "      <td>38</td>\n",
       "      <td>56039.49793</td>\n",
       "      <td>12301.456790</td>\n",
       "      <td>360419.0988</td>\n",
       "      <td>31491.41457</td>\n",
       "    </tr>\n",
       "    <tr>\n",
       "      <th>497</th>\n",
       "      <td>1</td>\n",
       "      <td>54</td>\n",
       "      <td>68888.77805</td>\n",
       "      <td>10611.606860</td>\n",
       "      <td>764531.3203</td>\n",
       "      <td>64147.28888</td>\n",
       "    </tr>\n",
       "    <tr>\n",
       "      <th>498</th>\n",
       "      <td>1</td>\n",
       "      <td>59</td>\n",
       "      <td>49811.99062</td>\n",
       "      <td>14013.034510</td>\n",
       "      <td>337826.6382</td>\n",
       "      <td>45442.15353</td>\n",
       "    </tr>\n",
       "    <tr>\n",
       "      <th>499</th>\n",
       "      <td>1</td>\n",
       "      <td>47</td>\n",
       "      <td>61370.67766</td>\n",
       "      <td>9391.341628</td>\n",
       "      <td>462946.4924</td>\n",
       "      <td>45107.22566</td>\n",
       "    </tr>\n",
       "  </tbody>\n",
       "</table>\n",
       "<p>500 rows × 6 columns</p>\n",
       "</div>"
      ],
      "text/plain": [
       "     Gender  Age  Annual Salary  Credit Card Debt    Net Worth  \\\n",
       "0         0   42    62812.09301      11609.380910  238961.2505   \n",
       "1         0   41    66646.89292       9572.957136  530973.9078   \n",
       "2         1   43    53798.55112      11160.355060  638467.1773   \n",
       "3         1   58    79370.03798      14426.164850  548599.0524   \n",
       "4         1   57    59729.15130       5358.712177  560304.0671   \n",
       "..      ...  ...            ...               ...          ...   \n",
       "495       0   41    71942.40291       6995.902524  541670.1016   \n",
       "496       1   38    56039.49793      12301.456790  360419.0988   \n",
       "497       1   54    68888.77805      10611.606860  764531.3203   \n",
       "498       1   59    49811.99062      14013.034510  337826.6382   \n",
       "499       1   47    61370.67766       9391.341628  462946.4924   \n",
       "\n",
       "     Car Purchase Amount  \n",
       "0            35321.45877  \n",
       "1            45115.52566  \n",
       "2            42925.70921  \n",
       "3            67422.36313  \n",
       "4            55915.46248  \n",
       "..                   ...  \n",
       "495          48901.44342  \n",
       "496          31491.41457  \n",
       "497          64147.28888  \n",
       "498          45442.15353  \n",
       "499          45107.22566  \n",
       "\n",
       "[500 rows x 6 columns]"
      ]
     },
     "execution_count": 5,
     "metadata": {},
     "output_type": "execute_result"
    }
   ],
   "source": [
    "columns = ['Gender', 'Age',\t'Annual Salary', 'Credit Card Debt', 'Net Worth', 'Car Purchase Amount']\n",
    "\n",
    "pre_c_df = c_df[columns]\n",
    "pre_c_df"
   ]
  },
  {
   "cell_type": "code",
   "execution_count": 6,
   "id": "183253b3-0c3d-4c87-a1d9-620ac4e1aca7",
   "metadata": {},
   "outputs": [
    {
     "data": {
      "text/html": [
       "<div>\n",
       "<style scoped>\n",
       "    .dataframe tbody tr th:only-of-type {\n",
       "        vertical-align: middle;\n",
       "    }\n",
       "\n",
       "    .dataframe tbody tr th {\n",
       "        vertical-align: top;\n",
       "    }\n",
       "\n",
       "    .dataframe thead th {\n",
       "        text-align: right;\n",
       "    }\n",
       "</style>\n",
       "<table border=\"1\" class=\"dataframe\">\n",
       "  <thead>\n",
       "    <tr style=\"text-align: right;\">\n",
       "      <th></th>\n",
       "      <th>Gender</th>\n",
       "      <th>Age</th>\n",
       "      <th>Annual Salary</th>\n",
       "      <th>Credit Card Debt</th>\n",
       "      <th>Net Worth</th>\n",
       "      <th>Car Purchase Amount</th>\n",
       "    </tr>\n",
       "  </thead>\n",
       "  <tbody>\n",
       "    <tr>\n",
       "      <th>Gender</th>\n",
       "      <td>1.000000</td>\n",
       "      <td>-0.066488</td>\n",
       "      <td>-0.036499</td>\n",
       "      <td>0.024193</td>\n",
       "      <td>-0.008395</td>\n",
       "      <td>-0.066408</td>\n",
       "    </tr>\n",
       "    <tr>\n",
       "      <th>Age</th>\n",
       "      <td>-0.066488</td>\n",
       "      <td>1.000000</td>\n",
       "      <td>0.000361</td>\n",
       "      <td>0.031748</td>\n",
       "      <td>0.021794</td>\n",
       "      <td>0.633273</td>\n",
       "    </tr>\n",
       "    <tr>\n",
       "      <th>Annual Salary</th>\n",
       "      <td>-0.036499</td>\n",
       "      <td>0.000361</td>\n",
       "      <td>1.000000</td>\n",
       "      <td>0.049599</td>\n",
       "      <td>0.014767</td>\n",
       "      <td>0.617862</td>\n",
       "    </tr>\n",
       "    <tr>\n",
       "      <th>Credit Card Debt</th>\n",
       "      <td>0.024193</td>\n",
       "      <td>0.031748</td>\n",
       "      <td>0.049599</td>\n",
       "      <td>1.000000</td>\n",
       "      <td>-0.049378</td>\n",
       "      <td>0.028882</td>\n",
       "    </tr>\n",
       "    <tr>\n",
       "      <th>Net Worth</th>\n",
       "      <td>-0.008395</td>\n",
       "      <td>0.021794</td>\n",
       "      <td>0.014767</td>\n",
       "      <td>-0.049378</td>\n",
       "      <td>1.000000</td>\n",
       "      <td>0.488580</td>\n",
       "    </tr>\n",
       "    <tr>\n",
       "      <th>Car Purchase Amount</th>\n",
       "      <td>-0.066408</td>\n",
       "      <td>0.633273</td>\n",
       "      <td>0.617862</td>\n",
       "      <td>0.028882</td>\n",
       "      <td>0.488580</td>\n",
       "      <td>1.000000</td>\n",
       "    </tr>\n",
       "  </tbody>\n",
       "</table>\n",
       "</div>"
      ],
      "text/plain": [
       "                       Gender       Age  Annual Salary  Credit Card Debt  \\\n",
       "Gender               1.000000 -0.066488      -0.036499          0.024193   \n",
       "Age                 -0.066488  1.000000       0.000361          0.031748   \n",
       "Annual Salary       -0.036499  0.000361       1.000000          0.049599   \n",
       "Credit Card Debt     0.024193  0.031748       0.049599          1.000000   \n",
       "Net Worth           -0.008395  0.021794       0.014767         -0.049378   \n",
       "Car Purchase Amount -0.066408  0.633273       0.617862          0.028882   \n",
       "\n",
       "                     Net Worth  Car Purchase Amount  \n",
       "Gender               -0.008395            -0.066408  \n",
       "Age                   0.021794             0.633273  \n",
       "Annual Salary         0.014767             0.617862  \n",
       "Credit Card Debt     -0.049378             0.028882  \n",
       "Net Worth             1.000000             0.488580  \n",
       "Car Purchase Amount   0.488580             1.000000  "
      ]
     },
     "execution_count": 6,
     "metadata": {},
     "output_type": "execute_result"
    }
   ],
   "source": [
    "corr = pre_c_df.corr()\n",
    "corr"
   ]
  },
  {
   "cell_type": "code",
   "execution_count": 7,
   "id": "434a1c5c-c8e7-4df4-8ec9-6ee9c8bdf800",
   "metadata": {},
   "outputs": [
    {
     "data": {
      "image/png": "[encoded data removed]",
      "text/plain": [
       "<Figure size 640x480 with 2 Axes>"
      ]
     },
     "metadata": {},
     "output_type": "display_data"
    }
   ],
   "source": [
    "import matplotlib.pyplot as plt\n",
    "import seaborn as sns\n",
    "\n",
    "hm = sns.heatmap(corr)\n",
    "hm.set_title('Correlation')\n",
    "plt.show()"
   ]
  },
  {
   "cell_type": "code",
   "execution_count": 8,
   "id": "fc3a18fe-8e1b-4202-ba76-6f1e4831b3b0",
   "metadata": {},
   "outputs": [
    {
     "data": {
      "text/plain": [
       "Age                 0.633273\n",
       "Annual Salary       0.617862\n",
       "Net Worth           0.488580\n",
       "Credit Card Debt    0.028882\n",
       "Gender             -0.066408\n",
       "Name: Car Purchase Amount, dtype: float64"
      ]
     },
     "execution_count": 8,
     "metadata": {},
     "output_type": "execute_result"
    }
   ],
   "source": [
    "corr['Car Purchase Amount'].sort_values(ascending=False)[1:]"
   ]
  },
  {
   "cell_type": "markdown",
   "id": "ede313db-e103-4243-8bd5-b5f346edbf9f",
   "metadata": {},
   "source": [
    "### 1. 직접 pytorch를 통해 진행"
   ]
  },
  {
   "cell_type": "code",
   "execution_count": 20,
   "id": "84fdcffb-ffae-4c24-9448-d26185a0ec4c",
   "metadata": {},
   "outputs": [
    {
     "name": "stdout",
     "output_type": "stream",
     "text": [
      "100000/1000000: W1: 0.0099, W2: 0.5165, W3: 0.0284, W4: -0.0146, W5: -0.0000, b: -0.0000, loss: 45465084.0000\n",
      "200000/1000000: W1: 0.0196, W2: 0.5172, W3: 0.0284, W4: -0.0194, W5: -0.0001, b: -0.0000, loss: 45463748.0000\n",
      "300000/1000000: W1: 0.0293, W2: 0.5172, W3: 0.0284, W4: -0.0196, W5: -0.0001, b: -0.0001, loss: 45462796.0000\n",
      "400000/1000000: W1: 0.0390, W2: 0.5172, W3: 0.0284, W4: -0.0196, W5: -0.0001, b: -0.0001, loss: 45461856.0000\n",
      "500000/1000000: W1: 0.0487, W2: 0.5172, W3: 0.0284, W4: -0.0197, W5: -0.0002, b: -0.0001, loss: 45460920.0000\n",
      "600000/1000000: W1: 0.0584, W2: 0.5172, W3: 0.0284, W4: -0.0197, W5: -0.0002, b: -0.0001, loss: 45459984.0000\n",
      "700000/1000000: W1: 0.0681, W2: 0.5172, W3: 0.0284, W4: -0.0197, W5: -0.0003, b: -0.0001, loss: 45459036.0000\n",
      "800000/1000000: W1: 0.0777, W2: 0.5172, W3: 0.0284, W4: -0.0197, W5: -0.0003, b: -0.0002, loss: 45458096.0000\n",
      "900000/1000000: W1: 0.0874, W2: 0.5172, W3: 0.0284, W4: -0.0198, W5: -0.0003, b: -0.0002, loss: 45457156.0000\n",
      "1000000/1000000: W1: 0.0971, W2: 0.5172, W3: 0.0284, W4: -0.0198, W5: -0.0004, b: -0.0002, loss: 45456216.0000\n"
     ]
    }
   ],
   "source": [
    "import torch\n",
    "from torch.optim import SGD\n",
    "from sklearn.model_selection import train_test_split\n",
    "\n",
    "torch.manual_seed(124)\n",
    "\n",
    "features, targets = pre_c_df.iloc[:, :-1], pre_c_df.iloc[:, -1]\n",
    "\n",
    "X_train, X_test, y_train, y_test = train_test_split(features, targets, test_size=0.2, random_state=124)\n",
    "\n",
    "X_train1 = torch.FloatTensor(X_train.Age.values).view(-1, 1)\n",
    "X_train2 = torch.FloatTensor(X_train['Annual Salary'].values).view(-1, 1)\n",
    "X_train3 = torch.FloatTensor(X_train['Net Worth'].values).view(-1, 1)\n",
    "X_train4 = torch.FloatTensor(X_train['Credit Card Debt'].values).view(-1, 1)\n",
    "X_train5 = torch.FloatTensor(X_train['Gender'].values).view(-1, 1)\n",
    "y_train = torch.FloatTensor(y_train.values).view(-1, 1)\n",
    "\n",
    "X_test1 = torch.FloatTensor(X_test.Age.values).view(-1, 1)\n",
    "X_test2 = torch.FloatTensor(X_test['Annual Salary'].values).view(-1, 1)\n",
    "X_test3 = torch.FloatTensor(X_test['Net Worth'].values).view(-1, 1)\n",
    "X_test4 = torch.FloatTensor(X_test['Credit Card Debt'].values).view(-1, 1)\n",
    "X_test5 = torch.FloatTensor(X_test['Gender'].values).view(-1, 1)\n",
    "y_test = torch.FloatTensor(y_test.values).view(-1, 1)\n",
    "\n",
    "W1 = torch.zeros(1, requires_grad=True)\n",
    "W2 = torch.zeros(1, requires_grad=True)\n",
    "W3 = torch.zeros(1, requires_grad=True)\n",
    "W4 = torch.zeros(1, requires_grad=True)\n",
    "W5 = torch.zeros(1, requires_grad=True)\n",
    "b = torch.zeros(1, requires_grad=True)\n",
    "\n",
    "optimizer = SGD([W1, W2, W3, W4, W5, b], lr=1e-12)\n",
    "\n",
    "epochs = 1000000\n",
    "\n",
    "for epoch in range(1, epochs + 1):\n",
    "    H = W1 * X_train1 + W2 * X_train2 + W3 * X_train3 + W4 * X_train4 + W5 * X_train5 + b\n",
    "    loss = torch.mean((y_train - H) ** 2)\n",
    "    \n",
    "    optimizer.zero_grad()\n",
    "    loss.backward()\n",
    "    optimizer.step()\n",
    "\n",
    "    if epoch % 100000 == 0:\n",
    "        print('{:4d}/{}: W1: {:.4f}, W2: {:.4f}, W3: {:.4f}, W4: {:.4f}, W5: {:.4f}, b: {:.4f}, loss: {:.4f}'\\\n",
    "            .format(epoch, epochs, W1.item(), W2.item(), W3.item(), W4.item(), W5.item(), b.item(), loss.item()))"
   ]
  },
  {
   "cell_type": "code",
   "execution_count": 22,
   "id": "c6f724e9-7bf0-4e0f-b894-530099af7257",
   "metadata": {},
   "outputs": [
    {
     "name": "stdout",
     "output_type": "stream",
     "text": [
      "MSE loss: 44902704.0000, RMSE loss: 6700.9480\n"
     ]
    }
   ],
   "source": [
    "import numpy as np\n",
    "\n",
    "H = 0.0971 * X_test1 + 0.5172 * X_test2 + 0.0284 * X_test3 + (-0.0198) * X_test4 + (-0.0004) * X_test5 - 0.0002\n",
    "loss = torch.mean((y_test - H) ** 2)\n",
    "print('MSE loss: {:.4f}, RMSE loss: {:.4f}'.format(loss.item(), np.sqrt(loss.item())))"
   ]
  },
  {
   "cell_type": "markdown",
   "id": "c80b64cd-519c-4c9e-825b-19ad8e913bee",
   "metadata": {},
   "source": [
    "### 2. Pytorch에서 행렬의 내적 사용"
   ]
  },
  {
   "cell_type": "code",
   "execution_count": 38,
   "id": "f9174f4c-0515-4231-a2b3-00ff380ce0b3",
   "metadata": {},
   "outputs": [
    {
     "name": "stdout",
     "output_type": "stream",
     "text": [
      "100000/1000000: W1: -0.0000, W2: 0.0099, W3: 0.5165, W4: -0.0146, W5: 0.0284, b: -0.0000, loss: 45465076.0000\n",
      "200000/1000000: W1: -0.0001, W2: 0.0196, W3: 0.5172, W4: -0.0194, W5: 0.0284, b: -0.0000, loss: 45463740.0000\n",
      "300000/1000000: W1: -0.0001, W2: 0.0293, W3: 0.5172, W4: -0.0196, W5: 0.0284, b: -0.0001, loss: 45462800.0000\n",
      "400000/1000000: W1: -0.0001, W2: 0.0390, W3: 0.5172, W4: -0.0196, W5: 0.0284, b: -0.0001, loss: 45461864.0000\n",
      "500000/1000000: W1: -0.0002, W2: 0.0487, W3: 0.5172, W4: -0.0197, W5: 0.0284, b: -0.0001, loss: 45460920.0000\n",
      "600000/1000000: W1: -0.0002, W2: 0.0584, W3: 0.5172, W4: -0.0197, W5: 0.0284, b: -0.0001, loss: 45459980.0000\n",
      "700000/1000000: W1: -0.0003, W2: 0.0681, W3: 0.5172, W4: -0.0197, W5: 0.0284, b: -0.0001, loss: 45459036.0000\n",
      "800000/1000000: W1: -0.0003, W2: 0.0777, W3: 0.5172, W4: -0.0197, W5: 0.0284, b: -0.0002, loss: 45458096.0000\n",
      "900000/1000000: W1: -0.0003, W2: 0.0874, W3: 0.5172, W4: -0.0198, W5: 0.0284, b: -0.0002, loss: 45457156.0000\n",
      "1000000/1000000: W1: -0.0004, W2: 0.0971, W3: 0.5172, W4: -0.0198, W5: 0.0284, b: -0.0002, loss: 45456208.0000\n"
     ]
    }
   ],
   "source": [
    "import torch\n",
    "from torch.optim import SGD\n",
    "from sklearn.model_selection import train_test_split\n",
    "\n",
    "torch.manual_seed(124)\n",
    "\n",
    "features, targets = pre_c_df.iloc[:, :-1], pre_c_df.iloc[:, -1]\n",
    "\n",
    "X_train, X_test, y_train, y_test = train_test_split(features, targets, test_size=0.2, random_state=124)\n",
    "\n",
    "X_train = torch.FloatTensor(X_train.values)\n",
    "y_train = torch.FloatTensor(y_train.values).view(-1, 1)\n",
    "\n",
    "X_test = torch.FloatTensor(X_test.values)\n",
    "y_test = torch.FloatTensor(y_test.values).view(-1, 1)\n",
    "\n",
    "W = torch.zeros((5, 1), requires_grad=True)\n",
    "b = torch.zeros(1, requires_grad=True)\n",
    "\n",
    "optimizer = SGD([W, b], lr=1e-12)\n",
    "\n",
    "epochs = 1000000\n",
    "\n",
    "for epoch in range(1, epochs + 1):\n",
    "    H = X_train.matmul(W) + b\n",
    "    loss = torch.mean((y_train - H) ** 2)\n",
    "    \n",
    "    optimizer.zero_grad()\n",
    "    loss.backward()\n",
    "    optimizer.step()\n",
    "\n",
    "    if epoch % 100000 == 0:\n",
    "        print('{:4d}/{}: W1: {:.4f}, W2: {:.4f}, W3: {:.4f}, W4: {:.4f}, W5: {:.4f}, b: {:.4f}, loss: {:.4f}'\\\n",
    "            .format(epoch, epochs, W[0].item(), W[1].item(), W[2].item(), W[3].item(), W[4].item(), b.item(), loss.item()))"
   ]
  },
  {
   "cell_type": "code",
   "execution_count": 39,
   "id": "57fc3875-57d5-447d-91ac-6fa68f89db5a",
   "metadata": {},
   "outputs": [
    {
     "name": "stdout",
     "output_type": "stream",
     "text": [
      "MSE loss: 44915888.0000, RMSE loss: 6701.9317\n"
     ]
    }
   ],
   "source": [
    "import numpy as np\n",
    "H = X_test.matmul(W) + b\n",
    "loss = torch.mean((y_test - H) ** 2)\n",
    "print('MSE loss: {:.4f}, RMSE loss: {:.4f}'.format(loss.item(), np.sqrt(loss.item())))"
   ]
  },
  {
   "cell_type": "markdown",
   "id": "f36af600-83f9-41a3-9388-e9cf92c6f457",
   "metadata": {},
   "source": [
    "### 3. Pytorch의 Linear 사용"
   ]
  },
  {
   "cell_type": "code",
   "execution_count": 40,
   "id": "c0c290d5-9b24-4bda-8e85-fa77970766fb",
   "metadata": {},
   "outputs": [
    {
     "name": "stdout",
     "output_type": "stream",
     "text": [
      "100000/1000000: W1: -0.3107, W2: 0.1273, W3: 0.5169, W4: -0.0183, W5: 0.0284, b: -0.3371, loss: 45453132.0000\n",
      "200000/1000000: W1: -0.3107, W2: 0.1377, W3: 0.5171, W4: -0.0196, W5: 0.0284, b: -0.3371, loss: 45452084.0000\n",
      "300000/1000000: W1: -0.3107, W2: 0.1481, W3: 0.5171, W4: -0.0197, W5: 0.0284, b: -0.3371, loss: 45451076.0000\n",
      "400000/1000000: W1: -0.3107, W2: 0.1586, W3: 0.5171, W4: -0.0197, W5: 0.0284, b: -0.3371, loss: 45450056.0000\n",
      "500000/1000000: W1: -0.3107, W2: 0.1690, W3: 0.5171, W4: -0.0198, W5: 0.0284, b: -0.3371, loss: 45449048.0000\n",
      "600000/1000000: W1: -0.3107, W2: 0.1794, W3: 0.5171, W4: -0.0198, W5: 0.0284, b: -0.3371, loss: 45448032.0000\n",
      "700000/1000000: W1: -0.3107, W2: 0.1899, W3: 0.5171, W4: -0.0198, W5: 0.0284, b: -0.3371, loss: 45447016.0000\n",
      "800000/1000000: W1: -0.3107, W2: 0.2003, W3: 0.5171, W4: -0.0198, W5: 0.0284, b: -0.3371, loss: 45446004.0000\n",
      "900000/1000000: W1: -0.3107, W2: 0.2107, W3: 0.5171, W4: -0.0199, W5: 0.0284, b: -0.3371, loss: 45444992.0000\n",
      "1000000/1000000: W1: -0.3107, W2: 0.2211, W3: 0.5171, W4: -0.0199, W5: 0.0284, b: -0.3371, loss: 45443984.0000\n"
     ]
    }
   ],
   "source": [
    "import torch\n",
    "from torch.nn import Linear\n",
    "from torch.nn.functional import mse_loss\n",
    "from torch.optim import SGD\n",
    "from sklearn.model_selection import train_test_split\n",
    "\n",
    "torch.manual_seed(124)\n",
    "\n",
    "features, targets = pre_c_df.iloc[:, :-1], pre_c_df.iloc[:, -1]\n",
    "\n",
    "X_train, X_test, y_train, y_test = train_test_split(features, targets, test_size=0.2, random_state=124)\n",
    "\n",
    "X_train = torch.FloatTensor(X_train.values)\n",
    "y_train = torch.FloatTensor(y_train.values).view(-1, 1)\n",
    "\n",
    "X_test = torch.FloatTensor(X_test.values)\n",
    "y_test = torch.FloatTensor(y_test.values).view(-1, 1)\n",
    "\n",
    "l_r = Linear(5, 1)\n",
    "\n",
    "optimizer = SGD(l_r.parameters(), lr=1e-12)\n",
    "\n",
    "epochs = 1000000\n",
    "\n",
    "for epoch in range(1, epochs + 1):\n",
    "    H = l_r(X_train)\n",
    "    loss = mse_loss(H, y_train)\n",
    "    \n",
    "    optimizer.zero_grad()\n",
    "    loss.backward()\n",
    "    optimizer.step()\n",
    "\n",
    "    if epoch % 100000 == 0:\n",
    "        print('{:4d}/{}: '\\\n",
    "            .format(epoch, epochs), end=\"\")\n",
    "        for i, w in enumerate(list(l_r.parameters())[0][0]):\n",
    "            print('W{}: {:.4f}, '.format(i+1, w.item()), end='')\n",
    "        print('b: {:.4f}, loss: {:.4f}'.format(list(l_r.parameters())[1].item(), loss.item()))"
   ]
  },
  {
   "cell_type": "code",
   "execution_count": 41,
   "id": "59fa3a04-48eb-46a3-ac66-9e1020b6c36f",
   "metadata": {},
   "outputs": [
    {
     "name": "stdout",
     "output_type": "stream",
     "text": [
      "MSE loss: 44902924.0000, RMSE loss: 6700.9644\n"
     ]
    }
   ],
   "source": [
    "import numpy as np\n",
    "\n",
    "H = l_r(X_test)\n",
    "loss = torch.mean((y_test - H) ** 2)\n",
    "print('MSE loss: {:.4f}, RMSE loss: {:.4f}'.format(loss.item(), np.sqrt(loss.item())))"
   ]
  },
  {
   "cell_type": "markdown",
   "id": "06cd7096-146c-4d36-8cc8-b255167f5994",
   "metadata": {},
   "source": [
    "### 4. Pytorch의 Module을 상속받은 클래스를 직접 정의하여 사용"
   ]
  },
  {
   "cell_type": "code",
   "execution_count": 42,
   "id": "6ae66c52-13a3-46b4-84e2-07b6c479bbcb",
   "metadata": {},
   "outputs": [],
   "source": [
    "from torch.nn import Module, Linear\n",
    "\n",
    "class LinearRegressionModel(Module):\n",
    "    def __init__(self):\n",
    "        super().__init__()\n",
    "        self.linear = Linear(5, 1)\n",
    "\n",
    "    def forward(self, x):\n",
    "        return self.linear(x)"
   ]
  },
  {
   "cell_type": "code",
   "execution_count": 43,
   "id": "8f826792-d079-44d1-9f74-5fa45d2536ea",
   "metadata": {},
   "outputs": [
    {
     "name": "stdout",
     "output_type": "stream",
     "text": [
      "100000/1000000: W1: -0.3107, W2: 0.1273, W3: 0.5169, W4: -0.0183, W5: 0.0284, b: -0.3371, loss: 45453132.0000\n",
      "200000/1000000: W1: -0.3107, W2: 0.1377, W3: 0.5171, W4: -0.0196, W5: 0.0284, b: -0.3371, loss: 45452084.0000\n",
      "300000/1000000: W1: -0.3107, W2: 0.1481, W3: 0.5171, W4: -0.0197, W5: 0.0284, b: -0.3371, loss: 45451076.0000\n",
      "400000/1000000: W1: -0.3107, W2: 0.1586, W3: 0.5171, W4: -0.0197, W5: 0.0284, b: -0.3371, loss: 45450056.0000\n",
      "500000/1000000: W1: -0.3107, W2: 0.1690, W3: 0.5171, W4: -0.0198, W5: 0.0284, b: -0.3371, loss: 45449048.0000\n",
      "600000/1000000: W1: -0.3107, W2: 0.1794, W3: 0.5171, W4: -0.0198, W5: 0.0284, b: -0.3371, loss: 45448032.0000\n",
      "700000/1000000: W1: -0.3107, W2: 0.1899, W3: 0.5171, W4: -0.0198, W5: 0.0284, b: -0.3371, loss: 45447016.0000\n",
      "800000/1000000: W1: -0.3107, W2: 0.2003, W3: 0.5171, W4: -0.0198, W5: 0.0284, b: -0.3371, loss: 45446004.0000\n",
      "900000/1000000: W1: -0.3107, W2: 0.2107, W3: 0.5171, W4: -0.0199, W5: 0.0284, b: -0.3371, loss: 45444992.0000\n",
      "1000000/1000000: W1: -0.3107, W2: 0.2211, W3: 0.5171, W4: -0.0199, W5: 0.0284, b: -0.3371, loss: 45443984.0000\n"
     ]
    }
   ],
   "source": [
    "import torch\n",
    "from torch.nn import Linear\n",
    "from torch.nn.functional import mse_loss\n",
    "from torch.optim import SGD\n",
    "from sklearn.model_selection import train_test_split\n",
    "\n",
    "torch.manual_seed(124)\n",
    "\n",
    "features, targets = pre_c_df.iloc[:, :-1], pre_c_df.iloc[:, -1]\n",
    "\n",
    "X_train, X_test, y_train, y_test = train_test_split(features, targets, test_size=0.2, random_state=124)\n",
    "\n",
    "X_train = torch.FloatTensor(X_train.values)\n",
    "y_train = torch.FloatTensor(y_train.values).view(-1, 1)\n",
    "\n",
    "X_test = torch.FloatTensor(X_test.values)\n",
    "y_test = torch.FloatTensor(y_test.values).view(-1, 1)\n",
    "\n",
    "l_r = LinearRegressionModel()\n",
    "\n",
    "optimizer = SGD(l_r.parameters(), lr=1e-12)\n",
    "\n",
    "epochs = 1000000\n",
    "\n",
    "for epoch in range(1, epochs + 1):\n",
    "    H = l_r(X_train)\n",
    "    loss = mse_loss(H, y_train)\n",
    "    \n",
    "    optimizer.zero_grad()\n",
    "    loss.backward()\n",
    "    optimizer.step()\n",
    "\n",
    "    if epoch % 100000 == 0:\n",
    "        print('{:4d}/{}: '\\\n",
    "            .format(epoch, epochs), end=\"\")\n",
    "        for i, w in enumerate(list(l_r.parameters())[0][0]):\n",
    "            print('W{}: {:.4f}, '.format(i+1, w.item()), end='')\n",
    "        print('b: {:.4f}, loss: {:.4f}'.format(list(l_r.parameters())[1].item(), loss.item()))"
   ]
  },
  {
   "cell_type": "code",
   "execution_count": 44,
   "id": "c79ea495-bb6d-470f-9cb1-84c11aa114a5",
   "metadata": {},
   "outputs": [
    {
     "name": "stdout",
     "output_type": "stream",
     "text": [
      "MSE loss: 44902924.0000, RMSE loss: 6700.9644\n"
     ]
    }
   ],
   "source": [
    "import numpy as np\n",
    "\n",
    "H = l_r(X_test)\n",
    "loss = mse_loss(H, y_test)\n",
    "print('MSE loss: {:.4f}, RMSE loss: {:.4f}'.format(loss.item(), np.sqrt(loss.item())))"
   ]
  },
  {
   "cell_type": "markdown",
   "id": "55d7d279-173f-49c4-9fa9-753691865556",
   "metadata": {},
   "source": [
    "### 5. sklearn 사용"
   ]
  },
  {
   "cell_type": "code",
   "execution_count": 45,
   "id": "97617297-525c-49bb-8c41-afd22743814f",
   "metadata": {},
   "outputs": [
    {
     "name": "stdout",
     "output_type": "stream",
     "text": [
      "W1: 19.7889, W2: 839.5216, W3: 0.5611, W4: 0.0076, W5: 0.0289, b: -42015.4456\n"
     ]
    }
   ],
   "source": [
    "import numpy as np\n",
    "from sklearn.linear_model import LinearRegression\n",
    "from sklearn.model_selection import train_test_split\n",
    "from sklearn.metrics import mean_squared_error\n",
    "\n",
    "features, targets = pre_c_df.iloc[:, :-1], pre_c_df.iloc[:, -1]\n",
    "\n",
    "X_train, X_test, y_train, y_test = train_test_split(features, targets, test_size=0.2, random_state=124)\n",
    "\n",
    "l_r = LinearRegression()\n",
    "l_r.fit(X_train, y_train)\n",
    "print('W1: {:.4f}, W2: {:.4f}, W3: {:.4f}, W4: {:.4f}, W5: {:.4f}, b: {:.4f}'\\\n",
    "      .format(l_r.coef_[0], l_r.coef_[1], l_r.coef_[2], l_r.coef_[3], l_r.coef_[4], l_r.intercept_))"
   ]
  },
  {
   "cell_type": "code",
   "execution_count": 46,
   "id": "d8999487-1eb1-489c-a012-5401b822f7aa",
   "metadata": {},
   "outputs": [
    {
     "name": "stdout",
     "output_type": "stream",
     "text": [
      "MSE loss: 56658.4009, RMSE loss: 238.0303\n"
     ]
    },
    {
     "data": {
      "text/plain": [
       "0.9994860618742555"
      ]
     },
     "execution_count": 46,
     "metadata": {},
     "output_type": "execute_result"
    }
   ],
   "source": [
    "prediction = l_r.predict(X_test)\n",
    "print('MSE loss: {:.4f}, RMSE loss: {:.4f}'\\\n",
    "      .format(mean_squared_error(y_test, prediction), np.sqrt(mean_squared_error(y_test, prediction))))\n",
    "\n",
    "l_r.score(X_test, y_test)"
   ]
  },
  {
   "cell_type": "markdown",
   "id": "c8ad363e-da26-487e-9db1-c50442db134f",
   "metadata": {},
   "source": [
    "### 평가 함수"
   ]
  },
  {
   "cell_type": "code",
   "execution_count": null,
   "id": "164034ba-6353-44e1-b410-d75b34dee34f",
   "metadata": {},
   "outputs": [],
   "source": [
    "from sklearn.metrics import mean_squared_log_error, mean_squared_error\n",
    "import numpy as np\n",
    "\n",
    "def get_evaluation(y_test, prediction):\n",
    "    MSE = mean_squared_error(y_test, prediction)\n",
    "    RMSE = np.sqrt(MSE)\n",
    "    MSLE = mean_squared_log_error(y_test, prediction)\n",
    "    RMSLE = np.sqrt(MSLE)\n",
    "    print('MSE: {:.4f}, RMSE: {:.4f}, MSLE: {:.4f}, RMSLE: {:.4f}'\\\n",
    "        .format(MSE, RMSE, MSLE, RMSLE))"
   ]
  },
  {
   "cell_type": "code",
   "execution_count": null,
   "id": "c0e80203-d9aa-4813-b405-fd331d569134",
   "metadata": {},
   "outputs": [],
   "source": [
    "for i, w in enumerate(l_r.coef_):\n",
    "            print('W{}: {:.4f}, '\\\n",
    "                  .format(i + 1, w.item()), end='')\n",
    "print('b: {:.4f}'\\\n",
    "      .format(l_r.intercept_))\n",
    "get_evaluation(y_test, prediction)"
   ]
  },
  {
   "cell_type": "code",
   "execution_count": null,
   "id": "b4b75882-a272-462c-8d4a-ef96947545b9",
   "metadata": {},
   "outputs": [],
   "source": []
  }
 ],
 "metadata": {
  "kernelspec": {
   "display_name": "Python 3 (ipykernel)",
   "language": "python",
   "name": "python3"
  },
  "language_info": {
   "codemirror_mode": {
    "name": "ipython",
    "version": 3
   },
   "file_extension": ".py",
   "mimetype": "text/x-python",
   "name": "python",
   "nbconvert_exporter": "python",
   "pygments_lexer": "ipython3",
   "version": "3.11.8"
  }
 },
 "nbformat": 4,
 "nbformat_minor": 5
}
