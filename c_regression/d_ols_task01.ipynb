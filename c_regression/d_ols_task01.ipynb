{
 "cells": [
  {
   "cell_type": "markdown",
   "id": "653811f6-b492-4d48-912f-8c434f83bf76",
   "metadata": {},
   "source": [
    "### OLS Task01\n",
    "#### 쇼핑 고객 데이터\n",
    "\n",
    "- Customer ID: 고객 아이디\n",
    "- Gender: 고객의 성별\n",
    "- Age: 고객의 나이\n",
    "- Annual Income: 고객의 연소득\n",
    "- Spending Score: 고객 행동 및 지출 성격에 따라 상점에서 할당한 점수\n",
    "- Profession: 직업, 전문직\n",
    "- Work Experience: 고객의 근무 경력(연 단위)\n",
    "- Family Size: 가족 구성원 수"
   ]
  },
  {
   "cell_type": "code",
   "execution_count": 54,
   "id": "59c9f90d-b5ff-49ef-bac7-051a2b3c8695",
   "metadata": {},
   "outputs": [
    {
     "data": {
      "text/html": [
       "<div>\n",
       "<style scoped>\n",
       "    .dataframe tbody tr th:only-of-type {\n",
       "        vertical-align: middle;\n",
       "    }\n",
       "\n",
       "    .dataframe tbody tr th {\n",
       "        vertical-align: top;\n",
       "    }\n",
       "\n",
       "    .dataframe thead th {\n",
       "        text-align: right;\n",
       "    }\n",
       "</style>\n",
       "<table border=\"1\" class=\"dataframe\">\n",
       "  <thead>\n",
       "    <tr style=\"text-align: right;\">\n",
       "      <th></th>\n",
       "      <th>CustomerID</th>\n",
       "      <th>Gender</th>\n",
       "      <th>Age</th>\n",
       "      <th>Annual Income ($)</th>\n",
       "      <th>Spending Score (1-100)</th>\n",
       "      <th>Profession</th>\n",
       "      <th>Work Experience</th>\n",
       "      <th>Family Size</th>\n",
       "    </tr>\n",
       "  </thead>\n",
       "  <tbody>\n",
       "    <tr>\n",
       "      <th>0</th>\n",
       "      <td>1</td>\n",
       "      <td>Male</td>\n",
       "      <td>19</td>\n",
       "      <td>15000</td>\n",
       "      <td>39</td>\n",
       "      <td>Healthcare</td>\n",
       "      <td>1</td>\n",
       "      <td>4</td>\n",
       "    </tr>\n",
       "    <tr>\n",
       "      <th>1</th>\n",
       "      <td>2</td>\n",
       "      <td>Male</td>\n",
       "      <td>21</td>\n",
       "      <td>35000</td>\n",
       "      <td>81</td>\n",
       "      <td>Engineer</td>\n",
       "      <td>3</td>\n",
       "      <td>3</td>\n",
       "    </tr>\n",
       "    <tr>\n",
       "      <th>2</th>\n",
       "      <td>3</td>\n",
       "      <td>Female</td>\n",
       "      <td>20</td>\n",
       "      <td>86000</td>\n",
       "      <td>6</td>\n",
       "      <td>Engineer</td>\n",
       "      <td>1</td>\n",
       "      <td>1</td>\n",
       "    </tr>\n",
       "    <tr>\n",
       "      <th>3</th>\n",
       "      <td>4</td>\n",
       "      <td>Female</td>\n",
       "      <td>23</td>\n",
       "      <td>59000</td>\n",
       "      <td>77</td>\n",
       "      <td>Lawyer</td>\n",
       "      <td>0</td>\n",
       "      <td>2</td>\n",
       "    </tr>\n",
       "    <tr>\n",
       "      <th>4</th>\n",
       "      <td>5</td>\n",
       "      <td>Female</td>\n",
       "      <td>31</td>\n",
       "      <td>38000</td>\n",
       "      <td>40</td>\n",
       "      <td>Entertainment</td>\n",
       "      <td>2</td>\n",
       "      <td>6</td>\n",
       "    </tr>\n",
       "    <tr>\n",
       "      <th>...</th>\n",
       "      <td>...</td>\n",
       "      <td>...</td>\n",
       "      <td>...</td>\n",
       "      <td>...</td>\n",
       "      <td>...</td>\n",
       "      <td>...</td>\n",
       "      <td>...</td>\n",
       "      <td>...</td>\n",
       "    </tr>\n",
       "    <tr>\n",
       "      <th>1995</th>\n",
       "      <td>1996</td>\n",
       "      <td>Female</td>\n",
       "      <td>71</td>\n",
       "      <td>184387</td>\n",
       "      <td>40</td>\n",
       "      <td>Artist</td>\n",
       "      <td>8</td>\n",
       "      <td>7</td>\n",
       "    </tr>\n",
       "    <tr>\n",
       "      <th>1996</th>\n",
       "      <td>1997</td>\n",
       "      <td>Female</td>\n",
       "      <td>91</td>\n",
       "      <td>73158</td>\n",
       "      <td>32</td>\n",
       "      <td>Doctor</td>\n",
       "      <td>7</td>\n",
       "      <td>7</td>\n",
       "    </tr>\n",
       "    <tr>\n",
       "      <th>1997</th>\n",
       "      <td>1998</td>\n",
       "      <td>Male</td>\n",
       "      <td>87</td>\n",
       "      <td>90961</td>\n",
       "      <td>14</td>\n",
       "      <td>Healthcare</td>\n",
       "      <td>9</td>\n",
       "      <td>2</td>\n",
       "    </tr>\n",
       "    <tr>\n",
       "      <th>1998</th>\n",
       "      <td>1999</td>\n",
       "      <td>Male</td>\n",
       "      <td>77</td>\n",
       "      <td>182109</td>\n",
       "      <td>4</td>\n",
       "      <td>Executive</td>\n",
       "      <td>7</td>\n",
       "      <td>2</td>\n",
       "    </tr>\n",
       "    <tr>\n",
       "      <th>1999</th>\n",
       "      <td>2000</td>\n",
       "      <td>Male</td>\n",
       "      <td>90</td>\n",
       "      <td>110610</td>\n",
       "      <td>52</td>\n",
       "      <td>Entertainment</td>\n",
       "      <td>5</td>\n",
       "      <td>2</td>\n",
       "    </tr>\n",
       "  </tbody>\n",
       "</table>\n",
       "<p>2000 rows × 8 columns</p>\n",
       "</div>"
      ],
      "text/plain": [
       "      CustomerID  Gender  Age  Annual Income ($)  Spending Score (1-100)  \\\n",
       "0              1    Male   19              15000                      39   \n",
       "1              2    Male   21              35000                      81   \n",
       "2              3  Female   20              86000                       6   \n",
       "3              4  Female   23              59000                      77   \n",
       "4              5  Female   31              38000                      40   \n",
       "...          ...     ...  ...                ...                     ...   \n",
       "1995        1996  Female   71             184387                      40   \n",
       "1996        1997  Female   91              73158                      32   \n",
       "1997        1998    Male   87              90961                      14   \n",
       "1998        1999    Male   77             182109                       4   \n",
       "1999        2000    Male   90             110610                      52   \n",
       "\n",
       "         Profession  Work Experience  Family Size  \n",
       "0        Healthcare                1            4  \n",
       "1          Engineer                3            3  \n",
       "2          Engineer                1            1  \n",
       "3            Lawyer                0            2  \n",
       "4     Entertainment                2            6  \n",
       "...             ...              ...          ...  \n",
       "1995         Artist                8            7  \n",
       "1996         Doctor                7            7  \n",
       "1997     Healthcare                9            2  \n",
       "1998      Executive                7            2  \n",
       "1999  Entertainment                5            2  \n",
       "\n",
       "[2000 rows x 8 columns]"
      ]
     },
     "execution_count": 54,
     "metadata": {},
     "output_type": "execute_result"
    }
   ],
   "source": [
    "import pandas as pd\n",
    "\n",
    "c_df = pd.read_csv('./datasets/customers.csv')\n",
    "c_df"
   ]
  },
  {
   "cell_type": "code",
   "execution_count": 55,
   "id": "fe82b4bf-05d6-464b-ab1a-196ccb53509e",
   "metadata": {},
   "outputs": [
    {
     "data": {
      "text/plain": [
       "CustomerID                 0\n",
       "Gender                     0\n",
       "Age                        0\n",
       "Annual Income ($)          0\n",
       "Spending Score (1-100)     0\n",
       "Profession                35\n",
       "Work Experience            0\n",
       "Family Size                0\n",
       "dtype: int64"
      ]
     },
     "execution_count": 55,
     "metadata": {},
     "output_type": "execute_result"
    }
   ],
   "source": [
    "c_df.isna().sum()"
   ]
  },
  {
   "cell_type": "code",
   "execution_count": 56,
   "id": "d852b36a-f17a-484f-a5ba-60e50cafe880",
   "metadata": {},
   "outputs": [
    {
     "data": {
      "text/plain": [
       "Profession\n",
       "Artist           612\n",
       "Healthcare       339\n",
       "Entertainment    234\n",
       "Engineer         179\n",
       "Doctor           161\n",
       "Executive        153\n",
       "Lawyer           142\n",
       "Marketing         85\n",
       "Homemaker         60\n",
       "Name: count, dtype: int64"
      ]
     },
     "execution_count": 56,
     "metadata": {},
     "output_type": "execute_result"
    }
   ],
   "source": [
    "c_df.Profession.value_counts()"
   ]
  },
  {
   "cell_type": "code",
   "execution_count": 57,
   "id": "6017f871-691d-4395-862c-f4299ecb0663",
   "metadata": {},
   "outputs": [
    {
     "name": "stdout",
     "output_type": "stream",
     "text": [
      "CustomerID                0\n",
      "Gender                    0\n",
      "Age                       0\n",
      "Annual Income ($)         0\n",
      "Spending Score (1-100)    0\n",
      "Profession                0\n",
      "Work Experience           0\n",
      "Family Size               0\n",
      "dtype: int64\n"
     ]
    },
    {
     "data": {
      "text/html": [
       "<div>\n",
       "<style scoped>\n",
       "    .dataframe tbody tr th:only-of-type {\n",
       "        vertical-align: middle;\n",
       "    }\n",
       "\n",
       "    .dataframe tbody tr th {\n",
       "        vertical-align: top;\n",
       "    }\n",
       "\n",
       "    .dataframe thead th {\n",
       "        text-align: right;\n",
       "    }\n",
       "</style>\n",
       "<table border=\"1\" class=\"dataframe\">\n",
       "  <thead>\n",
       "    <tr style=\"text-align: right;\">\n",
       "      <th></th>\n",
       "      <th>CustomerID</th>\n",
       "      <th>Gender</th>\n",
       "      <th>Age</th>\n",
       "      <th>Annual Income ($)</th>\n",
       "      <th>Spending Score (1-100)</th>\n",
       "      <th>Profession</th>\n",
       "      <th>Work Experience</th>\n",
       "      <th>Family Size</th>\n",
       "    </tr>\n",
       "  </thead>\n",
       "  <tbody>\n",
       "    <tr>\n",
       "      <th>0</th>\n",
       "      <td>1</td>\n",
       "      <td>Male</td>\n",
       "      <td>19</td>\n",
       "      <td>15000</td>\n",
       "      <td>39</td>\n",
       "      <td>Healthcare</td>\n",
       "      <td>1</td>\n",
       "      <td>4</td>\n",
       "    </tr>\n",
       "    <tr>\n",
       "      <th>1</th>\n",
       "      <td>2</td>\n",
       "      <td>Male</td>\n",
       "      <td>21</td>\n",
       "      <td>35000</td>\n",
       "      <td>81</td>\n",
       "      <td>Engineer</td>\n",
       "      <td>3</td>\n",
       "      <td>3</td>\n",
       "    </tr>\n",
       "    <tr>\n",
       "      <th>2</th>\n",
       "      <td>3</td>\n",
       "      <td>Female</td>\n",
       "      <td>20</td>\n",
       "      <td>86000</td>\n",
       "      <td>6</td>\n",
       "      <td>Engineer</td>\n",
       "      <td>1</td>\n",
       "      <td>1</td>\n",
       "    </tr>\n",
       "    <tr>\n",
       "      <th>3</th>\n",
       "      <td>4</td>\n",
       "      <td>Female</td>\n",
       "      <td>23</td>\n",
       "      <td>59000</td>\n",
       "      <td>77</td>\n",
       "      <td>Lawyer</td>\n",
       "      <td>0</td>\n",
       "      <td>2</td>\n",
       "    </tr>\n",
       "    <tr>\n",
       "      <th>4</th>\n",
       "      <td>5</td>\n",
       "      <td>Female</td>\n",
       "      <td>31</td>\n",
       "      <td>38000</td>\n",
       "      <td>40</td>\n",
       "      <td>Entertainment</td>\n",
       "      <td>2</td>\n",
       "      <td>6</td>\n",
       "    </tr>\n",
       "    <tr>\n",
       "      <th>...</th>\n",
       "      <td>...</td>\n",
       "      <td>...</td>\n",
       "      <td>...</td>\n",
       "      <td>...</td>\n",
       "      <td>...</td>\n",
       "      <td>...</td>\n",
       "      <td>...</td>\n",
       "      <td>...</td>\n",
       "    </tr>\n",
       "    <tr>\n",
       "      <th>1960</th>\n",
       "      <td>1996</td>\n",
       "      <td>Female</td>\n",
       "      <td>71</td>\n",
       "      <td>184387</td>\n",
       "      <td>40</td>\n",
       "      <td>Artist</td>\n",
       "      <td>8</td>\n",
       "      <td>7</td>\n",
       "    </tr>\n",
       "    <tr>\n",
       "      <th>1961</th>\n",
       "      <td>1997</td>\n",
       "      <td>Female</td>\n",
       "      <td>91</td>\n",
       "      <td>73158</td>\n",
       "      <td>32</td>\n",
       "      <td>Doctor</td>\n",
       "      <td>7</td>\n",
       "      <td>7</td>\n",
       "    </tr>\n",
       "    <tr>\n",
       "      <th>1962</th>\n",
       "      <td>1998</td>\n",
       "      <td>Male</td>\n",
       "      <td>87</td>\n",
       "      <td>90961</td>\n",
       "      <td>14</td>\n",
       "      <td>Healthcare</td>\n",
       "      <td>9</td>\n",
       "      <td>2</td>\n",
       "    </tr>\n",
       "    <tr>\n",
       "      <th>1963</th>\n",
       "      <td>1999</td>\n",
       "      <td>Male</td>\n",
       "      <td>77</td>\n",
       "      <td>182109</td>\n",
       "      <td>4</td>\n",
       "      <td>Executive</td>\n",
       "      <td>7</td>\n",
       "      <td>2</td>\n",
       "    </tr>\n",
       "    <tr>\n",
       "      <th>1964</th>\n",
       "      <td>2000</td>\n",
       "      <td>Male</td>\n",
       "      <td>90</td>\n",
       "      <td>110610</td>\n",
       "      <td>52</td>\n",
       "      <td>Entertainment</td>\n",
       "      <td>5</td>\n",
       "      <td>2</td>\n",
       "    </tr>\n",
       "  </tbody>\n",
       "</table>\n",
       "<p>1965 rows × 8 columns</p>\n",
       "</div>"
      ],
      "text/plain": [
       "      CustomerID  Gender  Age  Annual Income ($)  Spending Score (1-100)  \\\n",
       "0              1    Male   19              15000                      39   \n",
       "1              2    Male   21              35000                      81   \n",
       "2              3  Female   20              86000                       6   \n",
       "3              4  Female   23              59000                      77   \n",
       "4              5  Female   31              38000                      40   \n",
       "...          ...     ...  ...                ...                     ...   \n",
       "1960        1996  Female   71             184387                      40   \n",
       "1961        1997  Female   91              73158                      32   \n",
       "1962        1998    Male   87              90961                      14   \n",
       "1963        1999    Male   77             182109                       4   \n",
       "1964        2000    Male   90             110610                      52   \n",
       "\n",
       "         Profession  Work Experience  Family Size  \n",
       "0        Healthcare                1            4  \n",
       "1          Engineer                3            3  \n",
       "2          Engineer                1            1  \n",
       "3            Lawyer                0            2  \n",
       "4     Entertainment                2            6  \n",
       "...             ...              ...          ...  \n",
       "1960         Artist                8            7  \n",
       "1961         Doctor                7            7  \n",
       "1962     Healthcare                9            2  \n",
       "1963      Executive                7            2  \n",
       "1964  Entertainment                5            2  \n",
       "\n",
       "[1965 rows x 8 columns]"
      ]
     },
     "execution_count": 57,
     "metadata": {},
     "output_type": "execute_result"
    }
   ],
   "source": [
    "c_df = c_df[~(c_df['Profession'].isna())]\n",
    "c_df.reset_index(drop=True, inplace=True)\n",
    "print(c_df.isna().sum())\n",
    "c_df"
   ]
  },
  {
   "cell_type": "code",
   "execution_count": 58,
   "id": "50116f76-5791-4e15-bb3b-47aa0677df64",
   "metadata": {},
   "outputs": [
    {
     "data": {
      "text/plain": [
       "0"
      ]
     },
     "execution_count": 58,
     "metadata": {},
     "output_type": "execute_result"
    }
   ],
   "source": [
    "c_df.duplicated().sum()"
   ]
  },
  {
   "cell_type": "code",
   "execution_count": 59,
   "id": "4118a09e-40cb-4b10-a95a-2ec48c79300b",
   "metadata": {},
   "outputs": [
    {
     "data": {
      "text/plain": [
       "Gender\n",
       "Female    1166\n",
       "Male       799\n",
       "Name: count, dtype: int64"
      ]
     },
     "execution_count": 59,
     "metadata": {},
     "output_type": "execute_result"
    }
   ],
   "source": [
    "c_df.Gender.value_counts()"
   ]
  },
  {
   "cell_type": "code",
   "execution_count": 60,
   "id": "a52894a4-b6f8-47e5-9b65-587a46f20c8d",
   "metadata": {},
   "outputs": [
    {
     "data": {
      "text/plain": [
       "Work Experience\n",
       "1     466\n",
       "0     424\n",
       "8     164\n",
       "9     157\n",
       "4     121\n",
       "7     120\n",
       "6     119\n",
       "5     112\n",
       "10     83\n",
       "2      61\n",
       "3      53\n",
       "12     16\n",
       "13     16\n",
       "14     16\n",
       "15     14\n",
       "11     13\n",
       "16      5\n",
       "17      5\n",
       "Name: count, dtype: int64"
      ]
     },
     "execution_count": 60,
     "metadata": {},
     "output_type": "execute_result"
    }
   ],
   "source": [
    "c_df['Work Experience'].value_counts()"
   ]
  },
  {
   "cell_type": "code",
   "execution_count": 61,
   "id": "bf04a354-4ed4-4cb3-8de4-e9930e05ac5d",
   "metadata": {},
   "outputs": [
    {
     "data": {
      "text/plain": [
       "Family Size\n",
       "2    359\n",
       "3    308\n",
       "1    294\n",
       "4    281\n",
       "5    252\n",
       "6    240\n",
       "7    226\n",
       "8      4\n",
       "9      1\n",
       "Name: count, dtype: int64"
      ]
     },
     "execution_count": 61,
     "metadata": {},
     "output_type": "execute_result"
    }
   ],
   "source": [
    "c_df['Family Size'].value_counts()"
   ]
  },
  {
   "cell_type": "code",
   "execution_count": 62,
   "id": "d8040968-7ce7-4b04-bf32-c60ef164eb35",
   "metadata": {},
   "outputs": [
    {
     "data": {
      "text/html": [
       "<div>\n",
       "<style scoped>\n",
       "    .dataframe tbody tr th:only-of-type {\n",
       "        vertical-align: middle;\n",
       "    }\n",
       "\n",
       "    .dataframe tbody tr th {\n",
       "        vertical-align: top;\n",
       "    }\n",
       "\n",
       "    .dataframe thead th {\n",
       "        text-align: right;\n",
       "    }\n",
       "</style>\n",
       "<table border=\"1\" class=\"dataframe\">\n",
       "  <thead>\n",
       "    <tr style=\"text-align: right;\">\n",
       "      <th></th>\n",
       "      <th>Gender</th>\n",
       "      <th>Age</th>\n",
       "      <th>Annual Income ($)</th>\n",
       "      <th>Spending Score (1-100)</th>\n",
       "      <th>Profession</th>\n",
       "      <th>Work Experience</th>\n",
       "      <th>Family Size</th>\n",
       "    </tr>\n",
       "  </thead>\n",
       "  <tbody>\n",
       "    <tr>\n",
       "      <th>0</th>\n",
       "      <td>Male</td>\n",
       "      <td>19</td>\n",
       "      <td>15000</td>\n",
       "      <td>39</td>\n",
       "      <td>Healthcare</td>\n",
       "      <td>1</td>\n",
       "      <td>4</td>\n",
       "    </tr>\n",
       "    <tr>\n",
       "      <th>1</th>\n",
       "      <td>Male</td>\n",
       "      <td>21</td>\n",
       "      <td>35000</td>\n",
       "      <td>81</td>\n",
       "      <td>Engineer</td>\n",
       "      <td>3</td>\n",
       "      <td>3</td>\n",
       "    </tr>\n",
       "    <tr>\n",
       "      <th>2</th>\n",
       "      <td>Female</td>\n",
       "      <td>20</td>\n",
       "      <td>86000</td>\n",
       "      <td>6</td>\n",
       "      <td>Engineer</td>\n",
       "      <td>1</td>\n",
       "      <td>1</td>\n",
       "    </tr>\n",
       "    <tr>\n",
       "      <th>3</th>\n",
       "      <td>Female</td>\n",
       "      <td>23</td>\n",
       "      <td>59000</td>\n",
       "      <td>77</td>\n",
       "      <td>Lawyer</td>\n",
       "      <td>0</td>\n",
       "      <td>2</td>\n",
       "    </tr>\n",
       "    <tr>\n",
       "      <th>4</th>\n",
       "      <td>Female</td>\n",
       "      <td>31</td>\n",
       "      <td>38000</td>\n",
       "      <td>40</td>\n",
       "      <td>Entertainment</td>\n",
       "      <td>2</td>\n",
       "      <td>6</td>\n",
       "    </tr>\n",
       "    <tr>\n",
       "      <th>...</th>\n",
       "      <td>...</td>\n",
       "      <td>...</td>\n",
       "      <td>...</td>\n",
       "      <td>...</td>\n",
       "      <td>...</td>\n",
       "      <td>...</td>\n",
       "      <td>...</td>\n",
       "    </tr>\n",
       "    <tr>\n",
       "      <th>1960</th>\n",
       "      <td>Female</td>\n",
       "      <td>71</td>\n",
       "      <td>184387</td>\n",
       "      <td>40</td>\n",
       "      <td>Artist</td>\n",
       "      <td>8</td>\n",
       "      <td>7</td>\n",
       "    </tr>\n",
       "    <tr>\n",
       "      <th>1961</th>\n",
       "      <td>Female</td>\n",
       "      <td>91</td>\n",
       "      <td>73158</td>\n",
       "      <td>32</td>\n",
       "      <td>Doctor</td>\n",
       "      <td>7</td>\n",
       "      <td>7</td>\n",
       "    </tr>\n",
       "    <tr>\n",
       "      <th>1962</th>\n",
       "      <td>Male</td>\n",
       "      <td>87</td>\n",
       "      <td>90961</td>\n",
       "      <td>14</td>\n",
       "      <td>Healthcare</td>\n",
       "      <td>9</td>\n",
       "      <td>2</td>\n",
       "    </tr>\n",
       "    <tr>\n",
       "      <th>1963</th>\n",
       "      <td>Male</td>\n",
       "      <td>77</td>\n",
       "      <td>182109</td>\n",
       "      <td>4</td>\n",
       "      <td>Executive</td>\n",
       "      <td>7</td>\n",
       "      <td>2</td>\n",
       "    </tr>\n",
       "    <tr>\n",
       "      <th>1964</th>\n",
       "      <td>Male</td>\n",
       "      <td>90</td>\n",
       "      <td>110610</td>\n",
       "      <td>52</td>\n",
       "      <td>Entertainment</td>\n",
       "      <td>5</td>\n",
       "      <td>2</td>\n",
       "    </tr>\n",
       "  </tbody>\n",
       "</table>\n",
       "<p>1965 rows × 7 columns</p>\n",
       "</div>"
      ],
      "text/plain": [
       "      Gender  Age  Annual Income ($)  Spending Score (1-100)     Profession  \\\n",
       "0       Male   19              15000                      39     Healthcare   \n",
       "1       Male   21              35000                      81       Engineer   \n",
       "2     Female   20              86000                       6       Engineer   \n",
       "3     Female   23              59000                      77         Lawyer   \n",
       "4     Female   31              38000                      40  Entertainment   \n",
       "...      ...  ...                ...                     ...            ...   \n",
       "1960  Female   71             184387                      40         Artist   \n",
       "1961  Female   91              73158                      32         Doctor   \n",
       "1962    Male   87              90961                      14     Healthcare   \n",
       "1963    Male   77             182109                       4      Executive   \n",
       "1964    Male   90             110610                      52  Entertainment   \n",
       "\n",
       "      Work Experience  Family Size  \n",
       "0                   1            4  \n",
       "1                   3            3  \n",
       "2                   1            1  \n",
       "3                   0            2  \n",
       "4                   2            6  \n",
       "...               ...          ...  \n",
       "1960                8            7  \n",
       "1961                7            7  \n",
       "1962                9            2  \n",
       "1963                7            2  \n",
       "1964                5            2  \n",
       "\n",
       "[1965 rows x 7 columns]"
      ]
     },
     "execution_count": 62,
     "metadata": {},
     "output_type": "execute_result"
    }
   ],
   "source": [
    "c_df = c_df.drop(labels=['CustomerID'], axis=1)\n",
    "c_df"
   ]
  },
  {
   "cell_type": "code",
   "execution_count": 63,
   "id": "94160276-456f-441c-b1f1-66fd69362d64",
   "metadata": {},
   "outputs": [
    {
     "data": {
      "text/html": [
       "<div>\n",
       "<style scoped>\n",
       "    .dataframe tbody tr th:only-of-type {\n",
       "        vertical-align: middle;\n",
       "    }\n",
       "\n",
       "    .dataframe tbody tr th {\n",
       "        vertical-align: top;\n",
       "    }\n",
       "\n",
       "    .dataframe thead th {\n",
       "        text-align: right;\n",
       "    }\n",
       "</style>\n",
       "<table border=\"1\" class=\"dataframe\">\n",
       "  <thead>\n",
       "    <tr style=\"text-align: right;\">\n",
       "      <th></th>\n",
       "      <th>Age</th>\n",
       "      <th>Annual Income ($)</th>\n",
       "      <th>Spending Score (1-100)</th>\n",
       "      <th>Work Experience</th>\n",
       "      <th>Family Size</th>\n",
       "    </tr>\n",
       "  </thead>\n",
       "  <tbody>\n",
       "    <tr>\n",
       "      <th>0</th>\n",
       "      <td>19</td>\n",
       "      <td>15000</td>\n",
       "      <td>39</td>\n",
       "      <td>1</td>\n",
       "      <td>4</td>\n",
       "    </tr>\n",
       "    <tr>\n",
       "      <th>1</th>\n",
       "      <td>21</td>\n",
       "      <td>35000</td>\n",
       "      <td>81</td>\n",
       "      <td>3</td>\n",
       "      <td>3</td>\n",
       "    </tr>\n",
       "    <tr>\n",
       "      <th>2</th>\n",
       "      <td>20</td>\n",
       "      <td>86000</td>\n",
       "      <td>6</td>\n",
       "      <td>1</td>\n",
       "      <td>1</td>\n",
       "    </tr>\n",
       "    <tr>\n",
       "      <th>3</th>\n",
       "      <td>23</td>\n",
       "      <td>59000</td>\n",
       "      <td>77</td>\n",
       "      <td>0</td>\n",
       "      <td>2</td>\n",
       "    </tr>\n",
       "    <tr>\n",
       "      <th>4</th>\n",
       "      <td>31</td>\n",
       "      <td>38000</td>\n",
       "      <td>40</td>\n",
       "      <td>2</td>\n",
       "      <td>6</td>\n",
       "    </tr>\n",
       "    <tr>\n",
       "      <th>...</th>\n",
       "      <td>...</td>\n",
       "      <td>...</td>\n",
       "      <td>...</td>\n",
       "      <td>...</td>\n",
       "      <td>...</td>\n",
       "    </tr>\n",
       "    <tr>\n",
       "      <th>1960</th>\n",
       "      <td>71</td>\n",
       "      <td>184387</td>\n",
       "      <td>40</td>\n",
       "      <td>8</td>\n",
       "      <td>7</td>\n",
       "    </tr>\n",
       "    <tr>\n",
       "      <th>1961</th>\n",
       "      <td>91</td>\n",
       "      <td>73158</td>\n",
       "      <td>32</td>\n",
       "      <td>7</td>\n",
       "      <td>7</td>\n",
       "    </tr>\n",
       "    <tr>\n",
       "      <th>1962</th>\n",
       "      <td>87</td>\n",
       "      <td>90961</td>\n",
       "      <td>14</td>\n",
       "      <td>9</td>\n",
       "      <td>2</td>\n",
       "    </tr>\n",
       "    <tr>\n",
       "      <th>1963</th>\n",
       "      <td>77</td>\n",
       "      <td>182109</td>\n",
       "      <td>4</td>\n",
       "      <td>7</td>\n",
       "      <td>2</td>\n",
       "    </tr>\n",
       "    <tr>\n",
       "      <th>1964</th>\n",
       "      <td>90</td>\n",
       "      <td>110610</td>\n",
       "      <td>52</td>\n",
       "      <td>5</td>\n",
       "      <td>2</td>\n",
       "    </tr>\n",
       "  </tbody>\n",
       "</table>\n",
       "<p>1965 rows × 5 columns</p>\n",
       "</div>"
      ],
      "text/plain": [
       "      Age  Annual Income ($)  Spending Score (1-100)  Work Experience  \\\n",
       "0      19              15000                      39                1   \n",
       "1      21              35000                      81                3   \n",
       "2      20              86000                       6                1   \n",
       "3      23              59000                      77                0   \n",
       "4      31              38000                      40                2   \n",
       "...   ...                ...                     ...              ...   \n",
       "1960   71             184387                      40                8   \n",
       "1961   91              73158                      32                7   \n",
       "1962   87              90961                      14                9   \n",
       "1963   77             182109                       4                7   \n",
       "1964   90             110610                      52                5   \n",
       "\n",
       "      Family Size  \n",
       "0               4  \n",
       "1               3  \n",
       "2               1  \n",
       "3               2  \n",
       "4               6  \n",
       "...           ...  \n",
       "1960            7  \n",
       "1961            7  \n",
       "1962            2  \n",
       "1963            2  \n",
       "1964            2  \n",
       "\n",
       "[1965 rows x 5 columns]"
      ]
     },
     "execution_count": 63,
     "metadata": {},
     "output_type": "execute_result"
    }
   ],
   "source": [
    "pre_c_df = c_df.drop(labels=['Gender', 'Profession'], axis=1)\n",
    "pre_c_df"
   ]
  },
  {
   "cell_type": "code",
   "execution_count": 64,
   "id": "ab157abb-2768-4f5b-be0a-dd8badfd3934",
   "metadata": {},
   "outputs": [
    {
     "data": {
      "text/plain": [
       "array([[<Axes: title={'center': 'Age'}>,\n",
       "        <Axes: title={'center': 'Annual Income ($)'}>],\n",
       "       [<Axes: title={'center': 'Spending Score (1-100)'}>,\n",
       "        <Axes: title={'center': 'Work Experience'}>],\n",
       "       [<Axes: title={'center': 'Family Size'}>, <Axes: >]], dtype=object)"
      ]
     },
     "execution_count": 64,
     "metadata": {},
     "output_type": "execute_result"
    },
    {
     "data": {
      "image/png": "[encoded data removed]",
      "text/plain": [
       "<Figure size 1000x800 with 6 Axes>"
      ]
     },
     "metadata": {},
     "output_type": "display_data"
    }
   ],
   "source": [
    "pre_c_df.hist(figsize=(10, 8))"
   ]
  },
  {
   "cell_type": "code",
   "execution_count": 65,
   "id": "62531e07-2d32-48a4-babc-efa002b5f41a",
   "metadata": {},
   "outputs": [
    {
     "data": {
      "text/plain": [
       "Annual Income ($)    0.026716\n",
       "Family Size          0.005859\n",
       "Work Experience     -0.025587\n",
       "Age                 -0.037387\n",
       "Name: Spending Score (1-100), dtype: float64"
      ]
     },
     "execution_count": 65,
     "metadata": {},
     "output_type": "execute_result"
    }
   ],
   "source": [
    "pre_c_df.corr()['Spending Score (1-100)'].sort_values(ascending=False)[1:]"
   ]
  },
  {
   "cell_type": "code",
   "execution_count": 66,
   "id": "4ea8ace2-d743-410a-b380-b9fd9f3e5c4b",
   "metadata": {},
   "outputs": [
    {
     "data": {
      "text/plain": [
       "<Axes: >"
      ]
     },
     "execution_count": 66,
     "metadata": {},
     "output_type": "execute_result"
    },
    {
     "data": {
      "image/png": "[encoded data removed]",
      "text/plain": [
       "<Figure size 640x480 with 1 Axes>"
      ]
     },
     "metadata": {},
     "output_type": "display_data"
    }
   ],
   "source": [
    "import numpy as np\n",
    "\n",
    "np.log1p(pre_c_df['Age']).hist()"
   ]
  },
  {
   "cell_type": "code",
   "execution_count": 67,
   "id": "5f977201-a4e4-46d0-9cdc-d5ac328240d3",
   "metadata": {},
   "outputs": [
    {
     "data": {
      "text/plain": [
       "<Axes: >"
      ]
     },
     "execution_count": 67,
     "metadata": {},
     "output_type": "execute_result"
    },
    {
     "data": {
      "image/png": "[encoded data removed]",
      "text/plain": [
       "<Figure size 640x480 with 1 Axes>"
      ]
     },
     "metadata": {},
     "output_type": "display_data"
    }
   ],
   "source": [
    "np.log1p(pre_c_df['Spending Score (1-100)']).hist()"
   ]
  },
  {
   "cell_type": "code",
   "execution_count": 68,
   "id": "0e4a1259-f12b-4cf5-bdbd-104caf12cbd5",
   "metadata": {},
   "outputs": [
    {
     "data": {
      "text/plain": [
       "Spending Score (1-100)\n",
       "49    34\n",
       "42    32\n",
       "55    31\n",
       "17    30\n",
       "59    27\n",
       "      ..\n",
       "6     12\n",
       "33    12\n",
       "64    11\n",
       "72    10\n",
       "0      2\n",
       "Name: count, Length: 101, dtype: int64"
      ]
     },
     "execution_count": 68,
     "metadata": {},
     "output_type": "execute_result"
    }
   ],
   "source": [
    "pre_c_df['Spending Score (1-100)'].value_counts()"
   ]
  },
  {
   "cell_type": "code",
   "execution_count": 69,
   "id": "e97f9584-c01a-4e2f-aa89-07a87af4bfd2",
   "metadata": {},
   "outputs": [
    {
     "data": {
      "text/plain": [
       "<Axes: >"
      ]
     },
     "execution_count": 69,
     "metadata": {},
     "output_type": "execute_result"
    },
    {
     "data": {
      "image/png": "[encoded data removed]",
      "text/plain": [
       "<Figure size 640x480 with 1 Axes>"
      ]
     },
     "metadata": {},
     "output_type": "display_data"
    }
   ],
   "source": [
    "np.log1p(pre_c_df['Work Experience']).hist()"
   ]
  },
  {
   "cell_type": "code",
   "execution_count": 70,
   "id": "2e5b09fa-6c7b-4e4e-90fa-34f93c350494",
   "metadata": {},
   "outputs": [
    {
     "data": {
      "text/html": [
       "<div>\n",
       "<style scoped>\n",
       "    .dataframe tbody tr th:only-of-type {\n",
       "        vertical-align: middle;\n",
       "    }\n",
       "\n",
       "    .dataframe tbody tr th {\n",
       "        vertical-align: top;\n",
       "    }\n",
       "\n",
       "    .dataframe thead th {\n",
       "        text-align: right;\n",
       "    }\n",
       "</style>\n",
       "<table border=\"1\" class=\"dataframe\">\n",
       "  <thead>\n",
       "    <tr style=\"text-align: right;\">\n",
       "      <th></th>\n",
       "      <th>Age</th>\n",
       "      <th>Annual Income ($)</th>\n",
       "      <th>Work Experience</th>\n",
       "      <th>Family Size</th>\n",
       "      <th>target</th>\n",
       "    </tr>\n",
       "  </thead>\n",
       "  <tbody>\n",
       "    <tr>\n",
       "      <th>0</th>\n",
       "      <td>19</td>\n",
       "      <td>15000</td>\n",
       "      <td>1</td>\n",
       "      <td>4</td>\n",
       "      <td>39</td>\n",
       "    </tr>\n",
       "    <tr>\n",
       "      <th>1</th>\n",
       "      <td>21</td>\n",
       "      <td>35000</td>\n",
       "      <td>3</td>\n",
       "      <td>3</td>\n",
       "      <td>81</td>\n",
       "    </tr>\n",
       "    <tr>\n",
       "      <th>2</th>\n",
       "      <td>20</td>\n",
       "      <td>86000</td>\n",
       "      <td>1</td>\n",
       "      <td>1</td>\n",
       "      <td>6</td>\n",
       "    </tr>\n",
       "    <tr>\n",
       "      <th>3</th>\n",
       "      <td>23</td>\n",
       "      <td>59000</td>\n",
       "      <td>0</td>\n",
       "      <td>2</td>\n",
       "      <td>77</td>\n",
       "    </tr>\n",
       "    <tr>\n",
       "      <th>4</th>\n",
       "      <td>31</td>\n",
       "      <td>38000</td>\n",
       "      <td>2</td>\n",
       "      <td>6</td>\n",
       "      <td>40</td>\n",
       "    </tr>\n",
       "    <tr>\n",
       "      <th>...</th>\n",
       "      <td>...</td>\n",
       "      <td>...</td>\n",
       "      <td>...</td>\n",
       "      <td>...</td>\n",
       "      <td>...</td>\n",
       "    </tr>\n",
       "    <tr>\n",
       "      <th>1960</th>\n",
       "      <td>71</td>\n",
       "      <td>184387</td>\n",
       "      <td>8</td>\n",
       "      <td>7</td>\n",
       "      <td>40</td>\n",
       "    </tr>\n",
       "    <tr>\n",
       "      <th>1961</th>\n",
       "      <td>91</td>\n",
       "      <td>73158</td>\n",
       "      <td>7</td>\n",
       "      <td>7</td>\n",
       "      <td>32</td>\n",
       "    </tr>\n",
       "    <tr>\n",
       "      <th>1962</th>\n",
       "      <td>87</td>\n",
       "      <td>90961</td>\n",
       "      <td>9</td>\n",
       "      <td>2</td>\n",
       "      <td>14</td>\n",
       "    </tr>\n",
       "    <tr>\n",
       "      <th>1963</th>\n",
       "      <td>77</td>\n",
       "      <td>182109</td>\n",
       "      <td>7</td>\n",
       "      <td>2</td>\n",
       "      <td>4</td>\n",
       "    </tr>\n",
       "    <tr>\n",
       "      <th>1964</th>\n",
       "      <td>90</td>\n",
       "      <td>110610</td>\n",
       "      <td>5</td>\n",
       "      <td>2</td>\n",
       "      <td>52</td>\n",
       "    </tr>\n",
       "  </tbody>\n",
       "</table>\n",
       "<p>1965 rows × 5 columns</p>\n",
       "</div>"
      ],
      "text/plain": [
       "      Age  Annual Income ($)  Work Experience  Family Size  target\n",
       "0      19              15000                1            4      39\n",
       "1      21              35000                3            3      81\n",
       "2      20              86000                1            1       6\n",
       "3      23              59000                0            2      77\n",
       "4      31              38000                2            6      40\n",
       "...   ...                ...              ...          ...     ...\n",
       "1960   71             184387                8            7      40\n",
       "1961   91              73158                7            7      32\n",
       "1962   87              90961                9            2      14\n",
       "1963   77             182109                7            2       4\n",
       "1964   90             110610                5            2      52\n",
       "\n",
       "[1965 rows x 5 columns]"
      ]
     },
     "execution_count": 70,
     "metadata": {},
     "output_type": "execute_result"
    }
   ],
   "source": [
    "target = pre_c_df['Spending Score (1-100)']\n",
    "pre_c_df['target'] = target\n",
    "pre_c_df = pre_c_df.drop(labels=['Spending Score (1-100)'], axis=1)\n",
    "pre_c_df"
   ]
  },
  {
   "cell_type": "code",
   "execution_count": 71,
   "id": "8381ce40-bf95-4000-8014-98f7430282b1",
   "metadata": {},
   "outputs": [
    {
     "name": "stdout",
     "output_type": "stream",
     "text": [
      "                                 OLS Regression Results                                \n",
      "=======================================================================================\n",
      "Dep. Variable:                 target   R-squared (uncentered):                   0.710\n",
      "Model:                            OLS   Adj. R-squared (uncentered):              0.709\n",
      "Method:                 Least Squares   F-statistic:                              1200.\n",
      "Date:                Mon, 29 Apr 2024   Prob (F-statistic):                        0.00\n",
      "Time:                        09:29:09   Log-Likelihood:                         -9558.9\n",
      "No. Observations:                1965   AIC:                                  1.913e+04\n",
      "Df Residuals:                    1961   BIC:                                  1.915e+04\n",
      "Df Model:                           4                                                  \n",
      "Covariance Type:            nonrobust                                                  \n",
      "=====================================================================================\n",
      "                        coef    std err          t      P>|t|      [0.025      0.975]\n",
      "-------------------------------------------------------------------------------------\n",
      "Age                   0.1892      0.022      8.501      0.000       0.146       0.233\n",
      "Annual Income ($)     0.0002   1.26e-05     16.195      0.000       0.000       0.000\n",
      "Work Experience       0.6622      0.176      3.763      0.000       0.317       1.007\n",
      "Family Size           3.3630      0.323     10.423      0.000       2.730       3.996\n",
      "==============================================================================\n",
      "Omnibus:                      160.603   Durbin-Watson:                   2.008\n",
      "Prob(Omnibus):                  0.000   Jarque-Bera (JB):               52.354\n",
      "Skew:                           0.038   Prob(JB):                     4.28e-12\n",
      "Kurtosis:                       2.204   Cond. No.                     5.47e+04\n",
      "==============================================================================\n",
      "\n",
      "Notes:\n",
      "[1] R² is computed without centering (uncentered) since the model does not contain a constant.\n",
      "[2] Standard Errors assume that the covariance matrix of the errors is correctly specified.\n",
      "[3] The condition number is large, 5.47e+04. This might indicate that there are\n",
      "strong multicollinearity or other numerical problems.\n"
     ]
    }
   ],
   "source": [
    "from statsmodels.api import OLS\n",
    "\n",
    "features, targets = pre_c_df.iloc[:, :-1], pre_c_df.iloc[:, -1]\n",
    "\n",
    "model = OLS(targets, features)\n",
    "print(model.fit().summary())"
   ]
  },
  {
   "cell_type": "code",
   "execution_count": 72,
   "id": "55e42c9e-f0cb-4076-b7e4-22813c7ed6ae",
   "metadata": {},
   "outputs": [],
   "source": [
    "# pre_c_df2 = pre_c_df.copy()\n",
    "# pre_c_df2.target = np.log1p(pre_c_df2.target)\n",
    "\n",
    "# features, targets = pre_c_df2.iloc[:, :-1], pre_c_df2.iloc[:, -1]\n",
    "\n",
    "# model = OLS(targets, features)\n",
    "# print(model.fit().summary())"
   ]
  },
  {
   "cell_type": "code",
   "execution_count": 73,
   "id": "83b9bc5d-e9a7-46f3-9cc4-5f674244a8c7",
   "metadata": {},
   "outputs": [],
   "source": [
    "# pre_c_df = pre_c_df2\n",
    "# pre_c_df"
   ]
  },
  {
   "cell_type": "code",
   "execution_count": 74,
   "id": "b57f0e09-d01e-4046-bf40-b6c1c673d353",
   "metadata": {},
   "outputs": [],
   "source": [
    "from statsmodels.stats.outliers_influence import variance_inflation_factor\n",
    "\n",
    "def get_vif(features):\n",
    "    vif = pd.DataFrame()\n",
    "    vif['vif_score'] = [variance_inflation_factor(features.values, i) for i in range(features.shape[1])]\n",
    "    vif['feature'] = features.columns\n",
    "    return vif"
   ]
  },
  {
   "cell_type": "code",
   "execution_count": 75,
   "id": "00dd318d-3432-41c3-842a-a0a323e7e680",
   "metadata": {},
   "outputs": [
    {
     "data": {
      "text/html": [
       "<div>\n",
       "<style scoped>\n",
       "    .dataframe tbody tr th:only-of-type {\n",
       "        vertical-align: middle;\n",
       "    }\n",
       "\n",
       "    .dataframe tbody tr th {\n",
       "        vertical-align: top;\n",
       "    }\n",
       "\n",
       "    .dataframe thead th {\n",
       "        text-align: right;\n",
       "    }\n",
       "</style>\n",
       "<table border=\"1\" class=\"dataframe\">\n",
       "  <thead>\n",
       "    <tr style=\"text-align: right;\">\n",
       "      <th></th>\n",
       "      <th>vif_score</th>\n",
       "      <th>feature</th>\n",
       "    </tr>\n",
       "  </thead>\n",
       "  <tbody>\n",
       "    <tr>\n",
       "      <th>0</th>\n",
       "      <td>3.158919</td>\n",
       "      <td>Age</td>\n",
       "    </tr>\n",
       "    <tr>\n",
       "      <th>1</th>\n",
       "      <td>4.519000</td>\n",
       "      <td>Annual Income ($)</td>\n",
       "    </tr>\n",
       "    <tr>\n",
       "      <th>2</th>\n",
       "      <td>1.984835</td>\n",
       "      <td>Work Experience</td>\n",
       "    </tr>\n",
       "    <tr>\n",
       "      <th>3</th>\n",
       "      <td>3.733422</td>\n",
       "      <td>Family Size</td>\n",
       "    </tr>\n",
       "  </tbody>\n",
       "</table>\n",
       "</div>"
      ],
      "text/plain": [
       "   vif_score            feature\n",
       "0   3.158919                Age\n",
       "1   4.519000  Annual Income ($)\n",
       "2   1.984835    Work Experience\n",
       "3   3.733422        Family Size"
      ]
     },
     "execution_count": 75,
     "metadata": {},
     "output_type": "execute_result"
    }
   ],
   "source": [
    "get_vif(features)"
   ]
  },
  {
   "cell_type": "code",
   "execution_count": 76,
   "id": "47f5453b-092f-44f2-a9c5-5d6b37b11cc1",
   "metadata": {},
   "outputs": [
    {
     "name": "stdout",
     "output_type": "stream",
     "text": [
      "                                 OLS Regression Results                                \n",
      "=======================================================================================\n",
      "Dep. Variable:                 target   R-squared (uncentered):                   0.714\n",
      "Model:                            OLS   Adj. R-squared (uncentered):              0.713\n",
      "Method:                 Least Squares   F-statistic:                              979.6\n",
      "Date:                Mon, 29 Apr 2024   Prob (F-statistic):                        0.00\n",
      "Time:                        09:29:09   Log-Likelihood:                         -7651.6\n",
      "No. Observations:                1572   AIC:                                  1.531e+04\n",
      "Df Residuals:                    1568   BIC:                                  1.533e+04\n",
      "Df Model:                           4                                                  \n",
      "Covariance Type:            nonrobust                                                  \n",
      "=====================================================================================\n",
      "                        coef    std err          t      P>|t|      [0.025      0.975]\n",
      "-------------------------------------------------------------------------------------\n",
      "Age                   0.1894      0.025      7.580      0.000       0.140       0.238\n",
      "Annual Income ($)     0.0002   1.41e-05     14.258      0.000       0.000       0.000\n",
      "Work Experience       0.7463      0.197      3.782      0.000       0.359       1.133\n",
      "Family Size           3.5314      0.360      9.803      0.000       2.825       4.238\n",
      "==============================================================================\n",
      "Omnibus:                      124.355   Durbin-Watson:                   2.006\n",
      "Prob(Omnibus):                  0.000   Jarque-Bera (JB):               41.018\n",
      "Skew:                           0.012   Prob(JB):                     1.24e-09\n",
      "Kurtosis:                       2.209   Cond. No.                     5.44e+04\n",
      "==============================================================================\n",
      "\n",
      "Notes:\n",
      "[1] R² is computed without centering (uncentered) since the model does not contain a constant.\n",
      "[2] Standard Errors assume that the covariance matrix of the errors is correctly specified.\n",
      "[3] The condition number is large, 5.44e+04. This might indicate that there are\n",
      "strong multicollinearity or other numerical problems.\n"
     ]
    }
   ],
   "source": [
    "from sklearn.model_selection import train_test_split\n",
    "from sklearn.linear_model import LinearRegression\n",
    "\n",
    "X_train, X_test, y_train, y_test = train_test_split(features, targets, test_size=0.2, random_state=124)\n",
    "\n",
    "model = OLS(y_train, X_train)\n",
    "print(model.fit().summary())"
   ]
  },
  {
   "cell_type": "code",
   "execution_count": 77,
   "id": "fc9b7c55-f4ea-486a-9662-27aea62ed852",
   "metadata": {},
   "outputs": [],
   "source": [
    "from sklearn.metrics import mean_squared_log_error, mean_squared_error, r2_score\n",
    "\n",
    "def get_evaluation(y_test, prediction):\n",
    "    MSE = mean_squared_error(y_test, prediction)\n",
    "    RMSE = np.sqrt(MSE)\n",
    "    MSLE = mean_squared_log_error(y_test, prediction)\n",
    "    RMSLE = np.sqrt(mean_squared_log_error(y_test, prediction))\n",
    "    R2 = r2_score(y_test, prediction)\n",
    "    print('MSE: {:.4f}, RMSE: {:.4f}, MSLE: {:.4f}, RMSLE: {:.4f}, R2: {:.4f}'\\\n",
    "          .format(MSE, RMSE, MSLE, RMSLE, R2))"
   ]
  },
  {
   "cell_type": "code",
   "execution_count": 78,
   "id": "7b5ad0a2-2c4e-4484-8de5-6b9486c4d448",
   "metadata": {},
   "outputs": [
    {
     "data": {
      "text/html": [
       "<style>#sk-container-id-3 {color: black;background-color: white;}#sk-container-id-3 pre{padding: 0;}#sk-container-id-3 div.sk-toggleable {background-color: white;}#sk-container-id-3 label.sk-toggleable__label {cursor: pointer;display: block;width: 100%;margin-bottom: 0;padding: 0.3em;box-sizing: border-box;text-align: center;}#sk-container-id-3 label.sk-toggleable__label-arrow:before {content: \"▸\";float: left;margin-right: 0.25em;color: #696969;}#sk-container-id-3 label.sk-toggleable__label-arrow:hover:before {color: black;}#sk-container-id-3 div.sk-estimator:hover label.sk-toggleable__label-arrow:before {color: black;}#sk-container-id-3 div.sk-toggleable__content {max-height: 0;max-width: 0;overflow: hidden;text-align: left;background-color: #f0f8ff;}#sk-container-id-3 div.sk-toggleable__content pre {margin: 0.2em;color: black;border-radius: 0.25em;background-color: #f0f8ff;}#sk-container-id-3 input.sk-toggleable__control:checked~div.sk-toggleable__content {max-height: 200px;max-width: 100%;overflow: auto;}#sk-container-id-3 input.sk-toggleable__control:checked~label.sk-toggleable__label-arrow:before {content: \"▾\";}#sk-container-id-3 div.sk-estimator input.sk-toggleable__control:checked~label.sk-toggleable__label {background-color: #d4ebff;}#sk-container-id-3 div.sk-label input.sk-toggleable__control:checked~label.sk-toggleable__label {background-color: #d4ebff;}#sk-container-id-3 input.sk-hidden--visually {border: 0;clip: rect(1px 1px 1px 1px);clip: rect(1px, 1px, 1px, 1px);height: 1px;margin: -1px;overflow: hidden;padding: 0;position: absolute;width: 1px;}#sk-container-id-3 div.sk-estimator {font-family: monospace;background-color: #f0f8ff;border: 1px dotted black;border-radius: 0.25em;box-sizing: border-box;margin-bottom: 0.5em;}#sk-container-id-3 div.sk-estimator:hover {background-color: #d4ebff;}#sk-container-id-3 div.sk-parallel-item::after {content: \"\";width: 100%;border-bottom: 1px solid gray;flex-grow: 1;}#sk-container-id-3 div.sk-label:hover label.sk-toggleable__label {background-color: #d4ebff;}#sk-container-id-3 div.sk-serial::before {content: \"\";position: absolute;border-left: 1px solid gray;box-sizing: border-box;top: 0;bottom: 0;left: 50%;z-index: 0;}#sk-container-id-3 div.sk-serial {display: flex;flex-direction: column;align-items: center;background-color: white;padding-right: 0.2em;padding-left: 0.2em;position: relative;}#sk-container-id-3 div.sk-item {position: relative;z-index: 1;}#sk-container-id-3 div.sk-parallel {display: flex;align-items: stretch;justify-content: center;background-color: white;position: relative;}#sk-container-id-3 div.sk-item::before, #sk-container-id-3 div.sk-parallel-item::before {content: \"\";position: absolute;border-left: 1px solid gray;box-sizing: border-box;top: 0;bottom: 0;left: 50%;z-index: -1;}#sk-container-id-3 div.sk-parallel-item {display: flex;flex-direction: column;z-index: 1;position: relative;background-color: white;}#sk-container-id-3 div.sk-parallel-item:first-child::after {align-self: flex-end;width: 50%;}#sk-container-id-3 div.sk-parallel-item:last-child::after {align-self: flex-start;width: 50%;}#sk-container-id-3 div.sk-parallel-item:only-child::after {width: 0;}#sk-container-id-3 div.sk-dashed-wrapped {border: 1px dashed gray;margin: 0 0.4em 0.5em 0.4em;box-sizing: border-box;padding-bottom: 0.4em;background-color: white;}#sk-container-id-3 div.sk-label label {font-family: monospace;font-weight: bold;display: inline-block;line-height: 1.2em;}#sk-container-id-3 div.sk-label-container {text-align: center;}#sk-container-id-3 div.sk-container {/* jupyter's `normalize.less` sets `[hidden] { display: none; }` but bootstrap.min.css set `[hidden] { display: none !important; }` so we also need the `!important` here to be able to override the default hidden behavior on the sphinx rendered scikit-learn.org. See: https://github.com/scikit-learn/scikit-learn/issues/21755 */display: inline-block !important;position: relative;}#sk-container-id-3 div.sk-text-repr-fallback {display: none;}</style><div id=\"sk-container-id-3\" class=\"sk-top-container\"><div class=\"sk-text-repr-fallback\"><pre>LinearRegression()</pre><b>In a Jupyter environment, please rerun this cell to show the HTML representation or trust the notebook. <br />On GitHub, the HTML representation is unable to render, please try loading this page with nbviewer.org.</b></div><div class=\"sk-container\" hidden><div class=\"sk-item\"><div class=\"sk-estimator sk-toggleable\"><input class=\"sk-toggleable__control sk-hidden--visually\" id=\"sk-estimator-id-3\" type=\"checkbox\" checked><label for=\"sk-estimator-id-3\" class=\"sk-toggleable__label sk-toggleable__label-arrow\">LinearRegression</label><div class=\"sk-toggleable__content\"><pre>LinearRegression()</pre></div></div></div></div></div>"
      ],
      "text/plain": [
       "LinearRegression()"
      ]
     },
     "execution_count": 78,
     "metadata": {},
     "output_type": "execute_result"
    }
   ],
   "source": [
    "from sklearn.linear_model import LinearRegression\n",
    "\n",
    "l_r = LinearRegression()\n",
    "l_r.fit(X_train, y_train)"
   ]
  },
  {
   "cell_type": "code",
   "execution_count": 79,
   "id": "8b9ff92e-c8fe-40b7-bb92-e637de07ea6c",
   "metadata": {},
   "outputs": [
    {
     "name": "stdout",
     "output_type": "stream",
     "text": [
      "MSE: 786.5728, RMSE: 28.0459, MSLE: 0.8241, RMSLE: 0.9078, R2: -0.0110\n"
     ]
    }
   ],
   "source": [
    "prediction = l_r.predict(X_test)\n",
    "get_evaluation(y_test, prediction)"
   ]
  },
  {
   "cell_type": "code",
   "execution_count": 80,
   "id": "1070f259-f374-48da-8e1a-d20a88a26d33",
   "metadata": {},
   "outputs": [
    {
     "data": {
      "text/html": [
       "<div>\n",
       "<style scoped>\n",
       "    .dataframe tbody tr th:only-of-type {\n",
       "        vertical-align: middle;\n",
       "    }\n",
       "\n",
       "    .dataframe tbody tr th {\n",
       "        vertical-align: top;\n",
       "    }\n",
       "\n",
       "    .dataframe thead th {\n",
       "        text-align: right;\n",
       "    }\n",
       "</style>\n",
       "<table border=\"1\" class=\"dataframe\">\n",
       "  <thead>\n",
       "    <tr style=\"text-align: right;\">\n",
       "      <th></th>\n",
       "      <th>Age</th>\n",
       "      <th>Annual Income ($)</th>\n",
       "      <th>Work Experience</th>\n",
       "      <th>Family Size</th>\n",
       "      <th>target</th>\n",
       "      <th>Target_yeo</th>\n",
       "    </tr>\n",
       "  </thead>\n",
       "  <tbody>\n",
       "    <tr>\n",
       "      <th>0</th>\n",
       "      <td>19</td>\n",
       "      <td>15000</td>\n",
       "      <td>1</td>\n",
       "      <td>4</td>\n",
       "      <td>39</td>\n",
       "      <td>-0.351822</td>\n",
       "    </tr>\n",
       "    <tr>\n",
       "      <th>1</th>\n",
       "      <td>21</td>\n",
       "      <td>35000</td>\n",
       "      <td>3</td>\n",
       "      <td>3</td>\n",
       "      <td>81</td>\n",
       "      <td>1.041874</td>\n",
       "    </tr>\n",
       "    <tr>\n",
       "      <th>2</th>\n",
       "      <td>20</td>\n",
       "      <td>86000</td>\n",
       "      <td>1</td>\n",
       "      <td>1</td>\n",
       "      <td>6</td>\n",
       "      <td>-1.763063</td>\n",
       "    </tr>\n",
       "    <tr>\n",
       "      <th>3</th>\n",
       "      <td>23</td>\n",
       "      <td>59000</td>\n",
       "      <td>0</td>\n",
       "      <td>2</td>\n",
       "      <td>77</td>\n",
       "      <td>0.918288</td>\n",
       "    </tr>\n",
       "    <tr>\n",
       "      <th>4</th>\n",
       "      <td>31</td>\n",
       "      <td>38000</td>\n",
       "      <td>2</td>\n",
       "      <td>6</td>\n",
       "      <td>40</td>\n",
       "      <td>-0.315424</td>\n",
       "    </tr>\n",
       "    <tr>\n",
       "      <th>...</th>\n",
       "      <td>...</td>\n",
       "      <td>...</td>\n",
       "      <td>...</td>\n",
       "      <td>...</td>\n",
       "      <td>...</td>\n",
       "      <td>...</td>\n",
       "    </tr>\n",
       "    <tr>\n",
       "      <th>1960</th>\n",
       "      <td>71</td>\n",
       "      <td>184387</td>\n",
       "      <td>8</td>\n",
       "      <td>7</td>\n",
       "      <td>40</td>\n",
       "      <td>-0.315424</td>\n",
       "    </tr>\n",
       "    <tr>\n",
       "      <th>1961</th>\n",
       "      <td>91</td>\n",
       "      <td>73158</td>\n",
       "      <td>7</td>\n",
       "      <td>7</td>\n",
       "      <td>32</td>\n",
       "      <td>-0.613184</td>\n",
       "    </tr>\n",
       "    <tr>\n",
       "      <th>1962</th>\n",
       "      <td>87</td>\n",
       "      <td>90961</td>\n",
       "      <td>9</td>\n",
       "      <td>2</td>\n",
       "      <td>14</td>\n",
       "      <td>-1.361787</td>\n",
       "    </tr>\n",
       "    <tr>\n",
       "      <th>1963</th>\n",
       "      <td>77</td>\n",
       "      <td>182109</td>\n",
       "      <td>7</td>\n",
       "      <td>2</td>\n",
       "      <td>4</td>\n",
       "      <td>-1.878507</td>\n",
       "    </tr>\n",
       "    <tr>\n",
       "      <th>1964</th>\n",
       "      <td>90</td>\n",
       "      <td>110610</td>\n",
       "      <td>5</td>\n",
       "      <td>2</td>\n",
       "      <td>52</td>\n",
       "      <td>0.106315</td>\n",
       "    </tr>\n",
       "  </tbody>\n",
       "</table>\n",
       "<p>1965 rows × 6 columns</p>\n",
       "</div>"
      ],
      "text/plain": [
       "      Age  Annual Income ($)  Work Experience  Family Size  target  Target_yeo\n",
       "0      19              15000                1            4      39   -0.351822\n",
       "1      21              35000                3            3      81    1.041874\n",
       "2      20              86000                1            1       6   -1.763063\n",
       "3      23              59000                0            2      77    0.918288\n",
       "4      31              38000                2            6      40   -0.315424\n",
       "...   ...                ...              ...          ...     ...         ...\n",
       "1960   71             184387                8            7      40   -0.315424\n",
       "1961   91              73158                7            7      32   -0.613184\n",
       "1962   87              90961                9            2      14   -1.361787\n",
       "1963   77             182109                7            2       4   -1.878507\n",
       "1964   90             110610                5            2      52    0.106315\n",
       "\n",
       "[1965 rows x 6 columns]"
      ]
     },
     "execution_count": 80,
     "metadata": {},
     "output_type": "execute_result"
    }
   ],
   "source": [
    "from sklearn.preprocessing import PowerTransformer\n",
    "\n",
    "# box-cox: 양수만 가능\n",
    "# yeo-johnson: 음수, 0 포함 가능, default\n",
    "\n",
    "ptf = PowerTransformer(standardize=True)\n",
    "result = ptf.fit_transform(pre_c_df[['target']])\n",
    "pre_c_df['Target_yeo'] = result\n",
    "pre_c_df"
   ]
  },
  {
   "cell_type": "code",
   "execution_count": 81,
   "id": "f3160517-f164-4f5c-8923-b9134d02926b",
   "metadata": {},
   "outputs": [
    {
     "data": {
      "text/plain": [
       "array([[<Axes: title={'center': 'Age'}>,\n",
       "        <Axes: title={'center': 'Annual Income ($)'}>],\n",
       "       [<Axes: title={'center': 'Work Experience'}>,\n",
       "        <Axes: title={'center': 'Family Size'}>],\n",
       "       [<Axes: title={'center': 'target'}>,\n",
       "        <Axes: title={'center': 'Target_yeo'}>]], dtype=object)"
      ]
     },
     "execution_count": 81,
     "metadata": {},
     "output_type": "execute_result"
    },
    {
     "data": {
      "image/png": "[encoded data removed]",
      "text/plain": [
       "<Figure size 1000x800 with 6 Axes>"
      ]
     },
     "metadata": {},
     "output_type": "display_data"
    }
   ],
   "source": [
    "pre_c_df.hist(figsize=(10, 8))"
   ]
  },
  {
   "cell_type": "code",
   "execution_count": 82,
   "id": "e5b89bda-0e08-406b-ae46-57e555174502",
   "metadata": {},
   "outputs": [
    {
     "data": {
      "text/html": [
       "<div>\n",
       "<style scoped>\n",
       "    .dataframe tbody tr th:only-of-type {\n",
       "        vertical-align: middle;\n",
       "    }\n",
       "\n",
       "    .dataframe tbody tr th {\n",
       "        vertical-align: top;\n",
       "    }\n",
       "\n",
       "    .dataframe thead th {\n",
       "        text-align: right;\n",
       "    }\n",
       "</style>\n",
       "<table border=\"1\" class=\"dataframe\">\n",
       "  <thead>\n",
       "    <tr style=\"text-align: right;\">\n",
       "      <th></th>\n",
       "      <th>Age</th>\n",
       "      <th>Annual Income ($)</th>\n",
       "      <th>Work Experience</th>\n",
       "      <th>Family Size</th>\n",
       "      <th>Target_yeo</th>\n",
       "    </tr>\n",
       "  </thead>\n",
       "  <tbody>\n",
       "    <tr>\n",
       "      <th>0</th>\n",
       "      <td>19</td>\n",
       "      <td>15000</td>\n",
       "      <td>1</td>\n",
       "      <td>4</td>\n",
       "      <td>-0.351822</td>\n",
       "    </tr>\n",
       "    <tr>\n",
       "      <th>1</th>\n",
       "      <td>21</td>\n",
       "      <td>35000</td>\n",
       "      <td>3</td>\n",
       "      <td>3</td>\n",
       "      <td>1.041874</td>\n",
       "    </tr>\n",
       "    <tr>\n",
       "      <th>2</th>\n",
       "      <td>20</td>\n",
       "      <td>86000</td>\n",
       "      <td>1</td>\n",
       "      <td>1</td>\n",
       "      <td>-1.763063</td>\n",
       "    </tr>\n",
       "    <tr>\n",
       "      <th>3</th>\n",
       "      <td>23</td>\n",
       "      <td>59000</td>\n",
       "      <td>0</td>\n",
       "      <td>2</td>\n",
       "      <td>0.918288</td>\n",
       "    </tr>\n",
       "    <tr>\n",
       "      <th>4</th>\n",
       "      <td>31</td>\n",
       "      <td>38000</td>\n",
       "      <td>2</td>\n",
       "      <td>6</td>\n",
       "      <td>-0.315424</td>\n",
       "    </tr>\n",
       "    <tr>\n",
       "      <th>...</th>\n",
       "      <td>...</td>\n",
       "      <td>...</td>\n",
       "      <td>...</td>\n",
       "      <td>...</td>\n",
       "      <td>...</td>\n",
       "    </tr>\n",
       "    <tr>\n",
       "      <th>1960</th>\n",
       "      <td>71</td>\n",
       "      <td>184387</td>\n",
       "      <td>8</td>\n",
       "      <td>7</td>\n",
       "      <td>-0.315424</td>\n",
       "    </tr>\n",
       "    <tr>\n",
       "      <th>1961</th>\n",
       "      <td>91</td>\n",
       "      <td>73158</td>\n",
       "      <td>7</td>\n",
       "      <td>7</td>\n",
       "      <td>-0.613184</td>\n",
       "    </tr>\n",
       "    <tr>\n",
       "      <th>1962</th>\n",
       "      <td>87</td>\n",
       "      <td>90961</td>\n",
       "      <td>9</td>\n",
       "      <td>2</td>\n",
       "      <td>-1.361787</td>\n",
       "    </tr>\n",
       "    <tr>\n",
       "      <th>1963</th>\n",
       "      <td>77</td>\n",
       "      <td>182109</td>\n",
       "      <td>7</td>\n",
       "      <td>2</td>\n",
       "      <td>-1.878507</td>\n",
       "    </tr>\n",
       "    <tr>\n",
       "      <th>1964</th>\n",
       "      <td>90</td>\n",
       "      <td>110610</td>\n",
       "      <td>5</td>\n",
       "      <td>2</td>\n",
       "      <td>0.106315</td>\n",
       "    </tr>\n",
       "  </tbody>\n",
       "</table>\n",
       "<p>1965 rows × 5 columns</p>\n",
       "</div>"
      ],
      "text/plain": [
       "      Age  Annual Income ($)  Work Experience  Family Size  Target_yeo\n",
       "0      19              15000                1            4   -0.351822\n",
       "1      21              35000                3            3    1.041874\n",
       "2      20              86000                1            1   -1.763063\n",
       "3      23              59000                0            2    0.918288\n",
       "4      31              38000                2            6   -0.315424\n",
       "...   ...                ...              ...          ...         ...\n",
       "1960   71             184387                8            7   -0.315424\n",
       "1961   91              73158                7            7   -0.613184\n",
       "1962   87              90961                9            2   -1.361787\n",
       "1963   77             182109                7            2   -1.878507\n",
       "1964   90             110610                5            2    0.106315\n",
       "\n",
       "[1965 rows x 5 columns]"
      ]
     },
     "execution_count": 82,
     "metadata": {},
     "output_type": "execute_result"
    }
   ],
   "source": [
    "pre_c_df = pre_c_df.drop(labels=['target'], axis=1)\n",
    "pre_c_df"
   ]
  },
  {
   "cell_type": "code",
   "execution_count": 84,
   "id": "cca7f93a-62fc-419a-a11a-97bd5098fc92",
   "metadata": {},
   "outputs": [
    {
     "name": "stdout",
     "output_type": "stream",
     "text": [
      "                                 OLS Regression Results                                \n",
      "=======================================================================================\n",
      "Dep. Variable:             Target_yeo   R-squared (uncentered):                   0.003\n",
      "Model:                            OLS   Adj. R-squared (uncentered):              0.001\n",
      "Method:                 Least Squares   F-statistic:                              1.399\n",
      "Date:                Mon, 29 Apr 2024   Prob (F-statistic):                       0.232\n",
      "Time:                        09:31:45   Log-Likelihood:                         -2785.4\n",
      "No. Observations:                1965   AIC:                                      5579.\n",
      "Df Residuals:                    1961   BIC:                                      5601.\n",
      "Df Model:                           4                                                  \n",
      "Covariance Type:            nonrobust                                                  \n",
      "=====================================================================================\n",
      "                        coef    std err          t      P>|t|      [0.025      0.975]\n",
      "-------------------------------------------------------------------------------------\n",
      "Age                  -0.0012      0.001     -1.743      0.082      -0.003       0.000\n",
      "Annual Income ($)  6.902e-07      4e-07      1.724      0.085    -9.5e-08    1.48e-06\n",
      "Work Experience      -0.0071      0.006     -1.273      0.203      -0.018       0.004\n",
      "Family Size           0.0034      0.010      0.333      0.739      -0.017       0.024\n",
      "==============================================================================\n",
      "Omnibus:                      352.163   Durbin-Watson:                   2.158\n",
      "Prob(Omnibus):                  0.000   Jarque-Bera (JB):               92.096\n",
      "Skew:                          -0.237   Prob(JB):                     1.00e-20\n",
      "Kurtosis:                       2.051   Cond. No.                     5.47e+04\n",
      "==============================================================================\n",
      "\n",
      "Notes:\n",
      "[1] R² is computed without centering (uncentered) since the model does not contain a constant.\n",
      "[2] Standard Errors assume that the covariance matrix of the errors is correctly specified.\n",
      "[3] The condition number is large, 5.47e+04. This might indicate that there are\n",
      "strong multicollinearity or other numerical problems.\n"
     ]
    }
   ],
   "source": [
    "from statsmodels.api import OLS\n",
    "\n",
    "features, targets = pre_c_df.iloc[:, :-1], pre_c_df.iloc[:, -1]\n",
    "\n",
    "model = OLS(targets, features)\n",
    "print(model.fit().summary())"
   ]
  },
  {
   "cell_type": "code",
   "execution_count": 85,
   "id": "5785a90c-9cb1-4ca2-aa82-821c28711e0f",
   "metadata": {},
   "outputs": [
    {
     "data": {
      "text/html": [
       "<div>\n",
       "<style scoped>\n",
       "    .dataframe tbody tr th:only-of-type {\n",
       "        vertical-align: middle;\n",
       "    }\n",
       "\n",
       "    .dataframe tbody tr th {\n",
       "        vertical-align: top;\n",
       "    }\n",
       "\n",
       "    .dataframe thead th {\n",
       "        text-align: right;\n",
       "    }\n",
       "</style>\n",
       "<table border=\"1\" class=\"dataframe\">\n",
       "  <thead>\n",
       "    <tr style=\"text-align: right;\">\n",
       "      <th></th>\n",
       "      <th>Age</th>\n",
       "      <th>Annual Income ($)</th>\n",
       "      <th>Family Size</th>\n",
       "      <th>Target_yeo</th>\n",
       "    </tr>\n",
       "  </thead>\n",
       "  <tbody>\n",
       "    <tr>\n",
       "      <th>0</th>\n",
       "      <td>19</td>\n",
       "      <td>15000</td>\n",
       "      <td>4</td>\n",
       "      <td>-0.351822</td>\n",
       "    </tr>\n",
       "    <tr>\n",
       "      <th>1</th>\n",
       "      <td>21</td>\n",
       "      <td>35000</td>\n",
       "      <td>3</td>\n",
       "      <td>1.041874</td>\n",
       "    </tr>\n",
       "    <tr>\n",
       "      <th>2</th>\n",
       "      <td>20</td>\n",
       "      <td>86000</td>\n",
       "      <td>1</td>\n",
       "      <td>-1.763063</td>\n",
       "    </tr>\n",
       "    <tr>\n",
       "      <th>3</th>\n",
       "      <td>23</td>\n",
       "      <td>59000</td>\n",
       "      <td>2</td>\n",
       "      <td>0.918288</td>\n",
       "    </tr>\n",
       "    <tr>\n",
       "      <th>4</th>\n",
       "      <td>31</td>\n",
       "      <td>38000</td>\n",
       "      <td>6</td>\n",
       "      <td>-0.315424</td>\n",
       "    </tr>\n",
       "    <tr>\n",
       "      <th>...</th>\n",
       "      <td>...</td>\n",
       "      <td>...</td>\n",
       "      <td>...</td>\n",
       "      <td>...</td>\n",
       "    </tr>\n",
       "    <tr>\n",
       "      <th>1960</th>\n",
       "      <td>71</td>\n",
       "      <td>184387</td>\n",
       "      <td>7</td>\n",
       "      <td>-0.315424</td>\n",
       "    </tr>\n",
       "    <tr>\n",
       "      <th>1961</th>\n",
       "      <td>91</td>\n",
       "      <td>73158</td>\n",
       "      <td>7</td>\n",
       "      <td>-0.613184</td>\n",
       "    </tr>\n",
       "    <tr>\n",
       "      <th>1962</th>\n",
       "      <td>87</td>\n",
       "      <td>90961</td>\n",
       "      <td>2</td>\n",
       "      <td>-1.361787</td>\n",
       "    </tr>\n",
       "    <tr>\n",
       "      <th>1963</th>\n",
       "      <td>77</td>\n",
       "      <td>182109</td>\n",
       "      <td>2</td>\n",
       "      <td>-1.878507</td>\n",
       "    </tr>\n",
       "    <tr>\n",
       "      <th>1964</th>\n",
       "      <td>90</td>\n",
       "      <td>110610</td>\n",
       "      <td>2</td>\n",
       "      <td>0.106315</td>\n",
       "    </tr>\n",
       "  </tbody>\n",
       "</table>\n",
       "<p>1965 rows × 4 columns</p>\n",
       "</div>"
      ],
      "text/plain": [
       "      Age  Annual Income ($)  Family Size  Target_yeo\n",
       "0      19              15000            4   -0.351822\n",
       "1      21              35000            3    1.041874\n",
       "2      20              86000            1   -1.763063\n",
       "3      23              59000            2    0.918288\n",
       "4      31              38000            6   -0.315424\n",
       "...   ...                ...          ...         ...\n",
       "1960   71             184387            7   -0.315424\n",
       "1961   91              73158            7   -0.613184\n",
       "1962   87              90961            2   -1.361787\n",
       "1963   77             182109            2   -1.878507\n",
       "1964   90             110610            2    0.106315\n",
       "\n",
       "[1965 rows x 4 columns]"
      ]
     },
     "execution_count": 85,
     "metadata": {},
     "output_type": "execute_result"
    }
   ],
   "source": [
    "pre_c_df = pre_c_df.drop(labels=['Work Experience'], axis=1)\n",
    "pre_c_df"
   ]
  },
  {
   "cell_type": "code",
   "execution_count": 86,
   "id": "a556d8e4-eaf4-4c9c-9110-b6e48f34edae",
   "metadata": {},
   "outputs": [
    {
     "name": "stdout",
     "output_type": "stream",
     "text": [
      "                                 OLS Regression Results                                \n",
      "=======================================================================================\n",
      "Dep. Variable:             Target_yeo   R-squared (uncentered):                   0.002\n",
      "Model:                            OLS   Adj. R-squared (uncentered):              0.000\n",
      "Method:                 Least Squares   F-statistic:                              1.325\n",
      "Date:                Mon, 29 Apr 2024   Prob (F-statistic):                       0.265\n",
      "Time:                        09:32:19   Log-Likelihood:                         -2786.2\n",
      "No. Observations:                1965   AIC:                                      5578.\n",
      "Df Residuals:                    1962   BIC:                                      5595.\n",
      "Df Model:                           3                                                  \n",
      "Covariance Type:            nonrobust                                                  \n",
      "=====================================================================================\n",
      "                        coef    std err          t      P>|t|      [0.025      0.975]\n",
      "-------------------------------------------------------------------------------------\n",
      "Age                  -0.0013      0.001     -1.882      0.060      -0.003    5.55e-05\n",
      "Annual Income ($)  5.424e-07   3.83e-07      1.415      0.157   -2.09e-07    1.29e-06\n",
      "Family Size           0.0017      0.010      0.169      0.866      -0.018       0.022\n",
      "==============================================================================\n",
      "Omnibus:                      356.971   Durbin-Watson:                   2.156\n",
      "Prob(Omnibus):                  0.000   Jarque-Bera (JB):               92.602\n",
      "Skew:                          -0.237   Prob(JB):                     7.79e-21\n",
      "Kurtosis:                       2.048   Cond. No.                     5.41e+04\n",
      "==============================================================================\n",
      "\n",
      "Notes:\n",
      "[1] R² is computed without centering (uncentered) since the model does not contain a constant.\n",
      "[2] Standard Errors assume that the covariance matrix of the errors is correctly specified.\n",
      "[3] The condition number is large, 5.41e+04. This might indicate that there are\n",
      "strong multicollinearity or other numerical problems.\n"
     ]
    }
   ],
   "source": [
    "from statsmodels.api import OLS\n",
    "\n",
    "features, targets = pre_c_df.iloc[:, :-1], pre_c_df.iloc[:, -1]\n",
    "\n",
    "model = OLS(targets, features)\n",
    "print(model.fit().summary())"
   ]
  },
  {
   "cell_type": "code",
   "execution_count": 87,
   "id": "4d81d048-f511-4624-8b7f-5b1987119c31",
   "metadata": {},
   "outputs": [
    {
     "data": {
      "text/html": [
       "<div>\n",
       "<style scoped>\n",
       "    .dataframe tbody tr th:only-of-type {\n",
       "        vertical-align: middle;\n",
       "    }\n",
       "\n",
       "    .dataframe tbody tr th {\n",
       "        vertical-align: top;\n",
       "    }\n",
       "\n",
       "    .dataframe thead th {\n",
       "        text-align: right;\n",
       "    }\n",
       "</style>\n",
       "<table border=\"1\" class=\"dataframe\">\n",
       "  <thead>\n",
       "    <tr style=\"text-align: right;\">\n",
       "      <th></th>\n",
       "      <th>vif_score</th>\n",
       "      <th>feature</th>\n",
       "    </tr>\n",
       "  </thead>\n",
       "  <tbody>\n",
       "    <tr>\n",
       "      <th>0</th>\n",
       "      <td>3.125879</td>\n",
       "      <td>Age</td>\n",
       "    </tr>\n",
       "    <tr>\n",
       "      <th>1</th>\n",
       "      <td>4.139412</td>\n",
       "      <td>Annual Income ($)</td>\n",
       "    </tr>\n",
       "    <tr>\n",
       "      <th>2</th>\n",
       "      <td>3.670290</td>\n",
       "      <td>Family Size</td>\n",
       "    </tr>\n",
       "  </tbody>\n",
       "</table>\n",
       "</div>"
      ],
      "text/plain": [
       "   vif_score            feature\n",
       "0   3.125879                Age\n",
       "1   4.139412  Annual Income ($)\n",
       "2   3.670290        Family Size"
      ]
     },
     "execution_count": 87,
     "metadata": {},
     "output_type": "execute_result"
    }
   ],
   "source": [
    "get_vif(features)"
   ]
  },
  {
   "cell_type": "code",
   "execution_count": null,
   "id": "20aab390-99ac-4020-970f-f97780ae71e7",
   "metadata": {},
   "outputs": [],
   "source": []
  },
  {
   "cell_type": "code",
   "execution_count": null,
   "id": "56e7bfbf-4940-41b3-b889-b09dc4d89bc2",
   "metadata": {},
   "outputs": [],
   "source": []
  },
  {
   "cell_type": "code",
   "execution_count": null,
   "id": "f81c81de-8d3c-4429-ba8e-06eb36a0a39b",
   "metadata": {},
   "outputs": [],
   "source": []
  },
  {
   "cell_type": "code",
   "execution_count": null,
   "id": "936b6ba4-559c-461e-8a70-3f127aceb626",
   "metadata": {},
   "outputs": [],
   "source": []
  },
  {
   "cell_type": "code",
   "execution_count": null,
   "id": "fbc5b0bd-de9b-4992-ba78-17dc2fc9888f",
   "metadata": {},
   "outputs": [],
   "source": []
  },
  {
   "cell_type": "code",
   "execution_count": null,
   "id": "d1229313-7e86-4f88-b034-76d520fa29dc",
   "metadata": {},
   "outputs": [],
   "source": []
  },
  {
   "cell_type": "code",
   "execution_count": null,
   "id": "cbe076f8-e2dc-42b3-a3db-f619653620e9",
   "metadata": {},
   "outputs": [],
   "source": []
  },
  {
   "cell_type": "markdown",
   "id": "4adde3cf-70bd-48f4-a88a-39f1039b3acd",
   "metadata": {},
   "source": [
    "---"
   ]
  },
  {
   "cell_type": "code",
   "execution_count": 23,
   "id": "14ee65f2-4462-4eda-8b68-abd997db8331",
   "metadata": {},
   "outputs": [
    {
     "data": {
      "text/html": [
       "<div>\n",
       "<style scoped>\n",
       "    .dataframe tbody tr th:only-of-type {\n",
       "        vertical-align: middle;\n",
       "    }\n",
       "\n",
       "    .dataframe tbody tr th {\n",
       "        vertical-align: top;\n",
       "    }\n",
       "\n",
       "    .dataframe thead th {\n",
       "        text-align: right;\n",
       "    }\n",
       "</style>\n",
       "<table border=\"1\" class=\"dataframe\">\n",
       "  <thead>\n",
       "    <tr style=\"text-align: right;\">\n",
       "      <th></th>\n",
       "      <th>Age</th>\n",
       "      <th>Annual Income ($)</th>\n",
       "      <th>Work Experience</th>\n",
       "      <th>Family Size</th>\n",
       "      <th>target</th>\n",
       "      <th>Gender</th>\n",
       "      <th>Profession</th>\n",
       "    </tr>\n",
       "  </thead>\n",
       "  <tbody>\n",
       "    <tr>\n",
       "      <th>0</th>\n",
       "      <td>19</td>\n",
       "      <td>15000</td>\n",
       "      <td>1</td>\n",
       "      <td>4</td>\n",
       "      <td>3.688879</td>\n",
       "      <td>Male</td>\n",
       "      <td>Healthcare</td>\n",
       "    </tr>\n",
       "    <tr>\n",
       "      <th>1</th>\n",
       "      <td>21</td>\n",
       "      <td>35000</td>\n",
       "      <td>3</td>\n",
       "      <td>3</td>\n",
       "      <td>4.406719</td>\n",
       "      <td>Male</td>\n",
       "      <td>Engineer</td>\n",
       "    </tr>\n",
       "    <tr>\n",
       "      <th>2</th>\n",
       "      <td>20</td>\n",
       "      <td>86000</td>\n",
       "      <td>1</td>\n",
       "      <td>1</td>\n",
       "      <td>1.945910</td>\n",
       "      <td>Female</td>\n",
       "      <td>Engineer</td>\n",
       "    </tr>\n",
       "    <tr>\n",
       "      <th>3</th>\n",
       "      <td>23</td>\n",
       "      <td>59000</td>\n",
       "      <td>0</td>\n",
       "      <td>2</td>\n",
       "      <td>4.356709</td>\n",
       "      <td>Female</td>\n",
       "      <td>Lawyer</td>\n",
       "    </tr>\n",
       "    <tr>\n",
       "      <th>4</th>\n",
       "      <td>31</td>\n",
       "      <td>38000</td>\n",
       "      <td>2</td>\n",
       "      <td>6</td>\n",
       "      <td>3.713572</td>\n",
       "      <td>Female</td>\n",
       "      <td>Entertainment</td>\n",
       "    </tr>\n",
       "    <tr>\n",
       "      <th>...</th>\n",
       "      <td>...</td>\n",
       "      <td>...</td>\n",
       "      <td>...</td>\n",
       "      <td>...</td>\n",
       "      <td>...</td>\n",
       "      <td>...</td>\n",
       "      <td>...</td>\n",
       "    </tr>\n",
       "    <tr>\n",
       "      <th>1960</th>\n",
       "      <td>71</td>\n",
       "      <td>184387</td>\n",
       "      <td>8</td>\n",
       "      <td>7</td>\n",
       "      <td>3.713572</td>\n",
       "      <td>Female</td>\n",
       "      <td>Artist</td>\n",
       "    </tr>\n",
       "    <tr>\n",
       "      <th>1961</th>\n",
       "      <td>91</td>\n",
       "      <td>73158</td>\n",
       "      <td>7</td>\n",
       "      <td>7</td>\n",
       "      <td>3.496508</td>\n",
       "      <td>Female</td>\n",
       "      <td>Doctor</td>\n",
       "    </tr>\n",
       "    <tr>\n",
       "      <th>1962</th>\n",
       "      <td>87</td>\n",
       "      <td>90961</td>\n",
       "      <td>9</td>\n",
       "      <td>2</td>\n",
       "      <td>2.708050</td>\n",
       "      <td>Male</td>\n",
       "      <td>Healthcare</td>\n",
       "    </tr>\n",
       "    <tr>\n",
       "      <th>1963</th>\n",
       "      <td>77</td>\n",
       "      <td>182109</td>\n",
       "      <td>7</td>\n",
       "      <td>2</td>\n",
       "      <td>1.609438</td>\n",
       "      <td>Male</td>\n",
       "      <td>Executive</td>\n",
       "    </tr>\n",
       "    <tr>\n",
       "      <th>1964</th>\n",
       "      <td>90</td>\n",
       "      <td>110610</td>\n",
       "      <td>5</td>\n",
       "      <td>2</td>\n",
       "      <td>3.970292</td>\n",
       "      <td>Male</td>\n",
       "      <td>Entertainment</td>\n",
       "    </tr>\n",
       "  </tbody>\n",
       "</table>\n",
       "<p>1965 rows × 7 columns</p>\n",
       "</div>"
      ],
      "text/plain": [
       "      Age  Annual Income ($)  Work Experience  Family Size    target  Gender  \\\n",
       "0      19              15000                1            4  3.688879    Male   \n",
       "1      21              35000                3            3  4.406719    Male   \n",
       "2      20              86000                1            1  1.945910  Female   \n",
       "3      23              59000                0            2  4.356709  Female   \n",
       "4      31              38000                2            6  3.713572  Female   \n",
       "...   ...                ...              ...          ...       ...     ...   \n",
       "1960   71             184387                8            7  3.713572  Female   \n",
       "1961   91              73158                7            7  3.496508  Female   \n",
       "1962   87              90961                9            2  2.708050    Male   \n",
       "1963   77             182109                7            2  1.609438    Male   \n",
       "1964   90             110610                5            2  3.970292    Male   \n",
       "\n",
       "         Profession  \n",
       "0        Healthcare  \n",
       "1          Engineer  \n",
       "2          Engineer  \n",
       "3            Lawyer  \n",
       "4     Entertainment  \n",
       "...             ...  \n",
       "1960         Artist  \n",
       "1961         Doctor  \n",
       "1962     Healthcare  \n",
       "1963      Executive  \n",
       "1964  Entertainment  \n",
       "\n",
       "[1965 rows x 7 columns]"
      ]
     },
     "execution_count": 23,
     "metadata": {},
     "output_type": "execute_result"
    }
   ],
   "source": [
    "pre_c_df = pd.concat([pre_c_df, c_df[['Gender', 'Profession']]], axis=1)\n",
    "pre_c_df"
   ]
  },
  {
   "cell_type": "code",
   "execution_count": 24,
   "id": "3d40d3e3-f6aa-43d4-8f78-b0991aa7ff33",
   "metadata": {},
   "outputs": [
    {
     "data": {
      "text/html": [
       "<div>\n",
       "<style scoped>\n",
       "    .dataframe tbody tr th:only-of-type {\n",
       "        vertical-align: middle;\n",
       "    }\n",
       "\n",
       "    .dataframe tbody tr th {\n",
       "        vertical-align: top;\n",
       "    }\n",
       "\n",
       "    .dataframe thead th {\n",
       "        text-align: right;\n",
       "    }\n",
       "</style>\n",
       "<table border=\"1\" class=\"dataframe\">\n",
       "  <thead>\n",
       "    <tr style=\"text-align: right;\">\n",
       "      <th></th>\n",
       "      <th>Age</th>\n",
       "      <th>Annual Income ($)</th>\n",
       "      <th>Work Experience</th>\n",
       "      <th>Family Size</th>\n",
       "      <th>Gender</th>\n",
       "      <th>Profession</th>\n",
       "      <th>target</th>\n",
       "    </tr>\n",
       "  </thead>\n",
       "  <tbody>\n",
       "    <tr>\n",
       "      <th>0</th>\n",
       "      <td>19</td>\n",
       "      <td>15000</td>\n",
       "      <td>1</td>\n",
       "      <td>4</td>\n",
       "      <td>Male</td>\n",
       "      <td>Healthcare</td>\n",
       "      <td>3.688879</td>\n",
       "    </tr>\n",
       "    <tr>\n",
       "      <th>1</th>\n",
       "      <td>21</td>\n",
       "      <td>35000</td>\n",
       "      <td>3</td>\n",
       "      <td>3</td>\n",
       "      <td>Male</td>\n",
       "      <td>Engineer</td>\n",
       "      <td>4.406719</td>\n",
       "    </tr>\n",
       "    <tr>\n",
       "      <th>2</th>\n",
       "      <td>20</td>\n",
       "      <td>86000</td>\n",
       "      <td>1</td>\n",
       "      <td>1</td>\n",
       "      <td>Female</td>\n",
       "      <td>Engineer</td>\n",
       "      <td>1.945910</td>\n",
       "    </tr>\n",
       "    <tr>\n",
       "      <th>3</th>\n",
       "      <td>23</td>\n",
       "      <td>59000</td>\n",
       "      <td>0</td>\n",
       "      <td>2</td>\n",
       "      <td>Female</td>\n",
       "      <td>Lawyer</td>\n",
       "      <td>4.356709</td>\n",
       "    </tr>\n",
       "    <tr>\n",
       "      <th>4</th>\n",
       "      <td>31</td>\n",
       "      <td>38000</td>\n",
       "      <td>2</td>\n",
       "      <td>6</td>\n",
       "      <td>Female</td>\n",
       "      <td>Entertainment</td>\n",
       "      <td>3.713572</td>\n",
       "    </tr>\n",
       "    <tr>\n",
       "      <th>...</th>\n",
       "      <td>...</td>\n",
       "      <td>...</td>\n",
       "      <td>...</td>\n",
       "      <td>...</td>\n",
       "      <td>...</td>\n",
       "      <td>...</td>\n",
       "      <td>...</td>\n",
       "    </tr>\n",
       "    <tr>\n",
       "      <th>1960</th>\n",
       "      <td>71</td>\n",
       "      <td>184387</td>\n",
       "      <td>8</td>\n",
       "      <td>7</td>\n",
       "      <td>Female</td>\n",
       "      <td>Artist</td>\n",
       "      <td>3.713572</td>\n",
       "    </tr>\n",
       "    <tr>\n",
       "      <th>1961</th>\n",
       "      <td>91</td>\n",
       "      <td>73158</td>\n",
       "      <td>7</td>\n",
       "      <td>7</td>\n",
       "      <td>Female</td>\n",
       "      <td>Doctor</td>\n",
       "      <td>3.496508</td>\n",
       "    </tr>\n",
       "    <tr>\n",
       "      <th>1962</th>\n",
       "      <td>87</td>\n",
       "      <td>90961</td>\n",
       "      <td>9</td>\n",
       "      <td>2</td>\n",
       "      <td>Male</td>\n",
       "      <td>Healthcare</td>\n",
       "      <td>2.708050</td>\n",
       "    </tr>\n",
       "    <tr>\n",
       "      <th>1963</th>\n",
       "      <td>77</td>\n",
       "      <td>182109</td>\n",
       "      <td>7</td>\n",
       "      <td>2</td>\n",
       "      <td>Male</td>\n",
       "      <td>Executive</td>\n",
       "      <td>1.609438</td>\n",
       "    </tr>\n",
       "    <tr>\n",
       "      <th>1964</th>\n",
       "      <td>90</td>\n",
       "      <td>110610</td>\n",
       "      <td>5</td>\n",
       "      <td>2</td>\n",
       "      <td>Male</td>\n",
       "      <td>Entertainment</td>\n",
       "      <td>3.970292</td>\n",
       "    </tr>\n",
       "  </tbody>\n",
       "</table>\n",
       "<p>1965 rows × 7 columns</p>\n",
       "</div>"
      ],
      "text/plain": [
       "      Age  Annual Income ($)  Work Experience  Family Size  Gender  \\\n",
       "0      19              15000                1            4    Male   \n",
       "1      21              35000                3            3    Male   \n",
       "2      20              86000                1            1  Female   \n",
       "3      23              59000                0            2  Female   \n",
       "4      31              38000                2            6  Female   \n",
       "...   ...                ...              ...          ...     ...   \n",
       "1960   71             184387                8            7  Female   \n",
       "1961   91              73158                7            7  Female   \n",
       "1962   87              90961                9            2    Male   \n",
       "1963   77             182109                7            2    Male   \n",
       "1964   90             110610                5            2    Male   \n",
       "\n",
       "         Profession    target  \n",
       "0        Healthcare  3.688879  \n",
       "1          Engineer  4.406719  \n",
       "2          Engineer  1.945910  \n",
       "3            Lawyer  4.356709  \n",
       "4     Entertainment  3.713572  \n",
       "...             ...       ...  \n",
       "1960         Artist  3.713572  \n",
       "1961         Doctor  3.496508  \n",
       "1962     Healthcare  2.708050  \n",
       "1963      Executive  1.609438  \n",
       "1964  Entertainment  3.970292  \n",
       "\n",
       "[1965 rows x 7 columns]"
      ]
     },
     "execution_count": 24,
     "metadata": {},
     "output_type": "execute_result"
    }
   ],
   "source": [
    "target = pre_c_df.target\n",
    "pre_c_df.drop(labels=['target'], axis=1, inplace=True)\n",
    "pre_c_df['target'] = target\n",
    "pre_c_df"
   ]
  },
  {
   "cell_type": "code",
   "execution_count": 25,
   "id": "f165a915-0167-4417-8149-0b0a7f408b77",
   "metadata": {},
   "outputs": [
    {
     "data": {
      "text/html": [
       "<div>\n",
       "<style scoped>\n",
       "    .dataframe tbody tr th:only-of-type {\n",
       "        vertical-align: middle;\n",
       "    }\n",
       "\n",
       "    .dataframe tbody tr th {\n",
       "        vertical-align: top;\n",
       "    }\n",
       "\n",
       "    .dataframe thead th {\n",
       "        text-align: right;\n",
       "    }\n",
       "</style>\n",
       "<table border=\"1\" class=\"dataframe\">\n",
       "  <thead>\n",
       "    <tr style=\"text-align: right;\">\n",
       "      <th></th>\n",
       "      <th>Age</th>\n",
       "      <th>Annual Income ($)</th>\n",
       "      <th>Work Experience</th>\n",
       "      <th>Family Size</th>\n",
       "      <th>Gender</th>\n",
       "      <th>Profession</th>\n",
       "      <th>target</th>\n",
       "    </tr>\n",
       "  </thead>\n",
       "  <tbody>\n",
       "    <tr>\n",
       "      <th>0</th>\n",
       "      <td>19</td>\n",
       "      <td>15000</td>\n",
       "      <td>1</td>\n",
       "      <td>4</td>\n",
       "      <td>1</td>\n",
       "      <td>Healthcare</td>\n",
       "      <td>3.688879</td>\n",
       "    </tr>\n",
       "    <tr>\n",
       "      <th>1</th>\n",
       "      <td>21</td>\n",
       "      <td>35000</td>\n",
       "      <td>3</td>\n",
       "      <td>3</td>\n",
       "      <td>1</td>\n",
       "      <td>Engineer</td>\n",
       "      <td>4.406719</td>\n",
       "    </tr>\n",
       "    <tr>\n",
       "      <th>2</th>\n",
       "      <td>20</td>\n",
       "      <td>86000</td>\n",
       "      <td>1</td>\n",
       "      <td>1</td>\n",
       "      <td>0</td>\n",
       "      <td>Engineer</td>\n",
       "      <td>1.945910</td>\n",
       "    </tr>\n",
       "    <tr>\n",
       "      <th>3</th>\n",
       "      <td>23</td>\n",
       "      <td>59000</td>\n",
       "      <td>0</td>\n",
       "      <td>2</td>\n",
       "      <td>0</td>\n",
       "      <td>Lawyer</td>\n",
       "      <td>4.356709</td>\n",
       "    </tr>\n",
       "    <tr>\n",
       "      <th>4</th>\n",
       "      <td>31</td>\n",
       "      <td>38000</td>\n",
       "      <td>2</td>\n",
       "      <td>6</td>\n",
       "      <td>0</td>\n",
       "      <td>Entertainment</td>\n",
       "      <td>3.713572</td>\n",
       "    </tr>\n",
       "    <tr>\n",
       "      <th>...</th>\n",
       "      <td>...</td>\n",
       "      <td>...</td>\n",
       "      <td>...</td>\n",
       "      <td>...</td>\n",
       "      <td>...</td>\n",
       "      <td>...</td>\n",
       "      <td>...</td>\n",
       "    </tr>\n",
       "    <tr>\n",
       "      <th>1960</th>\n",
       "      <td>71</td>\n",
       "      <td>184387</td>\n",
       "      <td>8</td>\n",
       "      <td>7</td>\n",
       "      <td>0</td>\n",
       "      <td>Artist</td>\n",
       "      <td>3.713572</td>\n",
       "    </tr>\n",
       "    <tr>\n",
       "      <th>1961</th>\n",
       "      <td>91</td>\n",
       "      <td>73158</td>\n",
       "      <td>7</td>\n",
       "      <td>7</td>\n",
       "      <td>0</td>\n",
       "      <td>Doctor</td>\n",
       "      <td>3.496508</td>\n",
       "    </tr>\n",
       "    <tr>\n",
       "      <th>1962</th>\n",
       "      <td>87</td>\n",
       "      <td>90961</td>\n",
       "      <td>9</td>\n",
       "      <td>2</td>\n",
       "      <td>1</td>\n",
       "      <td>Healthcare</td>\n",
       "      <td>2.708050</td>\n",
       "    </tr>\n",
       "    <tr>\n",
       "      <th>1963</th>\n",
       "      <td>77</td>\n",
       "      <td>182109</td>\n",
       "      <td>7</td>\n",
       "      <td>2</td>\n",
       "      <td>1</td>\n",
       "      <td>Executive</td>\n",
       "      <td>1.609438</td>\n",
       "    </tr>\n",
       "    <tr>\n",
       "      <th>1964</th>\n",
       "      <td>90</td>\n",
       "      <td>110610</td>\n",
       "      <td>5</td>\n",
       "      <td>2</td>\n",
       "      <td>1</td>\n",
       "      <td>Entertainment</td>\n",
       "      <td>3.970292</td>\n",
       "    </tr>\n",
       "  </tbody>\n",
       "</table>\n",
       "<p>1965 rows × 7 columns</p>\n",
       "</div>"
      ],
      "text/plain": [
       "      Age  Annual Income ($)  Work Experience  Family Size  Gender  \\\n",
       "0      19              15000                1            4       1   \n",
       "1      21              35000                3            3       1   \n",
       "2      20              86000                1            1       0   \n",
       "3      23              59000                0            2       0   \n",
       "4      31              38000                2            6       0   \n",
       "...   ...                ...              ...          ...     ...   \n",
       "1960   71             184387                8            7       0   \n",
       "1961   91              73158                7            7       0   \n",
       "1962   87              90961                9            2       1   \n",
       "1963   77             182109                7            2       1   \n",
       "1964   90             110610                5            2       1   \n",
       "\n",
       "         Profession    target  \n",
       "0        Healthcare  3.688879  \n",
       "1          Engineer  4.406719  \n",
       "2          Engineer  1.945910  \n",
       "3            Lawyer  4.356709  \n",
       "4     Entertainment  3.713572  \n",
       "...             ...       ...  \n",
       "1960         Artist  3.713572  \n",
       "1961         Doctor  3.496508  \n",
       "1962     Healthcare  2.708050  \n",
       "1963      Executive  1.609438  \n",
       "1964  Entertainment  3.970292  \n",
       "\n",
       "[1965 rows x 7 columns]"
      ]
     },
     "execution_count": 25,
     "metadata": {},
     "output_type": "execute_result"
    }
   ],
   "source": [
    "from sklearn.preprocessing import LabelEncoder\n",
    "\n",
    "label_encoder = LabelEncoder()\n",
    "result = label_encoder.fit_transform(pre_c_df['Gender'])\n",
    "pre_c_df.Gender = result\n",
    "pre_c_df"
   ]
  },
  {
   "cell_type": "code",
   "execution_count": 26,
   "id": "0363dc89-5808-4871-bb58-c04819d2ce71",
   "metadata": {},
   "outputs": [],
   "source": [
    "pre_c_df = pre_c_df.drop(labels=['Profession'], axis=1)"
   ]
  },
  {
   "cell_type": "code",
   "execution_count": 27,
   "id": "9e2e2f11-6bab-48b4-80b4-f4af78ea4e5d",
   "metadata": {},
   "outputs": [
    {
     "name": "stdout",
     "output_type": "stream",
     "text": [
      "                                 OLS Regression Results                                \n",
      "=======================================================================================\n",
      "Dep. Variable:                 target   R-squared (uncentered):                   0.886\n",
      "Model:                            OLS   Adj. R-squared (uncentered):              0.885\n",
      "Method:                 Least Squares   F-statistic:                              3033.\n",
      "Date:                Sat, 27 Apr 2024   Prob (F-statistic):                        0.00\n",
      "Time:                        15:23:23   Log-Likelihood:                         -3285.3\n",
      "No. Observations:                1965   AIC:                                      6581.\n",
      "Df Residuals:                    1960   BIC:                                      6608.\n",
      "Df Model:                           5                                                  \n",
      "Covariance Type:            nonrobust                                                  \n",
      "=====================================================================================\n",
      "                        coef    std err          t      P>|t|      [0.025      0.975]\n",
      "-------------------------------------------------------------------------------------\n",
      "Age                   0.0148      0.001     16.119      0.000       0.013       0.017\n",
      "Annual Income ($)  1.326e-05   5.23e-07     25.328      0.000    1.22e-05    1.43e-05\n",
      "Work Experience       0.0532      0.007      7.337      0.000       0.039       0.067\n",
      "Family Size           0.2284      0.013     17.138      0.000       0.202       0.255\n",
      "Gender                0.4462      0.058      7.720      0.000       0.333       0.560\n",
      "==============================================================================\n",
      "Omnibus:                       30.274   Durbin-Watson:                   1.702\n",
      "Prob(Omnibus):                  0.000   Jarque-Bera (JB):               31.282\n",
      "Skew:                          -0.306   Prob(JB):                     1.61e-07\n",
      "Kurtosis:                       3.092   Cond. No.                     2.38e+05\n",
      "==============================================================================\n",
      "\n",
      "Notes:\n",
      "[1] R² is computed without centering (uncentered) since the model does not contain a constant.\n",
      "[2] Standard Errors assume that the covariance matrix of the errors is correctly specified.\n",
      "[3] The condition number is large, 2.38e+05. This might indicate that there are\n",
      "strong multicollinearity or other numerical problems.\n"
     ]
    }
   ],
   "source": [
    "features, targets = pre_c_df.iloc[:, :-1], pre_c_df.iloc[:, -1]\n",
    "\n",
    "model = OLS(targets, features)\n",
    "print(model.fit().summary())"
   ]
  },
  {
   "cell_type": "code",
   "execution_count": 28,
   "id": "5046739e-797e-4bea-86d6-5897215212f2",
   "metadata": {},
   "outputs": [
    {
     "data": {
      "text/html": [
       "<div>\n",
       "<style scoped>\n",
       "    .dataframe tbody tr th:only-of-type {\n",
       "        vertical-align: middle;\n",
       "    }\n",
       "\n",
       "    .dataframe tbody tr th {\n",
       "        vertical-align: top;\n",
       "    }\n",
       "\n",
       "    .dataframe thead th {\n",
       "        text-align: right;\n",
       "    }\n",
       "</style>\n",
       "<table border=\"1\" class=\"dataframe\">\n",
       "  <thead>\n",
       "    <tr style=\"text-align: right;\">\n",
       "      <th></th>\n",
       "      <th>vif_score</th>\n",
       "      <th>feature</th>\n",
       "    </tr>\n",
       "  </thead>\n",
       "  <tbody>\n",
       "    <tr>\n",
       "      <th>0</th>\n",
       "      <td>3.197363</td>\n",
       "      <td>Age</td>\n",
       "    </tr>\n",
       "    <tr>\n",
       "      <th>1</th>\n",
       "      <td>4.640534</td>\n",
       "      <td>Annual Income ($)</td>\n",
       "    </tr>\n",
       "    <tr>\n",
       "      <th>2</th>\n",
       "      <td>1.994714</td>\n",
       "      <td>Work Experience</td>\n",
       "    </tr>\n",
       "    <tr>\n",
       "      <th>3</th>\n",
       "      <td>3.776669</td>\n",
       "      <td>Family Size</td>\n",
       "    </tr>\n",
       "    <tr>\n",
       "      <th>4</th>\n",
       "      <td>1.605566</td>\n",
       "      <td>Gender</td>\n",
       "    </tr>\n",
       "  </tbody>\n",
       "</table>\n",
       "</div>"
      ],
      "text/plain": [
       "   vif_score            feature\n",
       "0   3.197363                Age\n",
       "1   4.640534  Annual Income ($)\n",
       "2   1.994714    Work Experience\n",
       "3   3.776669        Family Size\n",
       "4   1.605566             Gender"
      ]
     },
     "execution_count": 28,
     "metadata": {},
     "output_type": "execute_result"
    }
   ],
   "source": [
    "get_vif(features)"
   ]
  },
  {
   "cell_type": "code",
   "execution_count": 29,
   "id": "f6b0c681-ae26-4657-8b3f-bae79aa48fbb",
   "metadata": {},
   "outputs": [
    {
     "name": "stdout",
     "output_type": "stream",
     "text": [
      "                                 OLS Regression Results                                \n",
      "=======================================================================================\n",
      "Dep. Variable:                 target   R-squared (uncentered):                   0.887\n",
      "Model:                            OLS   Adj. R-squared (uncentered):              0.887\n",
      "Method:                 Least Squares   F-statistic:                              2470.\n",
      "Date:                Sat, 27 Apr 2024   Prob (F-statistic):                        0.00\n",
      "Time:                        15:23:23   Log-Likelihood:                         -2622.0\n",
      "No. Observations:                1572   AIC:                                      5254.\n",
      "Df Residuals:                    1567   BIC:                                      5281.\n",
      "Df Model:                           5                                                  \n",
      "Covariance Type:            nonrobust                                                  \n",
      "=====================================================================================\n",
      "                        coef    std err          t      P>|t|      [0.025      0.975]\n",
      "-------------------------------------------------------------------------------------\n",
      "Age                   0.0145      0.001     14.178      0.000       0.013       0.017\n",
      "Annual Income ($)  1.307e-05   5.81e-07     22.509      0.000    1.19e-05    1.42e-05\n",
      "Work Experience       0.0575      0.008      7.122      0.000       0.042       0.073\n",
      "Family Size           0.2347      0.015     15.847      0.000       0.206       0.264\n",
      "Gender                0.4736      0.064      7.409      0.000       0.348       0.599\n",
      "==============================================================================\n",
      "Omnibus:                       28.417   Durbin-Watson:                   1.921\n",
      "Prob(Omnibus):                  0.000   Jarque-Bera (JB):               29.503\n",
      "Skew:                          -0.325   Prob(JB):                     3.92e-07\n",
      "Kurtosis:                       3.166   Cond. No.                     2.36e+05\n",
      "==============================================================================\n",
      "\n",
      "Notes:\n",
      "[1] R² is computed without centering (uncentered) since the model does not contain a constant.\n",
      "[2] Standard Errors assume that the covariance matrix of the errors is correctly specified.\n",
      "[3] The condition number is large, 2.36e+05. This might indicate that there are\n",
      "strong multicollinearity or other numerical problems.\n"
     ]
    }
   ],
   "source": [
    "from sklearn.model_selection import train_test_split\n",
    "from sklearn.linear_model import LinearRegression\n",
    "\n",
    "X_train, X_test, y_train, y_test = train_test_split(features, targets, test_size=0.2, random_state=124)\n",
    "\n",
    "model = OLS(y_train, X_train)\n",
    "print(model.fit().summary())"
   ]
  },
  {
   "cell_type": "code",
   "execution_count": 30,
   "id": "e019497a-3f6d-4ea6-bf7c-9929b8aa50c2",
   "metadata": {},
   "outputs": [],
   "source": [
    "from sklearn.metrics import mean_squared_log_error, mean_squared_error, r2_score\n",
    "\n",
    "def get_evaluation(y_test, prediction):\n",
    "    MSE = mean_squared_error(y_test, prediction)\n",
    "    RMSE = np.sqrt(MSE)\n",
    "    MSLE = mean_squared_log_error(y_test, prediction)\n",
    "    RMSLE = np.sqrt(mean_squared_log_error(y_test, prediction))\n",
    "    R2 = r2_score(y_test, prediction)\n",
    "    print('MSE: {:.4f}, RMSE: {:.4f}, MSLE: {:.4f}, RMSLE: {:.4f}, R2: {:.4f}'\\\n",
    "          .format(MSE, RMSE, MSLE, RMSLE, R2))"
   ]
  },
  {
   "cell_type": "code",
   "execution_count": 31,
   "id": "9d7f6bd4-853c-445e-87d8-a6476b5a99a2",
   "metadata": {},
   "outputs": [
    {
     "name": "stdout",
     "output_type": "stream",
     "text": [
      "MSE: 1.7158, RMSE: 1.3099, MSLE: 0.1095, RMSLE: 0.3309, R2: -1.3748\n"
     ]
    }
   ],
   "source": [
    "# OLS 모델을 통한 회귀 예측\n",
    "prediction = model.fit().predict(X_test)\n",
    "\n",
    "get_evaluation(y_test, prediction)"
   ]
  },
  {
   "cell_type": "code",
   "execution_count": 32,
   "id": "ccadd0bd-1dc8-4ad5-b24c-df14507eddc5",
   "metadata": {},
   "outputs": [
    {
     "data": {
      "text/html": [
       "<style>#sk-container-id-1 {color: black;background-color: white;}#sk-container-id-1 pre{padding: 0;}#sk-container-id-1 div.sk-toggleable {background-color: white;}#sk-container-id-1 label.sk-toggleable__label {cursor: pointer;display: block;width: 100%;margin-bottom: 0;padding: 0.3em;box-sizing: border-box;text-align: center;}#sk-container-id-1 label.sk-toggleable__label-arrow:before {content: \"▸\";float: left;margin-right: 0.25em;color: #696969;}#sk-container-id-1 label.sk-toggleable__label-arrow:hover:before {color: black;}#sk-container-id-1 div.sk-estimator:hover label.sk-toggleable__label-arrow:before {color: black;}#sk-container-id-1 div.sk-toggleable__content {max-height: 0;max-width: 0;overflow: hidden;text-align: left;background-color: #f0f8ff;}#sk-container-id-1 div.sk-toggleable__content pre {margin: 0.2em;color: black;border-radius: 0.25em;background-color: #f0f8ff;}#sk-container-id-1 input.sk-toggleable__control:checked~div.sk-toggleable__content {max-height: 200px;max-width: 100%;overflow: auto;}#sk-container-id-1 input.sk-toggleable__control:checked~label.sk-toggleable__label-arrow:before {content: \"▾\";}#sk-container-id-1 div.sk-estimator input.sk-toggleable__control:checked~label.sk-toggleable__label {background-color: #d4ebff;}#sk-container-id-1 div.sk-label input.sk-toggleable__control:checked~label.sk-toggleable__label {background-color: #d4ebff;}#sk-container-id-1 input.sk-hidden--visually {border: 0;clip: rect(1px 1px 1px 1px);clip: rect(1px, 1px, 1px, 1px);height: 1px;margin: -1px;overflow: hidden;padding: 0;position: absolute;width: 1px;}#sk-container-id-1 div.sk-estimator {font-family: monospace;background-color: #f0f8ff;border: 1px dotted black;border-radius: 0.25em;box-sizing: border-box;margin-bottom: 0.5em;}#sk-container-id-1 div.sk-estimator:hover {background-color: #d4ebff;}#sk-container-id-1 div.sk-parallel-item::after {content: \"\";width: 100%;border-bottom: 1px solid gray;flex-grow: 1;}#sk-container-id-1 div.sk-label:hover label.sk-toggleable__label {background-color: #d4ebff;}#sk-container-id-1 div.sk-serial::before {content: \"\";position: absolute;border-left: 1px solid gray;box-sizing: border-box;top: 0;bottom: 0;left: 50%;z-index: 0;}#sk-container-id-1 div.sk-serial {display: flex;flex-direction: column;align-items: center;background-color: white;padding-right: 0.2em;padding-left: 0.2em;position: relative;}#sk-container-id-1 div.sk-item {position: relative;z-index: 1;}#sk-container-id-1 div.sk-parallel {display: flex;align-items: stretch;justify-content: center;background-color: white;position: relative;}#sk-container-id-1 div.sk-item::before, #sk-container-id-1 div.sk-parallel-item::before {content: \"\";position: absolute;border-left: 1px solid gray;box-sizing: border-box;top: 0;bottom: 0;left: 50%;z-index: -1;}#sk-container-id-1 div.sk-parallel-item {display: flex;flex-direction: column;z-index: 1;position: relative;background-color: white;}#sk-container-id-1 div.sk-parallel-item:first-child::after {align-self: flex-end;width: 50%;}#sk-container-id-1 div.sk-parallel-item:last-child::after {align-self: flex-start;width: 50%;}#sk-container-id-1 div.sk-parallel-item:only-child::after {width: 0;}#sk-container-id-1 div.sk-dashed-wrapped {border: 1px dashed gray;margin: 0 0.4em 0.5em 0.4em;box-sizing: border-box;padding-bottom: 0.4em;background-color: white;}#sk-container-id-1 div.sk-label label {font-family: monospace;font-weight: bold;display: inline-block;line-height: 1.2em;}#sk-container-id-1 div.sk-label-container {text-align: center;}#sk-container-id-1 div.sk-container {/* jupyter's `normalize.less` sets `[hidden] { display: none; }` but bootstrap.min.css set `[hidden] { display: none !important; }` so we also need the `!important` here to be able to override the default hidden behavior on the sphinx rendered scikit-learn.org. See: https://github.com/scikit-learn/scikit-learn/issues/21755 */display: inline-block !important;position: relative;}#sk-container-id-1 div.sk-text-repr-fallback {display: none;}</style><div id=\"sk-container-id-1\" class=\"sk-top-container\"><div class=\"sk-text-repr-fallback\"><pre>LinearRegression()</pre><b>In a Jupyter environment, please rerun this cell to show the HTML representation or trust the notebook. <br />On GitHub, the HTML representation is unable to render, please try loading this page with nbviewer.org.</b></div><div class=\"sk-container\" hidden><div class=\"sk-item\"><div class=\"sk-estimator sk-toggleable\"><input class=\"sk-toggleable__control sk-hidden--visually\" id=\"sk-estimator-id-1\" type=\"checkbox\" checked><label for=\"sk-estimator-id-1\" class=\"sk-toggleable__label sk-toggleable__label-arrow\">LinearRegression</label><div class=\"sk-toggleable__content\"><pre>LinearRegression()</pre></div></div></div></div></div>"
      ],
      "text/plain": [
       "LinearRegression()"
      ]
     },
     "execution_count": 32,
     "metadata": {},
     "output_type": "execute_result"
    }
   ],
   "source": [
    "# LinearRegression 모델을 통한 회귀 예측\n",
    "l_r = LinearRegression()\n",
    "l_r.fit(X_train, y_train)"
   ]
  },
  {
   "cell_type": "code",
   "execution_count": 33,
   "id": "d77aac88-da26-4f4e-945c-e5a4f7d3d7a4",
   "metadata": {},
   "outputs": [
    {
     "name": "stdout",
     "output_type": "stream",
     "text": [
      "MSE: 0.7289, RMSE: 0.8538, MSLE: 0.0548, RMSLE: 0.2341, R2: -0.0089\n"
     ]
    }
   ],
   "source": [
    "l_r_prediction = l_r.predict(X_test)\n",
    "get_evaluation(y_test, l_r_prediction)"
   ]
  },
  {
   "cell_type": "markdown",
   "id": "5804acb2-3152-4142-b42b-5ca719254eea",
   "metadata": {},
   "source": [
    "- 📌R2 수치가 음수로 나왔으므로 test_size를 0.3으로 증가시켜 회귀 예측을 수행해봅니다."
   ]
  },
  {
   "cell_type": "code",
   "execution_count": 34,
   "id": "1853f43c-cc8a-4c18-a7dc-54bacef0defa",
   "metadata": {},
   "outputs": [],
   "source": [
    "features, targets = pre_c_df.iloc[:, :-1], pre_c_df.iloc[:, -1]"
   ]
  },
  {
   "cell_type": "code",
   "execution_count": 35,
   "id": "2f75b970-936e-48c5-8de1-aac8927436ea",
   "metadata": {},
   "outputs": [
    {
     "name": "stdout",
     "output_type": "stream",
     "text": [
      "                                 OLS Regression Results                                \n",
      "=======================================================================================\n",
      "Dep. Variable:                 target   R-squared (uncentered):                   0.885\n",
      "Model:                            OLS   Adj. R-squared (uncentered):              0.885\n",
      "Method:                 Least Squares   F-statistic:                              2109.\n",
      "Date:                Sat, 27 Apr 2024   Prob (F-statistic):                        0.00\n",
      "Time:                        15:23:23   Log-Likelihood:                         -2303.0\n",
      "No. Observations:                1375   AIC:                                      4616.\n",
      "Df Residuals:                    1370   BIC:                                      4642.\n",
      "Df Model:                           5                                                  \n",
      "Covariance Type:            nonrobust                                                  \n",
      "=====================================================================================\n",
      "                        coef    std err          t      P>|t|      [0.025      0.975]\n",
      "-------------------------------------------------------------------------------------\n",
      "Age                   0.0144      0.001     12.827      0.000       0.012       0.017\n",
      "Annual Income ($)  1.315e-05   6.21e-07     21.181      0.000    1.19e-05    1.44e-05\n",
      "Work Experience       0.0568      0.009      6.589      0.000       0.040       0.074\n",
      "Family Size           0.2283      0.016     14.351      0.000       0.197       0.260\n",
      "Gender                0.5164      0.068      7.540      0.000       0.382       0.651\n",
      "==============================================================================\n",
      "Omnibus:                       25.288   Durbin-Watson:                   1.904\n",
      "Prob(Omnibus):                  0.000   Jarque-Bera (JB):               26.205\n",
      "Skew:                          -0.328   Prob(JB):                     2.04e-06\n",
      "Kurtosis:                       3.167   Cond. No.                     2.34e+05\n",
      "==============================================================================\n",
      "\n",
      "Notes:\n",
      "[1] R² is computed without centering (uncentered) since the model does not contain a constant.\n",
      "[2] Standard Errors assume that the covariance matrix of the errors is correctly specified.\n",
      "[3] The condition number is large, 2.34e+05. This might indicate that there are\n",
      "strong multicollinearity or other numerical problems.\n"
     ]
    }
   ],
   "source": [
    "from sklearn.model_selection import train_test_split\n",
    "from sklearn.linear_model import LinearRegression\n",
    "\n",
    "X_train, X_test, y_train, y_test = train_test_split(features, targets, test_size=0.3, random_state=124)\n",
    "\n",
    "model = OLS(y_train, X_train)\n",
    "print(model.fit().summary())"
   ]
  },
  {
   "cell_type": "code",
   "execution_count": 36,
   "id": "319691ce-bb19-4c1f-a7d1-db14270c4512",
   "metadata": {},
   "outputs": [
    {
     "name": "stdout",
     "output_type": "stream",
     "text": [
      "MSE: 1.6407, RMSE: 1.2809, MSLE: 0.1008, RMSLE: 0.3175, R2: -1.6353\n"
     ]
    }
   ],
   "source": [
    "# OLS 모델을 통한 회귀 예측\n",
    "prediction = model.fit().predict(X_test)\n",
    "\n",
    "get_evaluation(y_test, prediction)"
   ]
  },
  {
   "cell_type": "code",
   "execution_count": 37,
   "id": "c5197449-65a7-4012-b6e5-32a5ea89836a",
   "metadata": {},
   "outputs": [
    {
     "data": {
      "text/html": [
       "<style>#sk-container-id-2 {color: black;background-color: white;}#sk-container-id-2 pre{padding: 0;}#sk-container-id-2 div.sk-toggleable {background-color: white;}#sk-container-id-2 label.sk-toggleable__label {cursor: pointer;display: block;width: 100%;margin-bottom: 0;padding: 0.3em;box-sizing: border-box;text-align: center;}#sk-container-id-2 label.sk-toggleable__label-arrow:before {content: \"▸\";float: left;margin-right: 0.25em;color: #696969;}#sk-container-id-2 label.sk-toggleable__label-arrow:hover:before {color: black;}#sk-container-id-2 div.sk-estimator:hover label.sk-toggleable__label-arrow:before {color: black;}#sk-container-id-2 div.sk-toggleable__content {max-height: 0;max-width: 0;overflow: hidden;text-align: left;background-color: #f0f8ff;}#sk-container-id-2 div.sk-toggleable__content pre {margin: 0.2em;color: black;border-radius: 0.25em;background-color: #f0f8ff;}#sk-container-id-2 input.sk-toggleable__control:checked~div.sk-toggleable__content {max-height: 200px;max-width: 100%;overflow: auto;}#sk-container-id-2 input.sk-toggleable__control:checked~label.sk-toggleable__label-arrow:before {content: \"▾\";}#sk-container-id-2 div.sk-estimator input.sk-toggleable__control:checked~label.sk-toggleable__label {background-color: #d4ebff;}#sk-container-id-2 div.sk-label input.sk-toggleable__control:checked~label.sk-toggleable__label {background-color: #d4ebff;}#sk-container-id-2 input.sk-hidden--visually {border: 0;clip: rect(1px 1px 1px 1px);clip: rect(1px, 1px, 1px, 1px);height: 1px;margin: -1px;overflow: hidden;padding: 0;position: absolute;width: 1px;}#sk-container-id-2 div.sk-estimator {font-family: monospace;background-color: #f0f8ff;border: 1px dotted black;border-radius: 0.25em;box-sizing: border-box;margin-bottom: 0.5em;}#sk-container-id-2 div.sk-estimator:hover {background-color: #d4ebff;}#sk-container-id-2 div.sk-parallel-item::after {content: \"\";width: 100%;border-bottom: 1px solid gray;flex-grow: 1;}#sk-container-id-2 div.sk-label:hover label.sk-toggleable__label {background-color: #d4ebff;}#sk-container-id-2 div.sk-serial::before {content: \"\";position: absolute;border-left: 1px solid gray;box-sizing: border-box;top: 0;bottom: 0;left: 50%;z-index: 0;}#sk-container-id-2 div.sk-serial {display: flex;flex-direction: column;align-items: center;background-color: white;padding-right: 0.2em;padding-left: 0.2em;position: relative;}#sk-container-id-2 div.sk-item {position: relative;z-index: 1;}#sk-container-id-2 div.sk-parallel {display: flex;align-items: stretch;justify-content: center;background-color: white;position: relative;}#sk-container-id-2 div.sk-item::before, #sk-container-id-2 div.sk-parallel-item::before {content: \"\";position: absolute;border-left: 1px solid gray;box-sizing: border-box;top: 0;bottom: 0;left: 50%;z-index: -1;}#sk-container-id-2 div.sk-parallel-item {display: flex;flex-direction: column;z-index: 1;position: relative;background-color: white;}#sk-container-id-2 div.sk-parallel-item:first-child::after {align-self: flex-end;width: 50%;}#sk-container-id-2 div.sk-parallel-item:last-child::after {align-self: flex-start;width: 50%;}#sk-container-id-2 div.sk-parallel-item:only-child::after {width: 0;}#sk-container-id-2 div.sk-dashed-wrapped {border: 1px dashed gray;margin: 0 0.4em 0.5em 0.4em;box-sizing: border-box;padding-bottom: 0.4em;background-color: white;}#sk-container-id-2 div.sk-label label {font-family: monospace;font-weight: bold;display: inline-block;line-height: 1.2em;}#sk-container-id-2 div.sk-label-container {text-align: center;}#sk-container-id-2 div.sk-container {/* jupyter's `normalize.less` sets `[hidden] { display: none; }` but bootstrap.min.css set `[hidden] { display: none !important; }` so we also need the `!important` here to be able to override the default hidden behavior on the sphinx rendered scikit-learn.org. See: https://github.com/scikit-learn/scikit-learn/issues/21755 */display: inline-block !important;position: relative;}#sk-container-id-2 div.sk-text-repr-fallback {display: none;}</style><div id=\"sk-container-id-2\" class=\"sk-top-container\"><div class=\"sk-text-repr-fallback\"><pre>LinearRegression()</pre><b>In a Jupyter environment, please rerun this cell to show the HTML representation or trust the notebook. <br />On GitHub, the HTML representation is unable to render, please try loading this page with nbviewer.org.</b></div><div class=\"sk-container\" hidden><div class=\"sk-item\"><div class=\"sk-estimator sk-toggleable\"><input class=\"sk-toggleable__control sk-hidden--visually\" id=\"sk-estimator-id-2\" type=\"checkbox\" checked><label for=\"sk-estimator-id-2\" class=\"sk-toggleable__label sk-toggleable__label-arrow\">LinearRegression</label><div class=\"sk-toggleable__content\"><pre>LinearRegression()</pre></div></div></div></div></div>"
      ],
      "text/plain": [
       "LinearRegression()"
      ]
     },
     "execution_count": 37,
     "metadata": {},
     "output_type": "execute_result"
    }
   ],
   "source": [
    "# LinearRegression 모델을 통한 회귀 예측\n",
    "l_r = LinearRegression()\n",
    "l_r.fit(X_train, y_train)"
   ]
  },
  {
   "cell_type": "code",
   "execution_count": 38,
   "id": "bcdb062d-d5e2-479d-a2a7-ddb4c251e99b",
   "metadata": {},
   "outputs": [
    {
     "name": "stdout",
     "output_type": "stream",
     "text": [
      "MSE: 0.6218, RMSE: 0.7886, MSLE: 0.0437, RMSLE: 0.2091, R2: 0.0012\n"
     ]
    }
   ],
   "source": [
    "l_r_prediction = l_r.predict(X_test)\n",
    "get_evaluation(y_test, l_r_prediction)"
   ]
  },
  {
   "cell_type": "markdown",
   "id": "035b8e7c-c942-4bcf-b616-7e46bf7f0691",
   "metadata": {},
   "source": [
    "- 📌테스트 데이터의 비중을 0.3으로 증가시킨 후, LinearRegression 모델로 학습 및 회귀 예측을 수행했을 때 R2 수치가 양수로 증가했습니다.\n",
    "- R2를 좀 더 향상시키기 위해 테스트 데이터의 비중을 0.4로 증가시켜봅니다."
   ]
  },
  {
   "cell_type": "code",
   "execution_count": 43,
   "id": "d3e29fc7-0a19-432b-a1e3-fa8a794865eb",
   "metadata": {},
   "outputs": [],
   "source": [
    "features, targets = pre_c_df.iloc[:, :-1], pre_c_df.iloc[:, -1]"
   ]
  },
  {
   "cell_type": "code",
   "execution_count": 44,
   "id": "a5209d09-0b45-40d4-9614-dd0b625231a5",
   "metadata": {},
   "outputs": [
    {
     "name": "stdout",
     "output_type": "stream",
     "text": [
      "                                 OLS Regression Results                                \n",
      "=======================================================================================\n",
      "Dep. Variable:                 target   R-squared (uncentered):                   0.887\n",
      "Model:                            OLS   Adj. R-squared (uncentered):              0.887\n",
      "Method:                 Least Squares   F-statistic:                              1851.\n",
      "Date:                Sat, 27 Apr 2024   Prob (F-statistic):                        0.00\n",
      "Time:                        15:26:16   Log-Likelihood:                         -1965.9\n",
      "No. Observations:                1179   AIC:                                      3942.\n",
      "Df Residuals:                    1174   BIC:                                      3967.\n",
      "Df Model:                           5                                                  \n",
      "Covariance Type:            nonrobust                                                  \n",
      "=====================================================================================\n",
      "                        coef    std err          t      P>|t|      [0.025      0.975]\n",
      "-------------------------------------------------------------------------------------\n",
      "Age                   0.0141      0.001     11.551      0.000       0.012       0.017\n",
      "Annual Income ($)  1.354e-05   6.73e-07     20.113      0.000    1.22e-05    1.49e-05\n",
      "Work Experience       0.0594      0.009      6.542      0.000       0.042       0.077\n",
      "Family Size           0.2278      0.017     13.340      0.000       0.194       0.261\n",
      "Gender                0.4521      0.074      6.126      0.000       0.307       0.597\n",
      "==============================================================================\n",
      "Omnibus:                       20.307   Durbin-Watson:                   1.892\n",
      "Prob(Omnibus):                  0.000   Jarque-Bera (JB):               20.902\n",
      "Skew:                          -0.314   Prob(JB):                     2.89e-05\n",
      "Kurtosis:                       3.178   Cond. No.                     2.33e+05\n",
      "==============================================================================\n",
      "\n",
      "Notes:\n",
      "[1] R² is computed without centering (uncentered) since the model does not contain a constant.\n",
      "[2] Standard Errors assume that the covariance matrix of the errors is correctly specified.\n",
      "[3] The condition number is large, 2.33e+05. This might indicate that there are\n",
      "strong multicollinearity or other numerical problems.\n"
     ]
    }
   ],
   "source": [
    "from sklearn.model_selection import train_test_split\n",
    "from sklearn.linear_model import LinearRegression\n",
    "\n",
    "X_train, X_test, y_train, y_test = train_test_split(features, targets, test_size=0.4, random_state=124)\n",
    "\n",
    "model = OLS(y_train, X_train)\n",
    "print(model.fit().summary())"
   ]
  },
  {
   "cell_type": "code",
   "execution_count": 45,
   "id": "6067bc99-30af-4f7e-9b28-6f19baeb6e22",
   "metadata": {},
   "outputs": [
    {
     "name": "stdout",
     "output_type": "stream",
     "text": [
      "MSE: 1.6850, RMSE: 1.2981, MSLE: 0.1044, RMSLE: 0.3231, R2: -1.4921\n"
     ]
    }
   ],
   "source": [
    "# OLS 모델을 통한 회귀 예측\n",
    "prediction = model.fit().predict(X_test)\n",
    "\n",
    "get_evaluation(y_test, prediction)"
   ]
  },
  {
   "cell_type": "code",
   "execution_count": 46,
   "id": "11e53624-5528-4adb-8bd4-c7a6393bb936",
   "metadata": {},
   "outputs": [
    {
     "data": {
      "text/html": [
       "<style>#sk-container-id-4 {color: black;background-color: white;}#sk-container-id-4 pre{padding: 0;}#sk-container-id-4 div.sk-toggleable {background-color: white;}#sk-container-id-4 label.sk-toggleable__label {cursor: pointer;display: block;width: 100%;margin-bottom: 0;padding: 0.3em;box-sizing: border-box;text-align: center;}#sk-container-id-4 label.sk-toggleable__label-arrow:before {content: \"▸\";float: left;margin-right: 0.25em;color: #696969;}#sk-container-id-4 label.sk-toggleable__label-arrow:hover:before {color: black;}#sk-container-id-4 div.sk-estimator:hover label.sk-toggleable__label-arrow:before {color: black;}#sk-container-id-4 div.sk-toggleable__content {max-height: 0;max-width: 0;overflow: hidden;text-align: left;background-color: #f0f8ff;}#sk-container-id-4 div.sk-toggleable__content pre {margin: 0.2em;color: black;border-radius: 0.25em;background-color: #f0f8ff;}#sk-container-id-4 input.sk-toggleable__control:checked~div.sk-toggleable__content {max-height: 200px;max-width: 100%;overflow: auto;}#sk-container-id-4 input.sk-toggleable__control:checked~label.sk-toggleable__label-arrow:before {content: \"▾\";}#sk-container-id-4 div.sk-estimator input.sk-toggleable__control:checked~label.sk-toggleable__label {background-color: #d4ebff;}#sk-container-id-4 div.sk-label input.sk-toggleable__control:checked~label.sk-toggleable__label {background-color: #d4ebff;}#sk-container-id-4 input.sk-hidden--visually {border: 0;clip: rect(1px 1px 1px 1px);clip: rect(1px, 1px, 1px, 1px);height: 1px;margin: -1px;overflow: hidden;padding: 0;position: absolute;width: 1px;}#sk-container-id-4 div.sk-estimator {font-family: monospace;background-color: #f0f8ff;border: 1px dotted black;border-radius: 0.25em;box-sizing: border-box;margin-bottom: 0.5em;}#sk-container-id-4 div.sk-estimator:hover {background-color: #d4ebff;}#sk-container-id-4 div.sk-parallel-item::after {content: \"\";width: 100%;border-bottom: 1px solid gray;flex-grow: 1;}#sk-container-id-4 div.sk-label:hover label.sk-toggleable__label {background-color: #d4ebff;}#sk-container-id-4 div.sk-serial::before {content: \"\";position: absolute;border-left: 1px solid gray;box-sizing: border-box;top: 0;bottom: 0;left: 50%;z-index: 0;}#sk-container-id-4 div.sk-serial {display: flex;flex-direction: column;align-items: center;background-color: white;padding-right: 0.2em;padding-left: 0.2em;position: relative;}#sk-container-id-4 div.sk-item {position: relative;z-index: 1;}#sk-container-id-4 div.sk-parallel {display: flex;align-items: stretch;justify-content: center;background-color: white;position: relative;}#sk-container-id-4 div.sk-item::before, #sk-container-id-4 div.sk-parallel-item::before {content: \"\";position: absolute;border-left: 1px solid gray;box-sizing: border-box;top: 0;bottom: 0;left: 50%;z-index: -1;}#sk-container-id-4 div.sk-parallel-item {display: flex;flex-direction: column;z-index: 1;position: relative;background-color: white;}#sk-container-id-4 div.sk-parallel-item:first-child::after {align-self: flex-end;width: 50%;}#sk-container-id-4 div.sk-parallel-item:last-child::after {align-self: flex-start;width: 50%;}#sk-container-id-4 div.sk-parallel-item:only-child::after {width: 0;}#sk-container-id-4 div.sk-dashed-wrapped {border: 1px dashed gray;margin: 0 0.4em 0.5em 0.4em;box-sizing: border-box;padding-bottom: 0.4em;background-color: white;}#sk-container-id-4 div.sk-label label {font-family: monospace;font-weight: bold;display: inline-block;line-height: 1.2em;}#sk-container-id-4 div.sk-label-container {text-align: center;}#sk-container-id-4 div.sk-container {/* jupyter's `normalize.less` sets `[hidden] { display: none; }` but bootstrap.min.css set `[hidden] { display: none !important; }` so we also need the `!important` here to be able to override the default hidden behavior on the sphinx rendered scikit-learn.org. See: https://github.com/scikit-learn/scikit-learn/issues/21755 */display: inline-block !important;position: relative;}#sk-container-id-4 div.sk-text-repr-fallback {display: none;}</style><div id=\"sk-container-id-4\" class=\"sk-top-container\"><div class=\"sk-text-repr-fallback\"><pre>LinearRegression()</pre><b>In a Jupyter environment, please rerun this cell to show the HTML representation or trust the notebook. <br />On GitHub, the HTML representation is unable to render, please try loading this page with nbviewer.org.</b></div><div class=\"sk-container\" hidden><div class=\"sk-item\"><div class=\"sk-estimator sk-toggleable\"><input class=\"sk-toggleable__control sk-hidden--visually\" id=\"sk-estimator-id-4\" type=\"checkbox\" checked><label for=\"sk-estimator-id-4\" class=\"sk-toggleable__label sk-toggleable__label-arrow\">LinearRegression</label><div class=\"sk-toggleable__content\"><pre>LinearRegression()</pre></div></div></div></div></div>"
      ],
      "text/plain": [
       "LinearRegression()"
      ]
     },
     "execution_count": 46,
     "metadata": {},
     "output_type": "execute_result"
    }
   ],
   "source": [
    "# LinearRegression 모델을 통한 회귀 예측\n",
    "l_r = LinearRegression()\n",
    "l_r.fit(X_train, y_train)"
   ]
  },
  {
   "cell_type": "code",
   "execution_count": 47,
   "id": "5189f034-8dad-407f-a610-8f1ffa380e12",
   "metadata": {},
   "outputs": [
    {
     "name": "stdout",
     "output_type": "stream",
     "text": [
      "MSE: 0.6800, RMSE: 0.8246, MSLE: 0.0480, RMSLE: 0.2192, R2: -0.0057\n"
     ]
    }
   ],
   "source": [
    "l_r_prediction = l_r.predict(X_test)\n",
    "get_evaluation(y_test, l_r_prediction)"
   ]
  },
  {
   "cell_type": "markdown",
   "id": "e4c0e353-97a1-4e0a-ac88-62492642831a",
   "metadata": {},
   "source": [
    "- 테스트 데이터의 비중을 0.3에서 0.4로 증가시켰을 때, R2 점수가 0.0012에서 -0.0057로 오히려 감소하였습니다.\n",
    "- 0.5로 증가시켜 한번 더 확인합니다."
   ]
  },
  {
   "cell_type": "code",
   "execution_count": 48,
   "id": "8528f897-1672-4325-927a-ed834e9c3a61",
   "metadata": {},
   "outputs": [],
   "source": [
    "features, targets = pre_c_df.iloc[:, :-1], pre_c_df.iloc[:, -1]"
   ]
  },
  {
   "cell_type": "code",
   "execution_count": 49,
   "id": "a722c346-496c-4005-ae26-be7bfb7f3e89",
   "metadata": {},
   "outputs": [
    {
     "name": "stdout",
     "output_type": "stream",
     "text": [
      "                                 OLS Regression Results                                \n",
      "=======================================================================================\n",
      "Dep. Variable:                 target   R-squared (uncentered):                   0.889\n",
      "Model:                            OLS   Adj. R-squared (uncentered):              0.888\n",
      "Method:                 Least Squares   F-statistic:                              1558.\n",
      "Date:                Sat, 27 Apr 2024   Prob (F-statistic):                        0.00\n",
      "Time:                        15:33:14   Log-Likelihood:                         -1633.1\n",
      "No. Observations:                 982   AIC:                                      3276.\n",
      "Df Residuals:                     977   BIC:                                      3301.\n",
      "Df Model:                           5                                                  \n",
      "Covariance Type:            nonrobust                                                  \n",
      "=====================================================================================\n",
      "                        coef    std err          t      P>|t|      [0.025      0.975]\n",
      "-------------------------------------------------------------------------------------\n",
      "Age                   0.0132      0.001      9.809      0.000       0.011       0.016\n",
      "Annual Income ($)  1.397e-05   7.24e-07     19.304      0.000    1.25e-05    1.54e-05\n",
      "Work Experience       0.0567      0.010      5.732      0.000       0.037       0.076\n",
      "Family Size           0.2263      0.019     12.122      0.000       0.190       0.263\n",
      "Gender                0.4472      0.081      5.546      0.000       0.289       0.605\n",
      "==============================================================================\n",
      "Omnibus:                       19.175   Durbin-Watson:                   1.942\n",
      "Prob(Omnibus):                  0.000   Jarque-Bera (JB):               19.906\n",
      "Skew:                          -0.324   Prob(JB):                     4.76e-05\n",
      "Kurtosis:                       3.257   Cond. No.                     2.36e+05\n",
      "==============================================================================\n",
      "\n",
      "Notes:\n",
      "[1] R² is computed without centering (uncentered) since the model does not contain a constant.\n",
      "[2] Standard Errors assume that the covariance matrix of the errors is correctly specified.\n",
      "[3] The condition number is large, 2.36e+05. This might indicate that there are\n",
      "strong multicollinearity or other numerical problems.\n"
     ]
    }
   ],
   "source": [
    "from sklearn.model_selection import train_test_split\n",
    "from sklearn.linear_model import LinearRegression\n",
    "\n",
    "X_train, X_test, y_train, y_test = train_test_split(features, targets, test_size=0.5, random_state=124)\n",
    "\n",
    "model = OLS(y_train, X_train)\n",
    "print(model.fit().summary())"
   ]
  },
  {
   "cell_type": "code",
   "execution_count": 50,
   "id": "4a2d1dfb-8bf2-45f7-9af0-22d55b04c5dc",
   "metadata": {},
   "outputs": [
    {
     "name": "stdout",
     "output_type": "stream",
     "text": [
      "MSE: 1.6946, RMSE: 1.3018, MSLE: 0.1052, RMSLE: 0.3243, R2: -1.5467\n"
     ]
    }
   ],
   "source": [
    "# OLS 모델을 통한 회귀 예측\n",
    "prediction = model.fit().predict(X_test)\n",
    "\n",
    "get_evaluation(y_test, prediction)"
   ]
  },
  {
   "cell_type": "code",
   "execution_count": 51,
   "id": "657221b1-05f0-42fa-b0e5-f74d7c429b73",
   "metadata": {},
   "outputs": [
    {
     "data": {
      "text/html": [
       "<style>#sk-container-id-5 {color: black;background-color: white;}#sk-container-id-5 pre{padding: 0;}#sk-container-id-5 div.sk-toggleable {background-color: white;}#sk-container-id-5 label.sk-toggleable__label {cursor: pointer;display: block;width: 100%;margin-bottom: 0;padding: 0.3em;box-sizing: border-box;text-align: center;}#sk-container-id-5 label.sk-toggleable__label-arrow:before {content: \"▸\";float: left;margin-right: 0.25em;color: #696969;}#sk-container-id-5 label.sk-toggleable__label-arrow:hover:before {color: black;}#sk-container-id-5 div.sk-estimator:hover label.sk-toggleable__label-arrow:before {color: black;}#sk-container-id-5 div.sk-toggleable__content {max-height: 0;max-width: 0;overflow: hidden;text-align: left;background-color: #f0f8ff;}#sk-container-id-5 div.sk-toggleable__content pre {margin: 0.2em;color: black;border-radius: 0.25em;background-color: #f0f8ff;}#sk-container-id-5 input.sk-toggleable__control:checked~div.sk-toggleable__content {max-height: 200px;max-width: 100%;overflow: auto;}#sk-container-id-5 input.sk-toggleable__control:checked~label.sk-toggleable__label-arrow:before {content: \"▾\";}#sk-container-id-5 div.sk-estimator input.sk-toggleable__control:checked~label.sk-toggleable__label {background-color: #d4ebff;}#sk-container-id-5 div.sk-label input.sk-toggleable__control:checked~label.sk-toggleable__label {background-color: #d4ebff;}#sk-container-id-5 input.sk-hidden--visually {border: 0;clip: rect(1px 1px 1px 1px);clip: rect(1px, 1px, 1px, 1px);height: 1px;margin: -1px;overflow: hidden;padding: 0;position: absolute;width: 1px;}#sk-container-id-5 div.sk-estimator {font-family: monospace;background-color: #f0f8ff;border: 1px dotted black;border-radius: 0.25em;box-sizing: border-box;margin-bottom: 0.5em;}#sk-container-id-5 div.sk-estimator:hover {background-color: #d4ebff;}#sk-container-id-5 div.sk-parallel-item::after {content: \"\";width: 100%;border-bottom: 1px solid gray;flex-grow: 1;}#sk-container-id-5 div.sk-label:hover label.sk-toggleable__label {background-color: #d4ebff;}#sk-container-id-5 div.sk-serial::before {content: \"\";position: absolute;border-left: 1px solid gray;box-sizing: border-box;top: 0;bottom: 0;left: 50%;z-index: 0;}#sk-container-id-5 div.sk-serial {display: flex;flex-direction: column;align-items: center;background-color: white;padding-right: 0.2em;padding-left: 0.2em;position: relative;}#sk-container-id-5 div.sk-item {position: relative;z-index: 1;}#sk-container-id-5 div.sk-parallel {display: flex;align-items: stretch;justify-content: center;background-color: white;position: relative;}#sk-container-id-5 div.sk-item::before, #sk-container-id-5 div.sk-parallel-item::before {content: \"\";position: absolute;border-left: 1px solid gray;box-sizing: border-box;top: 0;bottom: 0;left: 50%;z-index: -1;}#sk-container-id-5 div.sk-parallel-item {display: flex;flex-direction: column;z-index: 1;position: relative;background-color: white;}#sk-container-id-5 div.sk-parallel-item:first-child::after {align-self: flex-end;width: 50%;}#sk-container-id-5 div.sk-parallel-item:last-child::after {align-self: flex-start;width: 50%;}#sk-container-id-5 div.sk-parallel-item:only-child::after {width: 0;}#sk-container-id-5 div.sk-dashed-wrapped {border: 1px dashed gray;margin: 0 0.4em 0.5em 0.4em;box-sizing: border-box;padding-bottom: 0.4em;background-color: white;}#sk-container-id-5 div.sk-label label {font-family: monospace;font-weight: bold;display: inline-block;line-height: 1.2em;}#sk-container-id-5 div.sk-label-container {text-align: center;}#sk-container-id-5 div.sk-container {/* jupyter's `normalize.less` sets `[hidden] { display: none; }` but bootstrap.min.css set `[hidden] { display: none !important; }` so we also need the `!important` here to be able to override the default hidden behavior on the sphinx rendered scikit-learn.org. See: https://github.com/scikit-learn/scikit-learn/issues/21755 */display: inline-block !important;position: relative;}#sk-container-id-5 div.sk-text-repr-fallback {display: none;}</style><div id=\"sk-container-id-5\" class=\"sk-top-container\"><div class=\"sk-text-repr-fallback\"><pre>LinearRegression()</pre><b>In a Jupyter environment, please rerun this cell to show the HTML representation or trust the notebook. <br />On GitHub, the HTML representation is unable to render, please try loading this page with nbviewer.org.</b></div><div class=\"sk-container\" hidden><div class=\"sk-item\"><div class=\"sk-estimator sk-toggleable\"><input class=\"sk-toggleable__control sk-hidden--visually\" id=\"sk-estimator-id-5\" type=\"checkbox\" checked><label for=\"sk-estimator-id-5\" class=\"sk-toggleable__label sk-toggleable__label-arrow\">LinearRegression</label><div class=\"sk-toggleable__content\"><pre>LinearRegression()</pre></div></div></div></div></div>"
      ],
      "text/plain": [
       "LinearRegression()"
      ]
     },
     "execution_count": 51,
     "metadata": {},
     "output_type": "execute_result"
    }
   ],
   "source": [
    "# LinearRegression 모델을 통한 회귀 예측\n",
    "l_r = LinearRegression()\n",
    "l_r.fit(X_train, y_train)"
   ]
  },
  {
   "cell_type": "code",
   "execution_count": 52,
   "id": "b7883020-b20f-42f1-9c3b-4318f7204c37",
   "metadata": {},
   "outputs": [
    {
     "name": "stdout",
     "output_type": "stream",
     "text": [
      "MSE: 0.6678, RMSE: 0.8172, MSLE: 0.0462, RMSLE: 0.2149, R2: -0.0036\n"
     ]
    }
   ],
   "source": [
    "l_r_prediction = l_r.predict(X_test)\n",
    "get_evaluation(y_test, l_r_prediction)"
   ]
  },
  {
   "cell_type": "markdown",
   "id": "ff775065-b037-49a7-8e90-919a6481057e",
   "metadata": {},
   "source": [
    "- 여전히 R2가 음수이므로, 테스트 데이터의 비중은 0.3이 가장 적당해 보입니다.\n",
    "- 이제 VIF를 확인해봅니다."
   ]
  },
  {
   "cell_type": "code",
   "execution_count": 53,
   "id": "52d1bda0-3a2b-41b6-9146-379cd87b9238",
   "metadata": {},
   "outputs": [],
   "source": [
    "features, targets = pre_c_df.iloc[:, :-1], pre_c_df.iloc[:, -1]"
   ]
  },
  {
   "cell_type": "code",
   "execution_count": 54,
   "id": "36f5900b-bd89-46f7-8f07-672a349261eb",
   "metadata": {},
   "outputs": [
    {
     "name": "stdout",
     "output_type": "stream",
     "text": [
      "                                 OLS Regression Results                                \n",
      "=======================================================================================\n",
      "Dep. Variable:                 target   R-squared (uncentered):                   0.885\n",
      "Model:                            OLS   Adj. R-squared (uncentered):              0.885\n",
      "Method:                 Least Squares   F-statistic:                              2109.\n",
      "Date:                Sat, 27 Apr 2024   Prob (F-statistic):                        0.00\n",
      "Time:                        15:34:50   Log-Likelihood:                         -2303.0\n",
      "No. Observations:                1375   AIC:                                      4616.\n",
      "Df Residuals:                    1370   BIC:                                      4642.\n",
      "Df Model:                           5                                                  \n",
      "Covariance Type:            nonrobust                                                  \n",
      "=====================================================================================\n",
      "                        coef    std err          t      P>|t|      [0.025      0.975]\n",
      "-------------------------------------------------------------------------------------\n",
      "Age                   0.0144      0.001     12.827      0.000       0.012       0.017\n",
      "Annual Income ($)  1.315e-05   6.21e-07     21.181      0.000    1.19e-05    1.44e-05\n",
      "Work Experience       0.0568      0.009      6.589      0.000       0.040       0.074\n",
      "Family Size           0.2283      0.016     14.351      0.000       0.197       0.260\n",
      "Gender                0.5164      0.068      7.540      0.000       0.382       0.651\n",
      "==============================================================================\n",
      "Omnibus:                       25.288   Durbin-Watson:                   1.904\n",
      "Prob(Omnibus):                  0.000   Jarque-Bera (JB):               26.205\n",
      "Skew:                          -0.328   Prob(JB):                     2.04e-06\n",
      "Kurtosis:                       3.167   Cond. No.                     2.34e+05\n",
      "==============================================================================\n",
      "\n",
      "Notes:\n",
      "[1] R² is computed without centering (uncentered) since the model does not contain a constant.\n",
      "[2] Standard Errors assume that the covariance matrix of the errors is correctly specified.\n",
      "[3] The condition number is large, 2.34e+05. This might indicate that there are\n",
      "strong multicollinearity or other numerical problems.\n"
     ]
    }
   ],
   "source": [
    "from sklearn.model_selection import train_test_split\n",
    "from sklearn.linear_model import LinearRegression\n",
    "\n",
    "X_train, X_test, y_train, y_test = train_test_split(features, targets, test_size=0.3, random_state=124)\n",
    "\n",
    "model = OLS(y_train, X_train)\n",
    "print(model.fit().summary())"
   ]
  },
  {
   "cell_type": "code",
   "execution_count": 55,
   "id": "bc4b0e87-3a89-4371-a3cb-655ae2cc50f7",
   "metadata": {},
   "outputs": [
    {
     "data": {
      "text/html": [
       "<style>#sk-container-id-6 {color: black;background-color: white;}#sk-container-id-6 pre{padding: 0;}#sk-container-id-6 div.sk-toggleable {background-color: white;}#sk-container-id-6 label.sk-toggleable__label {cursor: pointer;display: block;width: 100%;margin-bottom: 0;padding: 0.3em;box-sizing: border-box;text-align: center;}#sk-container-id-6 label.sk-toggleable__label-arrow:before {content: \"▸\";float: left;margin-right: 0.25em;color: #696969;}#sk-container-id-6 label.sk-toggleable__label-arrow:hover:before {color: black;}#sk-container-id-6 div.sk-estimator:hover label.sk-toggleable__label-arrow:before {color: black;}#sk-container-id-6 div.sk-toggleable__content {max-height: 0;max-width: 0;overflow: hidden;text-align: left;background-color: #f0f8ff;}#sk-container-id-6 div.sk-toggleable__content pre {margin: 0.2em;color: black;border-radius: 0.25em;background-color: #f0f8ff;}#sk-container-id-6 input.sk-toggleable__control:checked~div.sk-toggleable__content {max-height: 200px;max-width: 100%;overflow: auto;}#sk-container-id-6 input.sk-toggleable__control:checked~label.sk-toggleable__label-arrow:before {content: \"▾\";}#sk-container-id-6 div.sk-estimator input.sk-toggleable__control:checked~label.sk-toggleable__label {background-color: #d4ebff;}#sk-container-id-6 div.sk-label input.sk-toggleable__control:checked~label.sk-toggleable__label {background-color: #d4ebff;}#sk-container-id-6 input.sk-hidden--visually {border: 0;clip: rect(1px 1px 1px 1px);clip: rect(1px, 1px, 1px, 1px);height: 1px;margin: -1px;overflow: hidden;padding: 0;position: absolute;width: 1px;}#sk-container-id-6 div.sk-estimator {font-family: monospace;background-color: #f0f8ff;border: 1px dotted black;border-radius: 0.25em;box-sizing: border-box;margin-bottom: 0.5em;}#sk-container-id-6 div.sk-estimator:hover {background-color: #d4ebff;}#sk-container-id-6 div.sk-parallel-item::after {content: \"\";width: 100%;border-bottom: 1px solid gray;flex-grow: 1;}#sk-container-id-6 div.sk-label:hover label.sk-toggleable__label {background-color: #d4ebff;}#sk-container-id-6 div.sk-serial::before {content: \"\";position: absolute;border-left: 1px solid gray;box-sizing: border-box;top: 0;bottom: 0;left: 50%;z-index: 0;}#sk-container-id-6 div.sk-serial {display: flex;flex-direction: column;align-items: center;background-color: white;padding-right: 0.2em;padding-left: 0.2em;position: relative;}#sk-container-id-6 div.sk-item {position: relative;z-index: 1;}#sk-container-id-6 div.sk-parallel {display: flex;align-items: stretch;justify-content: center;background-color: white;position: relative;}#sk-container-id-6 div.sk-item::before, #sk-container-id-6 div.sk-parallel-item::before {content: \"\";position: absolute;border-left: 1px solid gray;box-sizing: border-box;top: 0;bottom: 0;left: 50%;z-index: -1;}#sk-container-id-6 div.sk-parallel-item {display: flex;flex-direction: column;z-index: 1;position: relative;background-color: white;}#sk-container-id-6 div.sk-parallel-item:first-child::after {align-self: flex-end;width: 50%;}#sk-container-id-6 div.sk-parallel-item:last-child::after {align-self: flex-start;width: 50%;}#sk-container-id-6 div.sk-parallel-item:only-child::after {width: 0;}#sk-container-id-6 div.sk-dashed-wrapped {border: 1px dashed gray;margin: 0 0.4em 0.5em 0.4em;box-sizing: border-box;padding-bottom: 0.4em;background-color: white;}#sk-container-id-6 div.sk-label label {font-family: monospace;font-weight: bold;display: inline-block;line-height: 1.2em;}#sk-container-id-6 div.sk-label-container {text-align: center;}#sk-container-id-6 div.sk-container {/* jupyter's `normalize.less` sets `[hidden] { display: none; }` but bootstrap.min.css set `[hidden] { display: none !important; }` so we also need the `!important` here to be able to override the default hidden behavior on the sphinx rendered scikit-learn.org. See: https://github.com/scikit-learn/scikit-learn/issues/21755 */display: inline-block !important;position: relative;}#sk-container-id-6 div.sk-text-repr-fallback {display: none;}</style><div id=\"sk-container-id-6\" class=\"sk-top-container\"><div class=\"sk-text-repr-fallback\"><pre>LinearRegression()</pre><b>In a Jupyter environment, please rerun this cell to show the HTML representation or trust the notebook. <br />On GitHub, the HTML representation is unable to render, please try loading this page with nbviewer.org.</b></div><div class=\"sk-container\" hidden><div class=\"sk-item\"><div class=\"sk-estimator sk-toggleable\"><input class=\"sk-toggleable__control sk-hidden--visually\" id=\"sk-estimator-id-6\" type=\"checkbox\" checked><label for=\"sk-estimator-id-6\" class=\"sk-toggleable__label sk-toggleable__label-arrow\">LinearRegression</label><div class=\"sk-toggleable__content\"><pre>LinearRegression()</pre></div></div></div></div></div>"
      ],
      "text/plain": [
       "LinearRegression()"
      ]
     },
     "execution_count": 55,
     "metadata": {},
     "output_type": "execute_result"
    }
   ],
   "source": [
    "# LinearRegression 모델을 통한 회귀 예측\n",
    "l_r = LinearRegression()\n",
    "l_r.fit(X_train, y_train)"
   ]
  },
  {
   "cell_type": "code",
   "execution_count": 56,
   "id": "2ed057bc-a0e1-40fc-b97f-aee3ffe49536",
   "metadata": {},
   "outputs": [
    {
     "name": "stdout",
     "output_type": "stream",
     "text": [
      "MSE: 0.6218, RMSE: 0.7886, MSLE: 0.0437, RMSLE: 0.2091, R2: 0.0012\n"
     ]
    }
   ],
   "source": [
    "l_r_prediction = l_r.predict(X_test)\n",
    "get_evaluation(y_test, l_r_prediction)"
   ]
  },
  {
   "cell_type": "code",
   "execution_count": 57,
   "id": "1bb6750c-4169-461e-a54e-35483400f0c1",
   "metadata": {},
   "outputs": [
    {
     "data": {
      "text/html": [
       "<div>\n",
       "<style scoped>\n",
       "    .dataframe tbody tr th:only-of-type {\n",
       "        vertical-align: middle;\n",
       "    }\n",
       "\n",
       "    .dataframe tbody tr th {\n",
       "        vertical-align: top;\n",
       "    }\n",
       "\n",
       "    .dataframe thead th {\n",
       "        text-align: right;\n",
       "    }\n",
       "</style>\n",
       "<table border=\"1\" class=\"dataframe\">\n",
       "  <thead>\n",
       "    <tr style=\"text-align: right;\">\n",
       "      <th></th>\n",
       "      <th>vif_score</th>\n",
       "      <th>feature</th>\n",
       "    </tr>\n",
       "  </thead>\n",
       "  <tbody>\n",
       "    <tr>\n",
       "      <th>0</th>\n",
       "      <td>3.197363</td>\n",
       "      <td>Age</td>\n",
       "    </tr>\n",
       "    <tr>\n",
       "      <th>1</th>\n",
       "      <td>4.640534</td>\n",
       "      <td>Annual Income ($)</td>\n",
       "    </tr>\n",
       "    <tr>\n",
       "      <th>2</th>\n",
       "      <td>1.994714</td>\n",
       "      <td>Work Experience</td>\n",
       "    </tr>\n",
       "    <tr>\n",
       "      <th>3</th>\n",
       "      <td>3.776669</td>\n",
       "      <td>Family Size</td>\n",
       "    </tr>\n",
       "    <tr>\n",
       "      <th>4</th>\n",
       "      <td>1.605566</td>\n",
       "      <td>Gender</td>\n",
       "    </tr>\n",
       "  </tbody>\n",
       "</table>\n",
       "</div>"
      ],
      "text/plain": [
       "   vif_score            feature\n",
       "0   3.197363                Age\n",
       "1   4.640534  Annual Income ($)\n",
       "2   1.994714    Work Experience\n",
       "3   3.776669        Family Size\n",
       "4   1.605566             Gender"
      ]
     },
     "execution_count": 57,
     "metadata": {},
     "output_type": "execute_result"
    }
   ],
   "source": [
    "get_vif(features)"
   ]
  },
  {
   "cell_type": "markdown",
   "id": "d1d58fbd-bfb7-4ac9-affe-5b211e9256b8",
   "metadata": {},
   "source": [
    "- VIF 수치가 모두 5 미만으로, 독립변수들 간의 상관관계가 적음을 알 수 있습니다."
   ]
  },
  {
   "cell_type": "markdown",
   "id": "9782e2d2-32bf-4a2a-90c7-3ae353f8b246",
   "metadata": {},
   "source": [
    "#### 이번에는 scikit-learn이 아닌, pytorch를 통해 직접 클래스를 재정의하여 회귀 예측을 수행해봅니다."
   ]
  },
  {
   "cell_type": "code",
   "execution_count": 58,
   "id": "7a907ebd-e418-42b7-951a-989c6656fc0b",
   "metadata": {},
   "outputs": [],
   "source": [
    "import torch\n",
    "from torch.nn import Linear, Module\n",
    "\n",
    "class LinearRegressionModel(Module):\n",
    "    def __init__(self, input_dim):\n",
    "        super().__init__()\n",
    "        self.linear = Linear(input_dim, 1)\n",
    "\n",
    "    def forward(self, x):\n",
    "        return self.linear(x)"
   ]
  },
  {
   "cell_type": "code",
   "execution_count": 75,
   "id": "429f1acb-3947-4c32-a49c-6fcc86416f54",
   "metadata": {},
   "outputs": [
    {
     "name": "stdout",
     "output_type": "stream",
     "text": [
      "150000/3000000: \n",
      "W1: -0.3018, W2: 0.0001, W3: 0.3047, W4: -0.0229, W5: 0.0110, b: -0.3371, loss: 119.1023\n",
      "300000/3000000: \n",
      "W1: -0.2929, W2: 0.0001, W3: 0.3047, W4: -0.0226, W5: 0.0110, b: -0.3371, loss: 112.7202\n",
      "450000/3000000: \n",
      "W1: -0.2839, W2: 0.0001, W3: 0.3047, W4: -0.0223, W5: 0.0110, b: -0.3371, loss: 106.5187\n",
      "600000/3000000: \n",
      "W1: -0.2750, W2: 0.0001, W3: 0.3047, W4: -0.0220, W5: 0.0110, b: -0.3371, loss: 100.4978\n",
      "750000/3000000: \n",
      "W1: -0.2661, W2: 0.0001, W3: 0.3047, W4: -0.0217, W5: 0.0110, b: -0.3371, loss: 94.6575\n",
      "900000/3000000: \n",
      "W1: -0.2607, W2: 0.0001, W3: 0.3047, W4: -0.0215, W5: 0.0110, b: -0.3371, loss: 91.2486\n",
      "1050000/3000000: \n",
      "W1: -0.2562, W2: 0.0001, W3: 0.3047, W4: -0.0212, W5: 0.0110, b: -0.3371, loss: 88.4478\n",
      "1200000/3000000: \n",
      "W1: -0.2518, W2: 0.0001, W3: 0.3047, W4: -0.0209, W5: 0.0110, b: -0.3371, loss: 85.6922\n",
      "1350000/3000000: \n",
      "W1: -0.2459, W2: 0.0001, W3: 0.3047, W4: -0.0206, W5: 0.0110, b: -0.3371, loss: 82.1734\n",
      "1500000/3000000: \n",
      "W1: -0.2392, W2: 0.0001, W3: 0.3047, W4: -0.0203, W5: 0.0110, b: -0.3371, loss: 78.2153\n",
      "1650000/3000000: \n",
      "W1: -0.2325, W2: 0.0001, W3: 0.3047, W4: -0.0201, W5: 0.0110, b: -0.3371, loss: 74.3589\n",
      "1800000/3000000: \n",
      "W1: -0.2258, W2: 0.0001, W3: 0.3047, W4: -0.0198, W5: 0.0110, b: -0.3371, loss: 70.6041\n",
      "1950000/3000000: \n",
      "W1: -0.2191, W2: 0.0001, W3: 0.3047, W4: -0.0195, W5: 0.0110, b: -0.3371, loss: 66.9510\n",
      "2100000/3000000: \n",
      "W1: -0.2140, W2: 0.0001, W3: 0.3047, W4: -0.0192, W5: 0.0110, b: -0.3371, loss: 64.2282\n",
      "2250000/3000000: \n",
      "W1: -0.2095, W2: 0.0001, W3: 0.3047, W4: -0.0190, W5: 0.0110, b: -0.3371, loss: 61.8997\n",
      "2400000/3000000: \n",
      "W1: -0.2051, W2: 0.0001, W3: 0.3047, W4: -0.0187, W5: 0.0110, b: -0.3371, loss: 59.6163\n",
      "2550000/3000000: \n",
      "W1: -0.2006, W2: 0.0001, W3: 0.3047, W4: -0.0184, W5: 0.0110, b: -0.3371, loss: 57.3782\n",
      "2700000/3000000: \n",
      "W1: -0.1961, W2: 0.0001, W3: 0.3047, W4: -0.0181, W5: 0.0110, b: -0.3371, loss: 55.1853\n",
      "2850000/3000000: \n",
      "W1: -0.1917, W2: 0.0001, W3: 0.3047, W4: -0.0178, W5: 0.0110, b: -0.3371, loss: 53.0376\n",
      "3000000/3000000: \n",
      "W1: -0.1872, W2: 0.0001, W3: 0.3047, W4: -0.0176, W5: 0.0110, b: -0.3371, loss: 50.9353\n"
     ]
    }
   ],
   "source": [
    "import numpy as np\n",
    "import torch\n",
    "from torch.optim import SGD\n",
    "from torch.nn.functional import mse_loss\n",
    "from sklearn.model_selection import train_test_split\n",
    "\n",
    "torch.manual_seed(124)\n",
    "\n",
    "features, targets = pre_c_df.iloc[:, :-1], pre_c_df.iloc[:, -1]\n",
    "\n",
    "X_train, X_test, y_train, y_test = \\\n",
    "train_test_split(features, targets, test_size=0.3, random_state=124)\n",
    "\n",
    "X_train = torch.FloatTensor(X_train.values)\n",
    "y_train = torch.FloatTensor(y_train.values).view(-1, 1)\n",
    "\n",
    "X_test = torch.FloatTensor(X_test.values)\n",
    "y_test = torch.FloatTensor(y_test.values).view(-1, 1)\n",
    "\n",
    "l_r = LinearRegressionModel(5)\n",
    "\n",
    "optimizer = SGD(l_r.parameters(), lr=7e-11)\n",
    "\n",
    "epochs = 3000000\n",
    "\n",
    "for epoch in range(1, epochs + 1):\n",
    "    H = l_r(X_train)\n",
    "    loss = mse_loss(y_train, H)\n",
    "\n",
    "    optimizer.zero_grad()\n",
    "    loss.backward()\n",
    "    optimizer.step()\n",
    "\n",
    "    if epoch % 150000 == 0:\n",
    "        print('{:4d}/{}: '\\\n",
    "              .format(epoch, epochs, end=''))\n",
    "        for i, w in enumerate(list(l_r.parameters())[0][0]):\n",
    "            print('W{}: {:.4f}, '\\\n",
    "                  .format(i + 1, w.item()), end='')\n",
    "        print('b: {:.4f}, loss: {:.4f}'.format(list(l_r.parameters())[1].item(), loss.item()))"
   ]
  },
  {
   "cell_type": "code",
   "execution_count": 76,
   "id": "c5fc645f-e3b9-4d76-96eb-207dc8c6c165",
   "metadata": {},
   "outputs": [
    {
     "name": "stdout",
     "output_type": "stream",
     "text": [
      "MSE Loss: 52.1296, RMSE Loss: 7.2201\n"
     ]
    }
   ],
   "source": [
    "import numpy as np\n",
    "\n",
    "H = l_r(X_test)\n",
    "loss = mse_loss(y_test, H)\n",
    "\n",
    "print(f'MSE Loss: {np.round(loss.item(), 4)}, RMSE Loss: {np.round(np.sqrt(loss.item()), 4)}')"
   ]
  }
 ],
 "metadata": {
  "kernelspec": {
   "display_name": "Python 3 (ipykernel)",
   "language": "python",
   "name": "python3"
  },
  "language_info": {
   "codemirror_mode": {
    "name": "ipython",
    "version": 3
   },
   "file_extension": ".py",
   "mimetype": "text/x-python",
   "name": "python",
   "nbconvert_exporter": "python",
   "pygments_lexer": "ipython3",
   "version": "3.11.8"
  }
 },
 "nbformat": 4,
 "nbformat_minor": 5
}
