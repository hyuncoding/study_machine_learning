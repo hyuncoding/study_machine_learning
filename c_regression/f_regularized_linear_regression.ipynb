{
 "cells": [
  {
   "cell_type": "markdown",
   "id": "eda8eed1-8462-4d04-b850-a8ec34281234",
   "metadata": {},
   "source": [
    "### Regularized Linear Regression (정규화된 선형 회귀)\n",
    "\n",
    "- 다중 회귀 모델은 복잡도가 높아서 과대적합(overfitting)되는 경향이 있다.\n",
    "- 이를 해결하기 위해서는 규제(penalty)를 주어 복잡도를 감소시켜야 한다.\n",
    "\n",
    "#### 라쏘(LASSO, Least Absolute Shrinkage and Selection Operator)\n",
    "- L1 규제를 통한 정규화를 사용하는 방식이다.\n",
    "- 규제항이 0에 수렴할 때 L1 정규화에서는 가중치(W)가 0이 될 수 있다.\n",
    "- L1 NORM의 경우에 절댓값에 대한 식이므로 미분이 불가능한 점이 있지만, 특정 방식을 통해 미분하면 가중치가 0이 된다.\n",
    "- 따라서 경사하강법을 통해 학습하는 모델에는 적합하지 않다.\n",
    "- 중요하지 않은 feature들은 모델에서 제외하여 모델을 단순하게 만들고, 가장 영향력이 큰 특성이 무엇인지 알 수 있기 때문에 모델의 해석력이 좋아진다.\n",
    "\n",
    "<div style=\"display: flex; margin-top:20px\">\n",
    "    <div>\n",
    "        <img src=\"./images/regularized01.png\" width=\"350\" style=\"margin-left: 30px\">\n",
    "    </div>\n",
    "    <div>\n",
    "        <img src=\"./images/regularized02.png\" style=\"margin-left: 50px\">\n",
    "    </div>\n",
    "</div>\n",
    "\n",
    "#### 릿지(Ridge)\n",
    "- L2 규제를 통한 정규화를 사용하는 방식이다.\n",
    "- 규제항이 0에 수렴할 때 L2 정규화의 경우 가중치는 0이 될 수 없다.\n",
    "- L2 NORM의 경우 미분했을 때 가중치가 남아있기 때문에, 경사하강법을 통해 학습하는 모델에 적합하다.\n",
    "- 값이 0이 되어 제외되는 feature가 없지만, 골고루 0에 가까운 값으로 작아지기 때문에 장기적으로 더 좋은 모델이 된다.\n",
    "\n",
    "<div style=\"display: flex; margin-top:20px\">\n",
    "    <div>\n",
    "        <img src=\"./images/regularized03.png\" width=\"350\" style=\"margin-left: 30px\">\n",
    "    </div>\n",
    "    <div>\n",
    "        <img src=\"./images/regularized04.png\" style=\"margin-left: 50px\">\n",
    "    </div>\n",
    "</div>\n",
    "\n",
    "**λ (Regulation parameter)**\n",
    "- λ이 커지면 loss function을 최소화하는 과정에서 NORM이 작아지므로 규제가 강해졌다고 표현한다.\n",
    "- λ이 작아지면 loss function을 최소화하는 과정에서 NORM이 커지므로 규제가 약해졌다고 표현한다.\n",
    "\n"
   ]
  },
  {
   "cell_type": "markdown",
   "id": "059b8f8a-6df7-4ecf-ad35-3e6c429ab2cc",
   "metadata": {},
   "source": [
    "##### 한국인 수익 예측\r\n",
    "- id : 식별 번호\r\n",
    "- year : 조사 년도\r\n",
    "- wave : 2005년 wave 1위부터 2018년 wave 14위까지\r\n",
    "- region: 1)서울 2)경기 3)경남 4)경북 5)충남 6)강원 & 충북 7)전라 & 제주\r\n",
    "- income: 연간 수입 M원(백만원.1100원=1USD)\r\n",
    "- family_member: 가족 구성원 수\r\n",
    "- gender: 1) 남성 2) 여성\r\n",
    "- year_born: 태어난 년도\r\n",
    "- education_level:1)무교육(7세 미만) 2)무교육(7세 이상) 3)초등학교 4)중학교 5)고등학교 6)대학 학위 8)MA 9)박사 학위\r\n",
    "- marriage: 혼인상태. 1)해당없음(18세 미만) 2)혼인중 3)사망으로 별거중 4)별거중 5)미혼 6)기타\r\n",
    "- religion: 1) 종교 있음 2) 종교 없음  \r\n",
    "- occupation: 직종 코드, 별도 첨부\r\n",
    "- company_size: 기업 규모\r\n",
    "- reason_none_worker: 1)능력 없음 2)군 복무 중 3)학교에서 공부 중 4)학교 준비 5)직장인 7)집에서 돌보는 아이들 8)간호 9)경제 활동 포기 10)일할 의사 없음 11)기타"
   ]
  },
  {
   "cell_type": "code",
   "execution_count": null,
   "id": "e59d0a2c-37e7-4ec4-a5dd-391f02c3db08",
   "metadata": {},
   "outputs": [],
   "source": []
  },
  {
   "cell_type": "code",
   "execution_count": null,
   "id": "a60436e2-42f4-44c9-91ae-3e91bbf0d4db",
   "metadata": {},
   "outputs": [],
   "source": []
  },
  {
   "cell_type": "code",
   "execution_count": null,
   "id": "9d42a46d-afe2-4cf5-9b5f-f8a67435d466",
   "metadata": {},
   "outputs": [],
   "source": []
  },
  {
   "cell_type": "code",
   "execution_count": null,
   "id": "9f44f6cb-e7b6-49ea-b2d7-e9733af87583",
   "metadata": {},
   "outputs": [],
   "source": []
  },
  {
   "cell_type": "code",
   "execution_count": null,
   "id": "98fb81a0-d5f7-425e-aa63-e589dc91c0ba",
   "metadata": {},
   "outputs": [],
   "source": []
  },
  {
   "cell_type": "code",
   "execution_count": null,
   "id": "9015e301-082e-49d0-9639-09e2d51ba1ba",
   "metadata": {},
   "outputs": [],
   "source": []
  },
  {
   "cell_type": "code",
   "execution_count": null,
   "id": "855cfba4-fa65-4011-8bdc-907e15768225",
   "metadata": {},
   "outputs": [],
   "source": []
  },
  {
   "cell_type": "code",
   "execution_count": null,
   "id": "119feafb-5774-46d8-85d5-81d688c3fb14",
   "metadata": {},
   "outputs": [],
   "source": []
  },
  {
   "cell_type": "code",
   "execution_count": null,
   "id": "2210f4ae-a3b5-4c21-acf2-9f4a55a62c17",
   "metadata": {},
   "outputs": [],
   "source": []
  },
  {
   "cell_type": "code",
   "execution_count": null,
   "id": "4cd8b55f-90d8-493a-86b8-66dd043d1fdd",
   "metadata": {},
   "outputs": [],
   "source": []
  },
  {
   "cell_type": "code",
   "execution_count": null,
   "id": "5ea9c8e3-9a9b-4f9f-a866-336656d8859c",
   "metadata": {},
   "outputs": [],
   "source": []
  },
  {
   "cell_type": "code",
   "execution_count": null,
   "id": "a53e8f89-b2fa-4a4e-834c-ba195a8943b3",
   "metadata": {},
   "outputs": [],
   "source": []
  },
  {
   "cell_type": "code",
   "execution_count": null,
   "id": "571650df-1f7b-4b68-9bdc-ce8eb52d4288",
   "metadata": {},
   "outputs": [],
   "source": []
  },
  {
   "cell_type": "code",
   "execution_count": null,
   "id": "e4a8346c-2bbb-49e7-8d9b-5ee6520e7bc3",
   "metadata": {},
   "outputs": [],
   "source": []
  },
  {
   "cell_type": "code",
   "execution_count": null,
   "id": "ec6b8055-581a-4cc3-8740-32da45bfa72f",
   "metadata": {},
   "outputs": [],
   "source": []
  },
  {
   "cell_type": "code",
   "execution_count": null,
   "id": "98985008-fe76-47ab-b8e1-7d3e5aa8bf84",
   "metadata": {},
   "outputs": [],
   "source": []
  },
  {
   "cell_type": "code",
   "execution_count": null,
   "id": "270fe701-f6e1-49c9-9c9c-ae0828a0992c",
   "metadata": {},
   "outputs": [],
   "source": []
  },
  {
   "cell_type": "code",
   "execution_count": null,
   "id": "9491e56b-6547-4ad5-ba82-d0fa1cd40b7f",
   "metadata": {},
   "outputs": [],
   "source": []
  },
  {
   "cell_type": "code",
   "execution_count": null,
   "id": "3f6ef80a-bee0-4c31-8f9c-66d6e8353a9d",
   "metadata": {},
   "outputs": [],
   "source": []
  },
  {
   "cell_type": "code",
   "execution_count": null,
   "id": "e962c27c-45da-48b3-920d-3cc65ee87ac3",
   "metadata": {},
   "outputs": [],
   "source": []
  },
  {
   "cell_type": "code",
   "execution_count": null,
   "id": "9e1e949f-441c-431e-bf8f-b3e885cb00b4",
   "metadata": {},
   "outputs": [],
   "source": []
  },
  {
   "cell_type": "code",
   "execution_count": null,
   "id": "36e94d2e-656e-4445-803e-dc10f10255a7",
   "metadata": {},
   "outputs": [],
   "source": []
  },
  {
   "cell_type": "code",
   "execution_count": null,
   "id": "53a369f8-e743-4047-8867-565c5d5d8873",
   "metadata": {},
   "outputs": [],
   "source": []
  },
  {
   "cell_type": "code",
   "execution_count": null,
   "id": "0e059337-af21-469f-a209-93cb4f99abd4",
   "metadata": {},
   "outputs": [],
   "source": []
  },
  {
   "cell_type": "code",
   "execution_count": null,
   "id": "2fa611ab-1d75-447a-b771-6288ee7395a8",
   "metadata": {},
   "outputs": [],
   "source": []
  },
  {
   "cell_type": "code",
   "execution_count": null,
   "id": "a1d59b56-dd7d-4a7e-9acf-3fa992bffe01",
   "metadata": {},
   "outputs": [],
   "source": []
  },
  {
   "cell_type": "code",
   "execution_count": null,
   "id": "cc0b9e58-d8ae-43d3-8e81-fc6493f93b86",
   "metadata": {},
   "outputs": [],
   "source": []
  },
  {
   "cell_type": "code",
   "execution_count": null,
   "id": "4959bd19-4180-42cb-9e17-88c3b5ed43a8",
   "metadata": {},
   "outputs": [],
   "source": []
  },
  {
   "cell_type": "code",
   "execution_count": null,
   "id": "762fc8d3-f7b0-4fca-8d87-3b5c9552b9a5",
   "metadata": {},
   "outputs": [],
   "source": []
  },
  {
   "cell_type": "code",
   "execution_count": null,
   "id": "6e5454c9-b295-4642-87a2-b3c81c36e1ec",
   "metadata": {},
   "outputs": [],
   "source": []
  },
  {
   "cell_type": "code",
   "execution_count": null,
   "id": "7524d562-5431-4210-b678-ca443e434352",
   "metadata": {},
   "outputs": [],
   "source": []
  },
  {
   "cell_type": "code",
   "execution_count": null,
   "id": "d389a007-49ca-465d-ba95-22b3084d1fca",
   "metadata": {},
   "outputs": [],
   "source": []
  },
  {
   "cell_type": "code",
   "execution_count": null,
   "id": "bbe57c0b-ee79-4a45-8542-b94967f083e7",
   "metadata": {},
   "outputs": [],
   "source": []
  },
  {
   "cell_type": "code",
   "execution_count": null,
   "id": "d8c3828c-f4ab-448e-97d6-acaf7fa84792",
   "metadata": {},
   "outputs": [],
   "source": []
  },
  {
   "cell_type": "code",
   "execution_count": null,
   "id": "326da2e5-2b2e-45ec-845d-640982df54c0",
   "metadata": {},
   "outputs": [],
   "source": []
  }
 ],
 "metadata": {
  "kernelspec": {
   "display_name": "Python 3 (ipykernel)",
   "language": "python",
   "name": "python3"
  },
  "language_info": {
   "codemirror_mode": {
    "name": "ipython",
    "version": 3
   },
   "file_extension": ".py",
   "mimetype": "text/x-python",
   "name": "python",
   "nbconvert_exporter": "python",
   "pygments_lexer": "ipython3",
   "version": "3.11.8"
  }
 },
 "nbformat": 4,
 "nbformat_minor": 5
}
